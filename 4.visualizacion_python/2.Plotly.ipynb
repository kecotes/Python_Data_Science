{
 "cells": [
  {
   "attachments": {},
   "cell_type": "markdown",
   "metadata": {
    "id": "bvc99QBweGZz"
   },
   "source": [
    "---\n",
    "<font size=\"6\"><center>Plotly</font></center>\n",
    "\n",
    "La librería de funciones [`Plotly`](https://plotly.com/) permite crear gráficos en los cual el usuario puede interactuar con él. La variedad de gráficos que se pueden crear es muy amplia y se pueden crear gráficos muy interesantes y útiles con pocas líneas de programación.\n",
    "\n",
    "Si queremos profundizar en algún gráfico, podemos recurrir a su [galería](https://plotly.com/python/) ya que viene muchos ejemplos y muy bien explicado.\n",
    "\n",
    "---"
   ]
  },
  {
   "attachments": {},
   "cell_type": "markdown",
   "metadata": {
    "id": "3zFn45zygEC5"
   },
   "source": [
    "# Instalación e importación\n",
    "\n",
    "El proceso de instalación y cómo lo llamaremos lo haremos de la siguiente manera"
   ]
  },
  {
   "cell_type": "code",
   "execution_count": null,
   "metadata": {
    "colab": {
     "base_uri": "https://localhost:8080/"
    },
    "id": "4K-KI2lCg8W_",
    "outputId": "73fc80f8-2830-4ee8-8014-984451e4e448"
   },
   "outputs": [],
   "source": [
    "# --\n",
    "# Instalación\n",
    "# --\n",
    "!pip install plotly"
   ]
  },
  {
   "attachments": {},
   "cell_type": "markdown",
   "metadata": {
    "id": "IKbLwEu8hCvX"
   },
   "source": [
    "Dentro de la librería de plotly (que es muy extensa) vamos a centrarnos en el paquete `.graph_objs`. Se suele llamar como `go`."
   ]
  },
  {
   "cell_type": "code",
   "execution_count": null,
   "metadata": {
    "id": "FuhtFG-ZhPh3"
   },
   "outputs": [],
   "source": [
    "from plotly import graph_objs as go"
   ]
  },
  {
   "attachments": {},
   "cell_type": "markdown",
   "metadata": {
    "id": "KLhnmnmxhUpn"
   },
   "source": [
    "O directamente"
   ]
  },
  {
   "cell_type": "code",
   "execution_count": null,
   "metadata": {
    "id": "eRSyGfC-ZS-O"
   },
   "outputs": [],
   "source": [
    "# --\n",
    "# Importación\n",
    "# --\n",
    "import plotly.graph_objs as go"
   ]
  },
  {
   "attachments": {},
   "cell_type": "markdown",
   "metadata": {
    "id": "MAxEHSbIhZ4f"
   },
   "source": [
    "# **`go.Figure`**\n",
    "La forma más sencilla de comentar un gráfico es instanciarlo priemro con el comando `go.Figure()`.\n",
    "\n",
    "Una vez instanciado, añadiremos las series que queramos, luego los formatos del gráfico y, finalmente, mostramos el gráfico con el comando `.show()`.\n",
    "\n",
    "Resúmen:\n",
    "* `fig = go.Figure()`: Inicial el gráfico.\n",
    "* `fig.add_trace()`: Añadir serie. Veremos más adelante qué introducir en el paréntesis.\n",
    "* `fig.show()`: Mostrar el gráfico"
   ]
  },
  {
   "cell_type": "code",
   "execution_count": null,
   "metadata": {
    "colab": {
     "base_uri": "https://localhost:8080/",
     "height": 542
    },
    "id": "zeiZ7Hghe7jZ",
    "outputId": "4c35408b-319d-4926-8ea5-90e53914cac3"
   },
   "outputs": [],
   "source": [
    "fig = go.Figure()\n",
    "fig.show()"
   ]
  },
  {
   "attachments": {},
   "cell_type": "markdown",
   "metadata": {
    "id": "xJjGB0iTh943"
   },
   "source": [
    "## ¿Qué nos encontramos en el gráfico?\n",
    "Como se ha dicho al principio, este tipo de gráficos permite interactuar con él. Para ello, arriba a la izqueirda de los gráficos aparecen los siguientes botones:\n",
    "* *Download plot as png*: Podemos descargar el gráfico como foto\n",
    "* *Zoom*: Hacer zoom. Si usamos el ratón para seleccionar una parte del gráfico, es equivalente y más dinámico\n",
    "* *Pan*: Mover el gráfico\n",
    "* *Zoom in/Zoom out*: Acercar o alejar la imagen\n",
    "* *Autoscale*. Escalar automáticamente\n",
    "* *Reset Axes* Volver al gráfico original\n",
    "* *Toggle Spike Lines*: Activa el trazado\n",
    "* *Show closest data on hover*. Mostrar la etiqueta del dato más cercano\n",
    "* *Compare data on hover*. Mostrar todas las etiquetas más cercanas de todas las series\n"
   ]
  },
  {
   "attachments": {},
   "cell_type": "markdown",
   "metadata": {
    "id": "TT1xzVDWk_hw"
   },
   "source": [
    "# **`go.Scatter`**\n",
    "Es el comando más usual. Con él, podemos crear gráficos tanto de puntos como de líneas (los más usuales)."
   ]
  },
  {
   "cell_type": "code",
   "execution_count": null,
   "metadata": {
    "id": "bwS2_QgUgeuW"
   },
   "outputs": [],
   "source": [
    "# --\n",
    "# Definimos los datos\n",
    "# --\n",
    "eje_x = [1, 2, 3, 4, 5, 6, 7, 8, 9]\n",
    "eje_y = [1, 3, 5, 3, 1, 3, 5, 3, 1]"
   ]
  },
  {
   "attachments": {},
   "cell_type": "markdown",
   "metadata": {
    "id": "w03RVY3ll37Y"
   },
   "source": [
    "Con el comando previo de añadir una serie (`.add_trace`), utilizamos la función `go.Scatter`. Los inputs más importantes:\n",
    "* `x`: Datos del eje x\n",
    "* `y`: Datos del eje y\n",
    "* `mode`: Tipo de gráfico. Por lo general, \"lines\" para líneas, \"markers\" para puntos y \"lines+markes\" para ambas.\n",
    "* `name`: Nombre de la serie para la leyenda\n",
    "* `visible`: True o False en función de si queremos que aparezca o no (veremos su utilidad más adelante)\n",
    "* `line_color`: Color de la serie\n",
    "* `marker_symbol`: Símbolo del dato"
   ]
  },
  {
   "attachments": {},
   "cell_type": "markdown",
   "metadata": {
    "id": "AaIeWY2KnOjY"
   },
   "source": [
    "Hacemos el gráfico más sencillo posible"
   ]
  },
  {
   "cell_type": "code",
   "execution_count": null,
   "metadata": {
    "colab": {
     "base_uri": "https://localhost:8080/",
     "height": 542
    },
    "id": "gKqaUk7efEd5",
    "outputId": "27868135-fc0f-410e-98b6-7a2382a91e13"
   },
   "outputs": [],
   "source": [
    "# --\n",
    "# Sólo necesitamos informar el set de datos del eje y\n",
    "# --\n",
    "fig = go.Figure()\n",
    "fig.add_trace(go.Scatter(y = eje_y))\n",
    "fig.show()"
   ]
  },
  {
   "attachments": {},
   "cell_type": "markdown",
   "metadata": {
    "id": "3IATSKRinYD6"
   },
   "source": [
    "Introducimos el eje x y le damos formato."
   ]
  },
  {
   "cell_type": "code",
   "execution_count": null,
   "metadata": {
    "colab": {
     "base_uri": "https://localhost:8080/",
     "height": 542
    },
    "id": "IMxMhLWBnaqc",
    "outputId": "894f7cf5-b054-409b-f242-027f033115bd"
   },
   "outputs": [],
   "source": [
    "# --\n",
    "# Informamos eje x y el formato de la serie\n",
    "# --\n",
    "fig = go.Figure()\n",
    "fig.add_trace(go.Scatter(x = eje_x, \n",
    "                         y = eje_y,\n",
    "                         mode = \"lines\",\n",
    "                         name = 'Líneas',\n",
    "                         line_color = 'rgb(216,69,25)'))\n",
    "\n",
    "fig.show()"
   ]
  },
  {
   "attachments": {},
   "cell_type": "markdown",
   "metadata": {
    "id": "1u-YX5sNovNo"
   },
   "source": [
    "Si queremos meter más series, es tan sencillo como parametrizar una debajo de otra y crear el gráfico."
   ]
  },
  {
   "cell_type": "code",
   "execution_count": 1,
   "metadata": {
    "colab": {
     "base_uri": "https://localhost:8080/",
     "height": 542
    },
    "id": "m0HO47Uwozj_",
    "outputId": "69562a3f-a1b8-4cd6-da3d-f3eacbf38ee6"
   },
   "outputs": [
    {
     "ename": "NameError",
     "evalue": "name 'eje_x' is not defined",
     "output_type": "error",
     "traceback": [
      "\u001b[0;31m---------------------------------------------------------------------------\u001b[0m",
      "\u001b[0;31mNameError\u001b[0m                                 Traceback (most recent call last)",
      "Cell \u001b[0;32mIn[1], line 5\u001b[0m\n\u001b[1;32m      1\u001b[0m \u001b[39m# --\u001b[39;00m\n\u001b[1;32m      2\u001b[0m \u001b[39m# Definimos los nuevos datos\u001b[39;00m\n\u001b[1;32m      3\u001b[0m \u001b[39m# --\u001b[39;00m\n\u001b[1;32m      4\u001b[0m \u001b[39mimport\u001b[39;00m \u001b[39mnumpy\u001b[39;00m \u001b[39mas\u001b[39;00m \u001b[39mnp\u001b[39;00m\n\u001b[0;32m----> 5\u001b[0m eje_x_bis \u001b[39m=\u001b[39m eje_x\n\u001b[1;32m      6\u001b[0m eje_y_bis \u001b[39m=\u001b[39m np\u001b[39m.\u001b[39msin(eje_y)\n\u001b[1;32m      8\u001b[0m \u001b[39m# --\u001b[39;00m\n\u001b[1;32m      9\u001b[0m \u001b[39m# Definimos primero una serie y luego la segunda\u001b[39;00m\n\u001b[1;32m     10\u001b[0m \u001b[39m# --\u001b[39;00m\n\u001b[1;32m     11\u001b[0m \n\u001b[1;32m     12\u001b[0m \u001b[39m# Primera serie\u001b[39;00m\n",
      "\u001b[0;31mNameError\u001b[0m: name 'eje_x' is not defined"
     ]
    }
   ],
   "source": [
    "# --\n",
    "# Definimos los nuevos datos\n",
    "# --\n",
    "import numpy as np\n",
    "eje_x_bis = eje_x\n",
    "eje_y_bis = np.sin(eje_y)\n",
    "\n",
    "# --\n",
    "# Definimos primero una serie y luego la segunda\n",
    "# --\n",
    "\n",
    "# Primera serie\n",
    "fig = go.Figure()\n",
    "fig.add_trace(go.Scatter(x = eje_x, \n",
    "                         y = eje_y,\n",
    "                         mode = \"lines\",\n",
    "                         name = 'Líneas',\n",
    "                         line_color = 'rgb(216,69,25)'))\n",
    "\n",
    "# Segunda serie\n",
    "fig.add_trace(go.Scatter(x = eje_x, \n",
    "                         y = eje_y_bis,\n",
    "                         mode = \"markers\",\n",
    "                         name = 'Puntos',\n",
    "                         line_color = 'green',\n",
    "                         marker_symbol = 'x'))\n",
    "\n",
    "fig.show()"
   ]
  },
  {
   "attachments": {},
   "cell_type": "markdown",
   "metadata": {
    "id": "GRdMVpbtqbZg"
   },
   "source": [
    "Podemos formatear tanto los puntos como las líneas de ambas series.\n",
    "\n",
    "* Para formatear los puntos, usar esta [página](https://plotly.com/python/marker-style/) de referencia.\n",
    "* Para formatear las líneas, usar esta [página](https://plotly.com/python/line-charts//) de referencia."
   ]
  },
  {
   "attachments": {},
   "cell_type": "markdown",
   "metadata": {
    "id": "uvewMUFtsI-d"
   },
   "source": [
    "## Creando gráficos interesantes\n",
    "A continuación, ponemos algunos ejemplos de gráficos que se peuden hacer rápidamente."
   ]
  },
  {
   "attachments": {},
   "cell_type": "markdown",
   "metadata": {
    "id": "ZsIe3bljsR3e"
   },
   "source": [
    "### Poner texto a cada dato en el gráfico"
   ]
  },
  {
   "cell_type": "code",
   "execution_count": null,
   "metadata": {
    "colab": {
     "base_uri": "https://localhost:8080/",
     "height": 542
    },
    "id": "7hH04YKgsDhW",
    "outputId": "c0b0d7ca-b3ee-443a-caa8-3cac501c6d74"
   },
   "outputs": [],
   "source": [
    "import plotly.graph_objects as go\n",
    "import pandas as pd\n",
    "\n",
    "data= pd.read_csv(\"https://raw.githubusercontent.com/plotly/datasets/master/2014_usa_states.csv\")\n",
    "\n",
    "fig = go.Figure(data=go.Scatter(x=data['Postal'],\n",
    "                                y=data['Population'],\n",
    "                                mode='markers',\n",
    "                                marker_color=data['Population'],\n",
    "                                text=data['State']))\n",
    "\n",
    "fig.show()"
   ]
  },
  {
   "attachments": {},
   "cell_type": "markdown",
   "metadata": {
    "id": "1uSQFa-GsZJf"
   },
   "source": [
    "### Poner escala de colores"
   ]
  },
  {
   "cell_type": "code",
   "execution_count": null,
   "metadata": {
    "colab": {
     "base_uri": "https://localhost:8080/",
     "height": 542
    },
    "id": "m0wjYE9-sc04",
    "outputId": "f641fde4-2e48-4f94-d164-fcf1f1896212"
   },
   "outputs": [],
   "source": [
    "import plotly.graph_objects as go\n",
    "import numpy as np\n",
    "\n",
    "fig = go.Figure(data=go.Scatter(\n",
    "    y = np.random.randn(500),\n",
    "    mode='markers',\n",
    "    marker=dict(\n",
    "        size=16,\n",
    "        color=np.random.randn(500),\n",
    "        colorscale='Viridis', \n",
    "        showscale=True\n",
    "    )\n",
    "))\n",
    "\n",
    "fig.show()"
   ]
  },
  {
   "attachments": {},
   "cell_type": "markdown",
   "metadata": {
    "id": "JKxIr_QAswqW"
   },
   "source": [
    "### Tamaño de los puntos en función de los datos"
   ]
  },
  {
   "cell_type": "code",
   "execution_count": null,
   "metadata": {
    "colab": {
     "base_uri": "https://localhost:8080/",
     "height": 542
    },
    "id": "ZVl9PDHus0Rf",
    "outputId": "d7e52df3-111e-4ab6-d95b-c0211ee4c00e"
   },
   "outputs": [],
   "source": [
    "import plotly.graph_objects as go\n",
    "\n",
    "fig = go.Figure(data=go.Scatter(\n",
    "    x=[1, 2, 3, 4],\n",
    "    y=[10, 11, 12, 13],\n",
    "    mode='markers',\n",
    "    marker=dict(size=[40, 60, 80, 100],\n",
    "                color=[0, 1, 2, 3])\n",
    "))\n",
    "\n",
    "fig.show()"
   ]
  },
  {
   "attachments": {},
   "cell_type": "markdown",
   "metadata": {
    "id": "w9VW2WrmtaFh"
   },
   "source": [
    "# **`go.update_`**\n",
    "Para formatear el resto del gráfico (y no las series), usaremos los comandos:\n",
    "\n",
    "* `update_layout`\n",
    "* `update_xaxes`"
   ]
  },
  {
   "attachments": {},
   "cell_type": "markdown",
   "metadata": {
    "id": "c8T2cU3WuiXD"
   },
   "source": [
    "## **`go.update_layout`**\n",
    "Usaremos este comando para introducir los siguientes parámetros (todos opcionales):\n",
    "* `title_text`: Texto del título\n",
    "* `height`: Alto del gráfico\n",
    "* `width`: Ancho del gráfico\n",
    "* `showlegend`: True o False para mostrar o no la leyenda\n",
    "* `updatemenus`: Interesante cuando tenemos varias series y queremos elegir una u otra con un desplegable"
   ]
  },
  {
   "cell_type": "code",
   "execution_count": null,
   "metadata": {
    "id": "eg8hPANwvkYi"
   },
   "outputs": [],
   "source": [
    "# --\n",
    "# Definimos los datos\n",
    "# --\n",
    "import plotly.graph_objects as go\n",
    "\n",
    "# Generate dataset\n",
    "import numpy as np\n",
    "np.random.seed(1)\n",
    "\n",
    "x0 = np.random.normal(2, 0.4, 400)\n",
    "y0 = np.random.normal(2, 0.4, 400)\n",
    "x1 = np.random.normal(3, 0.6, 600)\n",
    "y1 = np.random.normal(6, 0.4, 400)\n",
    "x2 = np.random.normal(4, 0.2, 200)\n",
    "y2 = np.random.normal(4, 0.4, 200)\n",
    "\n"
   ]
  },
  {
   "attachments": {},
   "cell_type": "markdown",
   "metadata": {
    "id": "7sZx133NvvoO"
   },
   "source": [
    "Probamos a crear un gráfico conjunto"
   ]
  },
  {
   "cell_type": "code",
   "execution_count": null,
   "metadata": {
    "colab": {
     "base_uri": "https://localhost:8080/",
     "height": 542
    },
    "id": "2-yvPlB3vywZ",
    "outputId": "b317b79a-57e1-4629-adc5-0258f5c9c6ef"
   },
   "outputs": [],
   "source": [
    "# --\n",
    "# Creamos el gráfico\n",
    "# --\n",
    "fig = go.Figure()\n",
    "\n",
    "# --\n",
    "# Añadimos las series\n",
    "# --\n",
    "\n",
    "fig.add_trace(\n",
    "    go.Scatter(\n",
    "        x=x0,\n",
    "        y=y0,\n",
    "        mode=\"markers\",\n",
    "        marker=dict(color=\"red\")))\n",
    "\n",
    "fig.add_trace(\n",
    "    go.Scatter(\n",
    "        x=x1,\n",
    "        y=y1,\n",
    "        mode=\"markers\",\n",
    "        marker=dict(color=\"green\")))\n",
    "\n",
    "fig.add_trace(\n",
    "    go.Scatter(\n",
    "        x=x2,\n",
    "        y=y2,\n",
    "        mode=\"markers\",\n",
    "        marker=dict(color=\"blue\")))\n",
    "\n",
    "\n",
    "# --\n",
    "# Mostramos el gráfico\n",
    "# --\n",
    "fig.show()"
   ]
  },
  {
   "attachments": {},
   "cell_type": "markdown",
   "metadata": {
    "id": "P_yeMyJewJxW"
   },
   "source": [
    "### **title_text** y **showlegend**\n",
    "Ahora, añadimos el título y quitamos la leyenda"
   ]
  },
  {
   "cell_type": "code",
   "execution_count": null,
   "metadata": {
    "colab": {
     "base_uri": "https://localhost:8080/",
     "height": 617
    },
    "id": "0oW7nsDmwNPA",
    "outputId": "238b95dd-06fe-4c5a-d10f-28742b6b51c1"
   },
   "outputs": [],
   "source": [
    "# --\n",
    "# Creamos el gráfico\n",
    "# --\n",
    "fig = go.Figure()\n",
    "\n",
    "# --\n",
    "# Añadimos las series\n",
    "# --\n",
    "\n",
    "fig.add_trace(\n",
    "    go.Scatter(\n",
    "        x=x0,\n",
    "        y=y0,\n",
    "        mode=\"markers\",\n",
    "        marker=dict(color=\"red\")))\n",
    "\n",
    "fig.add_trace(\n",
    "    go.Scatter(\n",
    "        x=x1,\n",
    "        y=y1,\n",
    "        mode=\"markers\",\n",
    "        marker=dict(color=\"green\")))\n",
    "\n",
    "fig.add_trace(\n",
    "    go.Scatter(\n",
    "        x=x2,\n",
    "        y=y2,\n",
    "        mode=\"markers\",\n",
    "        marker=dict(color=\"blue\")))\n",
    "\n",
    "\n",
    "# --\n",
    "# Añadimos el título y quitamos la leyenda\n",
    "# --\n",
    "fig.update_layout(title_text=\"Clusters\",\n",
    "                  width = 600,\n",
    "                  height = 600,\n",
    "                  showlegend=False)\n",
    "\n",
    "# --\n",
    "# Mostramos el gráfico\n",
    "# --\n",
    "fig.show()"
   ]
  },
  {
   "attachments": {},
   "cell_type": "markdown",
   "metadata": {
    "id": "f-V5D31Swm34"
   },
   "source": [
    "### **updatemenus**\n",
    "Esta es, quizá, la parte más complicada. Crearemos un desplegable que significará una \"escena\" distinta, jugando con la variable \"visible\". Los pasos a seguir son:\n",
    "\n",
    "\n",
    "1.   Iniciamos la lista en vacío\n",
    "2.   Vamos añadiendo el diccionario siguiente:\n",
    "  \n",
    "  2.1. **label**: Etiqueta de la escena\n",
    "\n",
    "  2.2. **method**: Pondremos \"update\"\n",
    "\n",
    "  2.3. **args**: Será otro diccionario en el que pondremos el título que queremos que aparezca en el gráfico y, por otro lado, la lista \"visible\" de \"True\" o \"False\" de longitud igual al número de series, ya que cada elemento de la lista representa una serie.\n",
    "\n",
    "Lo vemos a continuación con un ejemplo\n",
    "\n",
    "\n",
    "\n",
    "\n",
    "\n"
   ]
  },
  {
   "cell_type": "code",
   "execution_count": null,
   "metadata": {
    "colab": {
     "base_uri": "https://localhost:8080/",
     "height": 542
    },
    "id": "ey6Q3axVxbrw",
    "outputId": "b3094ad0-764d-4ebd-de45-fad875d0b50b"
   },
   "outputs": [],
   "source": [
    "# --\n",
    "# Creamos el gráfico\n",
    "# --\n",
    "fig = go.Figure()\n",
    "\n",
    "\n",
    "# --\n",
    "# Añadimos las series\n",
    "# --\n",
    "\n",
    "fig.add_trace(\n",
    "    go.Scatter(\n",
    "        x=x0,\n",
    "        y=y0,\n",
    "        mode=\"markers\",\n",
    "        marker=dict(color=\"red\")))\n",
    "\n",
    "fig.add_trace(\n",
    "    go.Scatter(\n",
    "        x=x1,\n",
    "        y=y1,\n",
    "        mode=\"markers\",\n",
    "        marker=dict(color=\"green\")))\n",
    "\n",
    "fig.add_trace(\n",
    "    go.Scatter(\n",
    "        x=x2,\n",
    "        y=y2,\n",
    "        mode=\"markers\",\n",
    "        marker=dict(color=\"blue\")))\n",
    "\n",
    "# --\n",
    "# Inicializamos la lista de botones\n",
    "# --\n",
    "l_botones = []\n",
    "\n",
    "# --\n",
    "# Añadimos cada botón\n",
    "# --\n",
    "l_botones.append(dict(label = \"Todos\",\n",
    "                        method = \"update\",\n",
    "                        args = [{\"visible\": [True, True, True]},\n",
    "                                {\"title\" : \"Todos los datos\"}]))\n",
    "\n",
    "l_botones.append(dict(label = \"Rojo\",\n",
    "                        method = \"update\",\n",
    "                        args = [{\"visible\": [True, False, False]},\n",
    "                                {\"title\" : \"Datos para rojo\"}]))\n",
    "\n",
    "l_botones.append(dict(label = \"Verde\",\n",
    "                        method = \"update\",\n",
    "                        args = [{\"visible\": [False, True, False]},\n",
    "                                {\"title\" : \"Datos para verde\"}]))\n",
    "\n",
    "l_botones.append(dict(label = \"Azul\",\n",
    "                        method = \"update\",\n",
    "                        args = [{\"visible\": [False, False, True]},\n",
    "                                {\"title\" : \"Datos para azul\"}]))\n",
    "\n",
    "\n",
    "\n",
    "\n",
    "# --\n",
    "# Añadimos el título y quitamos la leyenda\n",
    "# --\n",
    "fig.update_layout(title_text=\"Clusters\",\n",
    "    showlegend=False,\n",
    "    updatemenus = [dict(active = 0, buttons = list(l_botones))])\n",
    "\n",
    "# --\n",
    "# Mostramos el gráfico\n",
    "# --\n",
    "fig.show()"
   ]
  },
  {
   "attachments": {},
   "cell_type": "markdown",
   "metadata": {
    "id": "RhWZOC8a2ODO"
   },
   "source": [
    "## **`go.update_xaxes`**\n",
    "Usaremos este comando para introducir los siguientes parámetros más interesantes(todos opcionales):\n",
    "* `title_text`: Texto del eje\n",
    "* `tickangle `: Ángulo de los ticks del eje\n",
    "* `title_font `: Diccionario con su configuración\n",
    "* `showgrid`: True o False\n",
    "* `rangeselector`: Para datos tipo fecha, se puede crear un selector de datos que, al pulsar, nos aparezca el último mes, o último año o últimos 6 meses,...\n",
    "\n",
    "Todo esto también puede ser formateado de la misma manera para el eje y. Toda la documentación, [aquí](https://plotly.com/python/axes/)."
   ]
  },
  {
   "cell_type": "code",
   "execution_count": null,
   "metadata": {
    "colab": {
     "base_uri": "https://localhost:8080/",
     "height": 235
    },
    "id": "otG_jxzr37aD",
    "outputId": "e75d2a12-1bfd-43b1-82aa-640cfec91b68"
   },
   "outputs": [],
   "source": [
    "# --\n",
    "# Definimos los datos\n",
    "# --\n",
    "import plotly.graph_objects as go\n",
    "import pandas as pd\n",
    "\n",
    "# Load and filter Apple stock data for 2016\n",
    "apple_df = pd.read_csv(\n",
    "    \"https://raw.githubusercontent.com/plotly/datasets/master/finance-charts-apple.csv\",\n",
    "    parse_dates=[\"Date\"],\n",
    "    index_col=\"Date\"\n",
    ")\n",
    "\n",
    "apple_df_2016 = apple_df[\"2016\"]\n",
    "\n",
    "apple_df_2016.head()"
   ]
  },
  {
   "attachments": {},
   "cell_type": "markdown",
   "metadata": {
    "id": "Nz3rGR3h5Of_"
   },
   "source": [
    "Definimos el gráfico base"
   ]
  },
  {
   "cell_type": "code",
   "execution_count": null,
   "metadata": {
    "colab": {
     "base_uri": "https://localhost:8080/",
     "height": 542
    },
    "id": "p8Nc30Jq5RCE",
    "outputId": "c7d13f45-e099-4574-b05a-c2f3b511e150"
   },
   "outputs": [],
   "source": [
    "# --\n",
    "# Definimos el gráfico\n",
    "# --\n",
    "\n",
    "fig = go.Figure()\n",
    "fig.add_trace(go.Scatter(\n",
    "    x=apple_df_2016.index,\n",
    "    y=apple_df_2016[\"AAPL.High\"],\n",
    "    mode=\"lines\"\n",
    "))\n",
    "\n",
    "fig.show()"
   ]
  },
  {
   "attachments": {},
   "cell_type": "markdown",
   "metadata": {
    "id": "IZkpTjKh5m_9"
   },
   "source": [
    "Damos formato al eje"
   ]
  },
  {
   "cell_type": "code",
   "execution_count": null,
   "metadata": {
    "colab": {
     "base_uri": "https://localhost:8080/",
     "height": 542
    },
    "id": "gcI_ysjP5ofH",
    "outputId": "6100ebfb-96b6-44f1-9639-de0a6c2ef631"
   },
   "outputs": [],
   "source": [
    "# --\n",
    "# Creamos el gráfico base\n",
    "# --\n",
    "# Create figure and add line\n",
    "fig = go.Figure()\n",
    "fig.add_trace(go.Scatter(\n",
    "    x=apple_df_2016.index,\n",
    "    y=apple_df_2016[\"AAPL.High\"],\n",
    "    mode=\"lines\"\n",
    "))\n",
    "\n",
    "# --\n",
    "# Formateamos el eje X y su grid\n",
    "# --\n",
    "fig.update_xaxes(\n",
    "    ticktext=[\"End of Q1\", \"End of Q2\", \"End of Q3\", \"End of Q4\"],\n",
    "    tickvals=[\"2016-04-01\", \"2016-07-01\", \"2016-10-01\", apple_df_2016.index.max()],\n",
    "    tickangle = 45,\n",
    "    showgrid = True,\n",
    "    gridwidth=1, \n",
    "    gridcolor='LightPink')\n",
    "\n",
    "\n",
    "# --\n",
    "# Ponemos título\n",
    "# --\n",
    "fig.update_layout(title_text=\"Apple\")\n",
    "\n",
    "fig.show()"
   ]
  },
  {
   "attachments": {},
   "cell_type": "markdown",
   "metadata": {
    "id": "2m9MvYm-A7lE"
   },
   "source": [
    "Otro ejemplo, con fechas"
   ]
  },
  {
   "cell_type": "code",
   "execution_count": null,
   "metadata": {
    "colab": {
     "base_uri": "https://localhost:8080/",
     "height": 542
    },
    "id": "QdlLfmxeA8_G",
    "outputId": "c7186a7e-35e3-4dd5-8cba-1a32c4726c7d"
   },
   "outputs": [],
   "source": [
    "# --\n",
    "# Creamos el gráfico base\n",
    "# --\n",
    "# Create figure and add line\n",
    "fig = go.Figure()\n",
    "fig.add_trace(go.Scatter(\n",
    "    x=apple_df_2016.index,\n",
    "    y=apple_df_2016[\"AAPL.High\"],\n",
    "    mode=\"lines\"\n",
    "))\n",
    "\n",
    "# --\n",
    "# Formateamos el eje X y su grid\n",
    "# --\n",
    "fig.update_xaxes(rangeselector= dict(buttons = list([dict(count = 1, label = \"1m\", step = \"month\"),\n",
    "                                                     dict(count = 6, label = \"6\", step = \"month\"),\n",
    "                                                     dict(step = \"all\")])), showgrid = True,    gridwidth=1,     gridcolor='LightPink')\n",
    "\n",
    "\n",
    "# --\n",
    "# Ponemos título\n",
    "# --\n",
    "fig.update_layout(title_text=\"Apple\")\n",
    "\n",
    "fig.show()"
   ]
  },
  {
   "attachments": {},
   "cell_type": "markdown",
   "metadata": {
    "id": "7n5fsxvw7iE7"
   },
   "source": [
    "# **`make_subplots`**\n",
    "Dentro del paquete `plotly.subplots`, entoncramos la función `make_subplots` que nos servirá para crear varios gráficos en uno."
   ]
  },
  {
   "cell_type": "code",
   "execution_count": null,
   "metadata": {
    "id": "XypQIQvY8Msa"
   },
   "outputs": [],
   "source": [
    "# --\n",
    "# Importamos la función\n",
    "# --\n",
    "from plotly.subplots import make_subplots"
   ]
  },
  {
   "attachments": {},
   "cell_type": "markdown",
   "metadata": {
    "id": "jmV-EicP8d1u"
   },
   "source": [
    "Los argumentos más comunes son:\n",
    "* `rows`: Número de gráficos hacia abajo\n",
    "* `cols`: Número de gráficos hacia la derecha\n",
    "* `shared_xaxes`: Si queremos que se compartan el eje x\n",
    "* `shared_yaxes`: Si queremos que se compartan el eje y\n",
    "* `horizontal_spacing`: Si queremos una separación más grande entre un gráfico y otro en columnas\n",
    "* `vertical_spacing`: Si queremos una separación más grande entre un gráfico y otro en filas"
   ]
  },
  {
   "cell_type": "code",
   "execution_count": null,
   "metadata": {
    "colab": {
     "base_uri": "https://localhost:8080/",
     "height": 617
    },
    "id": "ab5UUO_z8K7P",
    "outputId": "1105f5c3-eba3-48f3-9958-ecf8d7f7a0d5"
   },
   "outputs": [],
   "source": [
    "# --\n",
    "# Primero definimos el subplot\n",
    "# --\n",
    "fig = make_subplots(rows=2, cols=2,\n",
    "                    shared_xaxes=True,\n",
    "                    shared_yaxes = True,\n",
    "                    vertical_spacing=0.02,\n",
    "                    horizontal_spacing=0.04)\n",
    "\n",
    "# --\n",
    "# Añadimos las series\n",
    "# --\n",
    "fig.add_trace(go.Scatter(x=[0, 1, 2], y=[1050, 1150, 1250]),\n",
    "              row=1, col=1)\n",
    "\n",
    "fig.add_trace(go.Scatter(x=[0, 1, 2], y=[100, 110, 120]),\n",
    "              row=2, col=1)\n",
    "\n",
    "fig.add_trace(go.Scatter(x=[30, 40, 50], y=[1000, 1100, 1200]),\n",
    "              row=1, col=2)\n",
    "\n",
    "fig.add_trace(go.Scatter(x=[30, 40, 50], y=[50, 115, 125]),\n",
    "              row=2, col=2)\n",
    "\n",
    "# --\n",
    "# Actualizamos el gráfico con texto y dimesiones\n",
    "# --\n",
    "fig.update_layout(height=600, width=600,\n",
    "                  title_text=\"Ejemplo de subplots\")\n",
    "fig.show()"
   ]
  },
  {
   "attachments": {},
   "cell_type": "markdown",
   "metadata": {
    "id": "T8ghmdyXFXzz"
   },
   "source": [
    "# Más allá de go.Scatter\n",
    "\n",
    "Existen en el mundo `plotly` muchos tipos de gráficos. Pondremos aquí un par de ejemplos, sacado de esta [web](https://plotly.com/python/)"
   ]
  },
  {
   "attachments": {},
   "cell_type": "markdown",
   "metadata": {
    "id": "HI1zQIR_Fvmj"
   },
   "source": [
    "## Gráfico de vela"
   ]
  },
  {
   "cell_type": "code",
   "execution_count": null,
   "metadata": {
    "colab": {
     "base_uri": "https://localhost:8080/",
     "height": 542
    },
    "id": "zP-VWqBaFyHs",
    "outputId": "ccf62c59-c678-4c13-de27-bdbbfbf187ee"
   },
   "outputs": [],
   "source": [
    "import plotly.graph_objects as go\n",
    "import pandas as pd\n",
    "\n",
    "\n",
    "df = pd.read_csv('https://raw.githubusercontent.com/plotly/datasets/master/finance-charts-apple.csv')\n",
    "\n",
    "fig = go.Figure(data=[go.Candlestick(x=df['Date'],\n",
    "                open=df['AAPL.Open'], high=df['AAPL.High'],\n",
    "                low=df['AAPL.Low'], close=df['AAPL.Close'])\n",
    "                      ])\n",
    "\n",
    "fig.update_layout(\n",
    "    title='Acción de Apple',\n",
    "    yaxis_title='AAPL Stock',\n",
    "    shapes = [dict(\n",
    "        x0='2016-12-09', x1='2016-12-09', y0=0, y1=1, xref='x', yref='paper',\n",
    "        line_width=2)],\n",
    "    annotations=[dict(\n",
    "        x='2016-12-09', y=0.05, xref='x', yref='paper',\n",
    "        showarrow=False, xanchor='left', text='Increase Period Begins')]\n",
    ")\n",
    "\n",
    "\n",
    "\n",
    "fig.show()"
   ]
  },
  {
   "attachments": {},
   "cell_type": "markdown",
   "metadata": {
    "id": "wR6fQEsRFikl"
   },
   "source": [
    "## Barra de selección de años animada"
   ]
  },
  {
   "cell_type": "code",
   "execution_count": null,
   "metadata": {
    "colab": {
     "base_uri": "https://localhost:8080/",
     "height": 542
    },
    "id": "40XFZSg2E0ft",
    "outputId": "4b06404e-3e59-458f-ff38-eac500ebec2b"
   },
   "outputs": [],
   "source": [
    "import plotly.express as px\n",
    "\n",
    "df = px.data.gapminder()\n",
    "fig = px.scatter(df, x=\"gdpPercap\", y=\"lifeExp\", animation_frame=\"year\", animation_group=\"country\",\n",
    "           size=\"pop\", color=\"continent\", hover_name=\"country\",\n",
    "           log_x=True, size_max=55, range_x=[100,100000], range_y=[25,90])\n",
    "\n",
    "fig[\"layout\"].pop(\"updatemenus\") \n",
    "fig.show()"
   ]
  },
  {
   "attachments": {},
   "cell_type": "markdown",
   "metadata": {
    "id": "Jg5ZcAZ5I10h"
   },
   "source": [
    "## Mapas interactivos"
   ]
  },
  {
   "cell_type": "code",
   "execution_count": null,
   "metadata": {
    "colab": {
     "base_uri": "https://localhost:8080/",
     "height": 542
    },
    "id": "poF9xDUnH_4l",
    "outputId": "99482de4-296b-4cdf-fbee-abf1e2ad82d1"
   },
   "outputs": [],
   "source": [
    "from urllib.request import urlopen\n",
    "import json\n",
    "with urlopen('https://raw.githubusercontent.com/plotly/datasets/master/geojson-counties-fips.json') as response:\n",
    "    counties = json.load(response)\n",
    "\n",
    "import pandas as pd\n",
    "df = pd.read_csv(\"https://raw.githubusercontent.com/plotly/datasets/master/fips-unemp-16.csv\",\n",
    "                   dtype={\"fips\": str})\n",
    "\n",
    "import plotly.graph_objects as go\n",
    "\n",
    "fig = go.Figure(go.Choroplethmapbox(geojson=counties, locations=df.fips, z=df.unemp,\n",
    "                                    colorscale=\"Viridis\", zmin=0, zmax=12,\n",
    "                                    marker_opacity=0.5, marker_line_width=0))\n",
    "fig.update_layout(mapbox_style=\"carto-positron\",\n",
    "                  mapbox_zoom=3, mapbox_center = {\"lat\": 37.0902, \"lon\": -95.7129})\n",
    "fig.update_layout(margin={\"r\":0,\"t\":0,\"l\":0,\"b\":0})\n",
    "fig.show()"
   ]
  },
  {
   "attachments": {},
   "cell_type": "markdown",
   "metadata": {},
   "source": [
    "## Ejemplo COVID-19"
   ]
  },
  {
   "cell_type": "code",
   "execution_count": null,
   "metadata": {},
   "outputs": [],
   "source": [
    "from datetime import datetime\n",
    "import numpy as np\n",
    "data = pd.read_csv('covid_19_2020.csv', sep = ';')\n",
    "data = data[data['dateRep'] == '01/12/2020'].copy()\n",
    "data['Date'] = data['dateRep'].apply(lambda x: datetime.strptime(x,\"%d/%m/%Y\"))\n",
    "\n",
    "fig = go.Figure(data=go.Scattergeo(\n",
    "        lon = data['Long'],\n",
    "        lat = data['Lat'],\n",
    "        text = data['countriesAndTerritories']+ ': ' + data['CumulativeRate'].astype(str),\n",
    "        mode = 'markers',\n",
    "        marker_size = 4.5,\n",
    "        marker = dict(reversescale = False,\n",
    "                      autocolorscale = False,\n",
    "                      symbol = 'circle',\n",
    "                      line = dict(width=1, color='rgba(102, 102, 102)'),\n",
    "                      colorscale = 'Reds',\n",
    "                      cmin = 0,\n",
    "                      color = data['CumulativeRate'],\n",
    "                      cmax = np.nanmax(data['CumulativeRate']),\n",
    "                      colorbar_title=\"Cumulative Rate\")))\n",
    "\n",
    "fig.update_layout(title = 'Números de casos activos por País/Estado',\n",
    "                  geo=dict(scope='world',\n",
    "                           showland = True,\n",
    "                           landcolor = \"rgb(145, 185, 87)\",\n",
    "                           showocean = True,\n",
    "                           oceancolor = \"rgb(223, 239, 240)\",\n",
    "                           showcountries=True,\n",
    "                           showsubunits=True,\n",
    "                           showlakes=False,))\n",
    "fig.show()\n"
   ]
  }
 ],
 "metadata": {
  "colab": {
   "collapsed_sections": [],
   "name": "Plotly.ipynb",
   "provenance": [],
   "toc_visible": true
  },
  "kernelspec": {
   "display_name": "Python 3",
   "language": "python",
   "name": "python3"
  },
  "language_info": {
   "codemirror_mode": {
    "name": "ipython",
    "version": 3
   },
   "file_extension": ".py",
   "mimetype": "text/x-python",
   "name": "python",
   "nbconvert_exporter": "python",
   "pygments_lexer": "ipython3",
   "version": "3.9.6"
  }
 },
 "nbformat": 4,
 "nbformat_minor": 1
}
