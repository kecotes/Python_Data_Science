{
 "cells": [
  {
   "attachments": {},
   "cell_type": "markdown",
   "metadata": {
    "id": "bvc99QBweGZz"
   },
   "source": [
    "---\n",
    "<font size=\"6\"><center>Plotly</font></center>\n",
    "\n",
    "La librería de funciones [`Plotly`](https://plotly.com/) permite crear gráficos en los cual el usuario puede interactuar con él. La variedad de gráficos que se pueden crear es muy amplia y se pueden crear gráficos muy interesantes y útiles con pocas líneas de programación.\n",
    "\n",
    "Si queremos profundizar en algún gráfico, podemos recurrir a su [galería](https://plotly.com/python/) ya que viene muchos ejemplos y muy bien explicado.\n",
    "\n",
    "---"
   ]
  },
  {
   "attachments": {},
   "cell_type": "markdown",
   "metadata": {
    "id": "3zFn45zygEC5"
   },
   "source": [
    "# Instalación e importación\n",
    "\n",
    "El proceso de instalación y cómo lo llamaremos lo haremos de la siguiente manera"
   ]
  },
  {
   "cell_type": "code",
   "execution_count": null,
   "metadata": {
    "colab": {
     "base_uri": "https://localhost:8080/"
    },
    "id": "4K-KI2lCg8W_",
    "outputId": "73fc80f8-2830-4ee8-8014-984451e4e448"
   },
   "outputs": [],
   "source": [
    "# --\n",
    "# Instalación\n",
    "# --\n",
    "!pip install plotly"
   ]
  },
  {
   "attachments": {},
   "cell_type": "markdown",
   "metadata": {
    "id": "IKbLwEu8hCvX"
   },
   "source": [
    "Dentro de la librería de plotly (que es muy extensa) vamos a centrarnos en el paquete `.graph_objs`. Se suele llamar como `go`."
   ]
  },
  {
   "cell_type": "code",
   "execution_count": 1,
   "metadata": {
    "id": "FuhtFG-ZhPh3"
   },
   "outputs": [],
   "source": [
    "from plotly import graph_objs as go"
   ]
  },
  {
   "attachments": {},
   "cell_type": "markdown",
   "metadata": {
    "id": "KLhnmnmxhUpn"
   },
   "source": [
    "O directamente"
   ]
  },
  {
   "cell_type": "code",
   "execution_count": 2,
   "metadata": {
    "id": "eRSyGfC-ZS-O"
   },
   "outputs": [],
   "source": [
    "# --\n",
    "# Importación\n",
    "# --\n",
    "import plotly.graph_objs as go"
   ]
  },
  {
   "attachments": {},
   "cell_type": "markdown",
   "metadata": {
    "id": "MAxEHSbIhZ4f"
   },
   "source": [
    "# **`go.Figure`**\n",
    "La forma más sencilla de comentar un gráfico es instanciarlo priemro con el comando `go.Figure()`.\n",
    "\n",
    "Una vez instanciado, añadiremos las series que queramos, luego los formatos del gráfico y, finalmente, mostramos el gráfico con el comando `.show()`.\n",
    "\n",
    "Resúmen:\n",
    "* `fig = go.Figure()`: Inicial el gráfico.\n",
    "* `fig.add_trace()`: Añadir serie. Veremos más adelante qué introducir en el paréntesis.\n",
    "* `fig.show()`: Mostrar el gráfico"
   ]
  },
  {
   "cell_type": "code",
   "execution_count": 3,
   "metadata": {
    "colab": {
     "base_uri": "https://localhost:8080/",
     "height": 542
    },
    "id": "zeiZ7Hghe7jZ",
    "outputId": "4c35408b-319d-4926-8ea5-90e53914cac3"
   },
   "outputs": [
    {
     "data": {
      "application/vnd.plotly.v1+json": {
       "config": {
        "plotlyServerURL": "https://plot.ly"
       },
       "data": [],
       "layout": {
        "template": {
         "data": {
          "bar": [
           {
            "error_x": {
             "color": "#2a3f5f"
            },
            "error_y": {
             "color": "#2a3f5f"
            },
            "marker": {
             "line": {
              "color": "#E5ECF6",
              "width": 0.5
             },
             "pattern": {
              "fillmode": "overlay",
              "size": 10,
              "solidity": 0.2
             }
            },
            "type": "bar"
           }
          ],
          "barpolar": [
           {
            "marker": {
             "line": {
              "color": "#E5ECF6",
              "width": 0.5
             },
             "pattern": {
              "fillmode": "overlay",
              "size": 10,
              "solidity": 0.2
             }
            },
            "type": "barpolar"
           }
          ],
          "carpet": [
           {
            "aaxis": {
             "endlinecolor": "#2a3f5f",
             "gridcolor": "white",
             "linecolor": "white",
             "minorgridcolor": "white",
             "startlinecolor": "#2a3f5f"
            },
            "baxis": {
             "endlinecolor": "#2a3f5f",
             "gridcolor": "white",
             "linecolor": "white",
             "minorgridcolor": "white",
             "startlinecolor": "#2a3f5f"
            },
            "type": "carpet"
           }
          ],
          "choropleth": [
           {
            "colorbar": {
             "outlinewidth": 0,
             "ticks": ""
            },
            "type": "choropleth"
           }
          ],
          "contour": [
           {
            "colorbar": {
             "outlinewidth": 0,
             "ticks": ""
            },
            "colorscale": [
             [
              0,
              "#0d0887"
             ],
             [
              0.1111111111111111,
              "#46039f"
             ],
             [
              0.2222222222222222,
              "#7201a8"
             ],
             [
              0.3333333333333333,
              "#9c179e"
             ],
             [
              0.4444444444444444,
              "#bd3786"
             ],
             [
              0.5555555555555556,
              "#d8576b"
             ],
             [
              0.6666666666666666,
              "#ed7953"
             ],
             [
              0.7777777777777778,
              "#fb9f3a"
             ],
             [
              0.8888888888888888,
              "#fdca26"
             ],
             [
              1,
              "#f0f921"
             ]
            ],
            "type": "contour"
           }
          ],
          "contourcarpet": [
           {
            "colorbar": {
             "outlinewidth": 0,
             "ticks": ""
            },
            "type": "contourcarpet"
           }
          ],
          "heatmap": [
           {
            "colorbar": {
             "outlinewidth": 0,
             "ticks": ""
            },
            "colorscale": [
             [
              0,
              "#0d0887"
             ],
             [
              0.1111111111111111,
              "#46039f"
             ],
             [
              0.2222222222222222,
              "#7201a8"
             ],
             [
              0.3333333333333333,
              "#9c179e"
             ],
             [
              0.4444444444444444,
              "#bd3786"
             ],
             [
              0.5555555555555556,
              "#d8576b"
             ],
             [
              0.6666666666666666,
              "#ed7953"
             ],
             [
              0.7777777777777778,
              "#fb9f3a"
             ],
             [
              0.8888888888888888,
              "#fdca26"
             ],
             [
              1,
              "#f0f921"
             ]
            ],
            "type": "heatmap"
           }
          ],
          "heatmapgl": [
           {
            "colorbar": {
             "outlinewidth": 0,
             "ticks": ""
            },
            "colorscale": [
             [
              0,
              "#0d0887"
             ],
             [
              0.1111111111111111,
              "#46039f"
             ],
             [
              0.2222222222222222,
              "#7201a8"
             ],
             [
              0.3333333333333333,
              "#9c179e"
             ],
             [
              0.4444444444444444,
              "#bd3786"
             ],
             [
              0.5555555555555556,
              "#d8576b"
             ],
             [
              0.6666666666666666,
              "#ed7953"
             ],
             [
              0.7777777777777778,
              "#fb9f3a"
             ],
             [
              0.8888888888888888,
              "#fdca26"
             ],
             [
              1,
              "#f0f921"
             ]
            ],
            "type": "heatmapgl"
           }
          ],
          "histogram": [
           {
            "marker": {
             "pattern": {
              "fillmode": "overlay",
              "size": 10,
              "solidity": 0.2
             }
            },
            "type": "histogram"
           }
          ],
          "histogram2d": [
           {
            "colorbar": {
             "outlinewidth": 0,
             "ticks": ""
            },
            "colorscale": [
             [
              0,
              "#0d0887"
             ],
             [
              0.1111111111111111,
              "#46039f"
             ],
             [
              0.2222222222222222,
              "#7201a8"
             ],
             [
              0.3333333333333333,
              "#9c179e"
             ],
             [
              0.4444444444444444,
              "#bd3786"
             ],
             [
              0.5555555555555556,
              "#d8576b"
             ],
             [
              0.6666666666666666,
              "#ed7953"
             ],
             [
              0.7777777777777778,
              "#fb9f3a"
             ],
             [
              0.8888888888888888,
              "#fdca26"
             ],
             [
              1,
              "#f0f921"
             ]
            ],
            "type": "histogram2d"
           }
          ],
          "histogram2dcontour": [
           {
            "colorbar": {
             "outlinewidth": 0,
             "ticks": ""
            },
            "colorscale": [
             [
              0,
              "#0d0887"
             ],
             [
              0.1111111111111111,
              "#46039f"
             ],
             [
              0.2222222222222222,
              "#7201a8"
             ],
             [
              0.3333333333333333,
              "#9c179e"
             ],
             [
              0.4444444444444444,
              "#bd3786"
             ],
             [
              0.5555555555555556,
              "#d8576b"
             ],
             [
              0.6666666666666666,
              "#ed7953"
             ],
             [
              0.7777777777777778,
              "#fb9f3a"
             ],
             [
              0.8888888888888888,
              "#fdca26"
             ],
             [
              1,
              "#f0f921"
             ]
            ],
            "type": "histogram2dcontour"
           }
          ],
          "mesh3d": [
           {
            "colorbar": {
             "outlinewidth": 0,
             "ticks": ""
            },
            "type": "mesh3d"
           }
          ],
          "parcoords": [
           {
            "line": {
             "colorbar": {
              "outlinewidth": 0,
              "ticks": ""
             }
            },
            "type": "parcoords"
           }
          ],
          "pie": [
           {
            "automargin": true,
            "type": "pie"
           }
          ],
          "scatter": [
           {
            "fillpattern": {
             "fillmode": "overlay",
             "size": 10,
             "solidity": 0.2
            },
            "type": "scatter"
           }
          ],
          "scatter3d": [
           {
            "line": {
             "colorbar": {
              "outlinewidth": 0,
              "ticks": ""
             }
            },
            "marker": {
             "colorbar": {
              "outlinewidth": 0,
              "ticks": ""
             }
            },
            "type": "scatter3d"
           }
          ],
          "scattercarpet": [
           {
            "marker": {
             "colorbar": {
              "outlinewidth": 0,
              "ticks": ""
             }
            },
            "type": "scattercarpet"
           }
          ],
          "scattergeo": [
           {
            "marker": {
             "colorbar": {
              "outlinewidth": 0,
              "ticks": ""
             }
            },
            "type": "scattergeo"
           }
          ],
          "scattergl": [
           {
            "marker": {
             "colorbar": {
              "outlinewidth": 0,
              "ticks": ""
             }
            },
            "type": "scattergl"
           }
          ],
          "scattermapbox": [
           {
            "marker": {
             "colorbar": {
              "outlinewidth": 0,
              "ticks": ""
             }
            },
            "type": "scattermapbox"
           }
          ],
          "scatterpolar": [
           {
            "marker": {
             "colorbar": {
              "outlinewidth": 0,
              "ticks": ""
             }
            },
            "type": "scatterpolar"
           }
          ],
          "scatterpolargl": [
           {
            "marker": {
             "colorbar": {
              "outlinewidth": 0,
              "ticks": ""
             }
            },
            "type": "scatterpolargl"
           }
          ],
          "scatterternary": [
           {
            "marker": {
             "colorbar": {
              "outlinewidth": 0,
              "ticks": ""
             }
            },
            "type": "scatterternary"
           }
          ],
          "surface": [
           {
            "colorbar": {
             "outlinewidth": 0,
             "ticks": ""
            },
            "colorscale": [
             [
              0,
              "#0d0887"
             ],
             [
              0.1111111111111111,
              "#46039f"
             ],
             [
              0.2222222222222222,
              "#7201a8"
             ],
             [
              0.3333333333333333,
              "#9c179e"
             ],
             [
              0.4444444444444444,
              "#bd3786"
             ],
             [
              0.5555555555555556,
              "#d8576b"
             ],
             [
              0.6666666666666666,
              "#ed7953"
             ],
             [
              0.7777777777777778,
              "#fb9f3a"
             ],
             [
              0.8888888888888888,
              "#fdca26"
             ],
             [
              1,
              "#f0f921"
             ]
            ],
            "type": "surface"
           }
          ],
          "table": [
           {
            "cells": {
             "fill": {
              "color": "#EBF0F8"
             },
             "line": {
              "color": "white"
             }
            },
            "header": {
             "fill": {
              "color": "#C8D4E3"
             },
             "line": {
              "color": "white"
             }
            },
            "type": "table"
           }
          ]
         },
         "layout": {
          "annotationdefaults": {
           "arrowcolor": "#2a3f5f",
           "arrowhead": 0,
           "arrowwidth": 1
          },
          "autotypenumbers": "strict",
          "coloraxis": {
           "colorbar": {
            "outlinewidth": 0,
            "ticks": ""
           }
          },
          "colorscale": {
           "diverging": [
            [
             0,
             "#8e0152"
            ],
            [
             0.1,
             "#c51b7d"
            ],
            [
             0.2,
             "#de77ae"
            ],
            [
             0.3,
             "#f1b6da"
            ],
            [
             0.4,
             "#fde0ef"
            ],
            [
             0.5,
             "#f7f7f7"
            ],
            [
             0.6,
             "#e6f5d0"
            ],
            [
             0.7,
             "#b8e186"
            ],
            [
             0.8,
             "#7fbc41"
            ],
            [
             0.9,
             "#4d9221"
            ],
            [
             1,
             "#276419"
            ]
           ],
           "sequential": [
            [
             0,
             "#0d0887"
            ],
            [
             0.1111111111111111,
             "#46039f"
            ],
            [
             0.2222222222222222,
             "#7201a8"
            ],
            [
             0.3333333333333333,
             "#9c179e"
            ],
            [
             0.4444444444444444,
             "#bd3786"
            ],
            [
             0.5555555555555556,
             "#d8576b"
            ],
            [
             0.6666666666666666,
             "#ed7953"
            ],
            [
             0.7777777777777778,
             "#fb9f3a"
            ],
            [
             0.8888888888888888,
             "#fdca26"
            ],
            [
             1,
             "#f0f921"
            ]
           ],
           "sequentialminus": [
            [
             0,
             "#0d0887"
            ],
            [
             0.1111111111111111,
             "#46039f"
            ],
            [
             0.2222222222222222,
             "#7201a8"
            ],
            [
             0.3333333333333333,
             "#9c179e"
            ],
            [
             0.4444444444444444,
             "#bd3786"
            ],
            [
             0.5555555555555556,
             "#d8576b"
            ],
            [
             0.6666666666666666,
             "#ed7953"
            ],
            [
             0.7777777777777778,
             "#fb9f3a"
            ],
            [
             0.8888888888888888,
             "#fdca26"
            ],
            [
             1,
             "#f0f921"
            ]
           ]
          },
          "colorway": [
           "#636efa",
           "#EF553B",
           "#00cc96",
           "#ab63fa",
           "#FFA15A",
           "#19d3f3",
           "#FF6692",
           "#B6E880",
           "#FF97FF",
           "#FECB52"
          ],
          "font": {
           "color": "#2a3f5f"
          },
          "geo": {
           "bgcolor": "white",
           "lakecolor": "white",
           "landcolor": "#E5ECF6",
           "showlakes": true,
           "showland": true,
           "subunitcolor": "white"
          },
          "hoverlabel": {
           "align": "left"
          },
          "hovermode": "closest",
          "mapbox": {
           "style": "light"
          },
          "paper_bgcolor": "white",
          "plot_bgcolor": "#E5ECF6",
          "polar": {
           "angularaxis": {
            "gridcolor": "white",
            "linecolor": "white",
            "ticks": ""
           },
           "bgcolor": "#E5ECF6",
           "radialaxis": {
            "gridcolor": "white",
            "linecolor": "white",
            "ticks": ""
           }
          },
          "scene": {
           "xaxis": {
            "backgroundcolor": "#E5ECF6",
            "gridcolor": "white",
            "gridwidth": 2,
            "linecolor": "white",
            "showbackground": true,
            "ticks": "",
            "zerolinecolor": "white"
           },
           "yaxis": {
            "backgroundcolor": "#E5ECF6",
            "gridcolor": "white",
            "gridwidth": 2,
            "linecolor": "white",
            "showbackground": true,
            "ticks": "",
            "zerolinecolor": "white"
           },
           "zaxis": {
            "backgroundcolor": "#E5ECF6",
            "gridcolor": "white",
            "gridwidth": 2,
            "linecolor": "white",
            "showbackground": true,
            "ticks": "",
            "zerolinecolor": "white"
           }
          },
          "shapedefaults": {
           "line": {
            "color": "#2a3f5f"
           }
          },
          "ternary": {
           "aaxis": {
            "gridcolor": "white",
            "linecolor": "white",
            "ticks": ""
           },
           "baxis": {
            "gridcolor": "white",
            "linecolor": "white",
            "ticks": ""
           },
           "bgcolor": "#E5ECF6",
           "caxis": {
            "gridcolor": "white",
            "linecolor": "white",
            "ticks": ""
           }
          },
          "title": {
           "x": 0.05
          },
          "xaxis": {
           "automargin": true,
           "gridcolor": "white",
           "linecolor": "white",
           "ticks": "",
           "title": {
            "standoff": 15
           },
           "zerolinecolor": "white",
           "zerolinewidth": 2
          },
          "yaxis": {
           "automargin": true,
           "gridcolor": "white",
           "linecolor": "white",
           "ticks": "",
           "title": {
            "standoff": 15
           },
           "zerolinecolor": "white",
           "zerolinewidth": 2
          }
         }
        }
       }
      }
     },
     "metadata": {},
     "output_type": "display_data"
    }
   ],
   "source": [
    "fig = go.Figure()\n",
    "fig.show()"
   ]
  },
  {
   "attachments": {},
   "cell_type": "markdown",
   "metadata": {
    "id": "xJjGB0iTh943"
   },
   "source": [
    "## ¿Qué nos encontramos en el gráfico?\n",
    "Como se ha dicho al principio, este tipo de gráficos permite interactuar con él. Para ello, arriba a la izqueirda de los gráficos aparecen los siguientes botones:\n",
    "* *Download plot as png*: Podemos descargar el gráfico como foto\n",
    "* *Zoom*: Hacer zoom. Si usamos el ratón para seleccionar una parte del gráfico, es equivalente y más dinámico\n",
    "* *Pan*: Mover el gráfico\n",
    "* *Zoom in/Zoom out*: Acercar o alejar la imagen\n",
    "* *Autoscale*. Escalar automáticamente\n",
    "* *Reset Axes* Volver al gráfico original\n",
    "* *Toggle Spike Lines*: Activa el trazado\n",
    "* *Show closest data on hover*. Mostrar la etiqueta del dato más cercano\n",
    "* *Compare data on hover*. Mostrar todas las etiquetas más cercanas de todas las series\n"
   ]
  },
  {
   "attachments": {},
   "cell_type": "markdown",
   "metadata": {
    "id": "TT1xzVDWk_hw"
   },
   "source": [
    "# **`go.Scatter`**\n",
    "Es el comando más usual. Con él, podemos crear gráficos tanto de puntos como de líneas (los más usuales)."
   ]
  },
  {
   "cell_type": "code",
   "execution_count": 4,
   "metadata": {
    "id": "bwS2_QgUgeuW"
   },
   "outputs": [],
   "source": [
    "# --\n",
    "# Definimos los datos\n",
    "# --\n",
    "eje_x = [1, 2, 3, 4, 5, 6, 7, 8, 9]\n",
    "eje_y = [1, 3, 5, 3, 1, 3, 5, 3, 1]"
   ]
  },
  {
   "attachments": {},
   "cell_type": "markdown",
   "metadata": {
    "id": "w03RVY3ll37Y"
   },
   "source": [
    "Con el comando previo de añadir una serie (`.add_trace`), utilizamos la función `go.Scatter`. Los inputs más importantes:\n",
    "* `x`: Datos del eje x\n",
    "* `y`: Datos del eje y\n",
    "* `mode`: Tipo de gráfico. Por lo general, \"lines\" para líneas, \"markers\" para puntos y \"lines+markes\" para ambas.\n",
    "* `name`: Nombre de la serie para la leyenda\n",
    "* `visible`: True o False en función de si queremos que aparezca o no (veremos su utilidad más adelante)\n",
    "* `line_color`: Color de la serie\n",
    "* `marker_symbol`: Símbolo del dato"
   ]
  },
  {
   "attachments": {},
   "cell_type": "markdown",
   "metadata": {
    "id": "AaIeWY2KnOjY"
   },
   "source": [
    "Hacemos el gráfico más sencillo posible"
   ]
  },
  {
   "cell_type": "code",
   "execution_count": 5,
   "metadata": {
    "colab": {
     "base_uri": "https://localhost:8080/",
     "height": 542
    },
    "id": "gKqaUk7efEd5",
    "outputId": "27868135-fc0f-410e-98b6-7a2382a91e13"
   },
   "outputs": [
    {
     "data": {
      "application/vnd.plotly.v1+json": {
       "config": {
        "plotlyServerURL": "https://plot.ly"
       },
       "data": [
        {
         "type": "scatter",
         "y": [
          1,
          3,
          5,
          3,
          1,
          3,
          5,
          3,
          1
         ]
        }
       ],
       "layout": {
        "template": {
         "data": {
          "bar": [
           {
            "error_x": {
             "color": "#2a3f5f"
            },
            "error_y": {
             "color": "#2a3f5f"
            },
            "marker": {
             "line": {
              "color": "#E5ECF6",
              "width": 0.5
             },
             "pattern": {
              "fillmode": "overlay",
              "size": 10,
              "solidity": 0.2
             }
            },
            "type": "bar"
           }
          ],
          "barpolar": [
           {
            "marker": {
             "line": {
              "color": "#E5ECF6",
              "width": 0.5
             },
             "pattern": {
              "fillmode": "overlay",
              "size": 10,
              "solidity": 0.2
             }
            },
            "type": "barpolar"
           }
          ],
          "carpet": [
           {
            "aaxis": {
             "endlinecolor": "#2a3f5f",
             "gridcolor": "white",
             "linecolor": "white",
             "minorgridcolor": "white",
             "startlinecolor": "#2a3f5f"
            },
            "baxis": {
             "endlinecolor": "#2a3f5f",
             "gridcolor": "white",
             "linecolor": "white",
             "minorgridcolor": "white",
             "startlinecolor": "#2a3f5f"
            },
            "type": "carpet"
           }
          ],
          "choropleth": [
           {
            "colorbar": {
             "outlinewidth": 0,
             "ticks": ""
            },
            "type": "choropleth"
           }
          ],
          "contour": [
           {
            "colorbar": {
             "outlinewidth": 0,
             "ticks": ""
            },
            "colorscale": [
             [
              0,
              "#0d0887"
             ],
             [
              0.1111111111111111,
              "#46039f"
             ],
             [
              0.2222222222222222,
              "#7201a8"
             ],
             [
              0.3333333333333333,
              "#9c179e"
             ],
             [
              0.4444444444444444,
              "#bd3786"
             ],
             [
              0.5555555555555556,
              "#d8576b"
             ],
             [
              0.6666666666666666,
              "#ed7953"
             ],
             [
              0.7777777777777778,
              "#fb9f3a"
             ],
             [
              0.8888888888888888,
              "#fdca26"
             ],
             [
              1,
              "#f0f921"
             ]
            ],
            "type": "contour"
           }
          ],
          "contourcarpet": [
           {
            "colorbar": {
             "outlinewidth": 0,
             "ticks": ""
            },
            "type": "contourcarpet"
           }
          ],
          "heatmap": [
           {
            "colorbar": {
             "outlinewidth": 0,
             "ticks": ""
            },
            "colorscale": [
             [
              0,
              "#0d0887"
             ],
             [
              0.1111111111111111,
              "#46039f"
             ],
             [
              0.2222222222222222,
              "#7201a8"
             ],
             [
              0.3333333333333333,
              "#9c179e"
             ],
             [
              0.4444444444444444,
              "#bd3786"
             ],
             [
              0.5555555555555556,
              "#d8576b"
             ],
             [
              0.6666666666666666,
              "#ed7953"
             ],
             [
              0.7777777777777778,
              "#fb9f3a"
             ],
             [
              0.8888888888888888,
              "#fdca26"
             ],
             [
              1,
              "#f0f921"
             ]
            ],
            "type": "heatmap"
           }
          ],
          "heatmapgl": [
           {
            "colorbar": {
             "outlinewidth": 0,
             "ticks": ""
            },
            "colorscale": [
             [
              0,
              "#0d0887"
             ],
             [
              0.1111111111111111,
              "#46039f"
             ],
             [
              0.2222222222222222,
              "#7201a8"
             ],
             [
              0.3333333333333333,
              "#9c179e"
             ],
             [
              0.4444444444444444,
              "#bd3786"
             ],
             [
              0.5555555555555556,
              "#d8576b"
             ],
             [
              0.6666666666666666,
              "#ed7953"
             ],
             [
              0.7777777777777778,
              "#fb9f3a"
             ],
             [
              0.8888888888888888,
              "#fdca26"
             ],
             [
              1,
              "#f0f921"
             ]
            ],
            "type": "heatmapgl"
           }
          ],
          "histogram": [
           {
            "marker": {
             "pattern": {
              "fillmode": "overlay",
              "size": 10,
              "solidity": 0.2
             }
            },
            "type": "histogram"
           }
          ],
          "histogram2d": [
           {
            "colorbar": {
             "outlinewidth": 0,
             "ticks": ""
            },
            "colorscale": [
             [
              0,
              "#0d0887"
             ],
             [
              0.1111111111111111,
              "#46039f"
             ],
             [
              0.2222222222222222,
              "#7201a8"
             ],
             [
              0.3333333333333333,
              "#9c179e"
             ],
             [
              0.4444444444444444,
              "#bd3786"
             ],
             [
              0.5555555555555556,
              "#d8576b"
             ],
             [
              0.6666666666666666,
              "#ed7953"
             ],
             [
              0.7777777777777778,
              "#fb9f3a"
             ],
             [
              0.8888888888888888,
              "#fdca26"
             ],
             [
              1,
              "#f0f921"
             ]
            ],
            "type": "histogram2d"
           }
          ],
          "histogram2dcontour": [
           {
            "colorbar": {
             "outlinewidth": 0,
             "ticks": ""
            },
            "colorscale": [
             [
              0,
              "#0d0887"
             ],
             [
              0.1111111111111111,
              "#46039f"
             ],
             [
              0.2222222222222222,
              "#7201a8"
             ],
             [
              0.3333333333333333,
              "#9c179e"
             ],
             [
              0.4444444444444444,
              "#bd3786"
             ],
             [
              0.5555555555555556,
              "#d8576b"
             ],
             [
              0.6666666666666666,
              "#ed7953"
             ],
             [
              0.7777777777777778,
              "#fb9f3a"
             ],
             [
              0.8888888888888888,
              "#fdca26"
             ],
             [
              1,
              "#f0f921"
             ]
            ],
            "type": "histogram2dcontour"
           }
          ],
          "mesh3d": [
           {
            "colorbar": {
             "outlinewidth": 0,
             "ticks": ""
            },
            "type": "mesh3d"
           }
          ],
          "parcoords": [
           {
            "line": {
             "colorbar": {
              "outlinewidth": 0,
              "ticks": ""
             }
            },
            "type": "parcoords"
           }
          ],
          "pie": [
           {
            "automargin": true,
            "type": "pie"
           }
          ],
          "scatter": [
           {
            "fillpattern": {
             "fillmode": "overlay",
             "size": 10,
             "solidity": 0.2
            },
            "type": "scatter"
           }
          ],
          "scatter3d": [
           {
            "line": {
             "colorbar": {
              "outlinewidth": 0,
              "ticks": ""
             }
            },
            "marker": {
             "colorbar": {
              "outlinewidth": 0,
              "ticks": ""
             }
            },
            "type": "scatter3d"
           }
          ],
          "scattercarpet": [
           {
            "marker": {
             "colorbar": {
              "outlinewidth": 0,
              "ticks": ""
             }
            },
            "type": "scattercarpet"
           }
          ],
          "scattergeo": [
           {
            "marker": {
             "colorbar": {
              "outlinewidth": 0,
              "ticks": ""
             }
            },
            "type": "scattergeo"
           }
          ],
          "scattergl": [
           {
            "marker": {
             "colorbar": {
              "outlinewidth": 0,
              "ticks": ""
             }
            },
            "type": "scattergl"
           }
          ],
          "scattermapbox": [
           {
            "marker": {
             "colorbar": {
              "outlinewidth": 0,
              "ticks": ""
             }
            },
            "type": "scattermapbox"
           }
          ],
          "scatterpolar": [
           {
            "marker": {
             "colorbar": {
              "outlinewidth": 0,
              "ticks": ""
             }
            },
            "type": "scatterpolar"
           }
          ],
          "scatterpolargl": [
           {
            "marker": {
             "colorbar": {
              "outlinewidth": 0,
              "ticks": ""
             }
            },
            "type": "scatterpolargl"
           }
          ],
          "scatterternary": [
           {
            "marker": {
             "colorbar": {
              "outlinewidth": 0,
              "ticks": ""
             }
            },
            "type": "scatterternary"
           }
          ],
          "surface": [
           {
            "colorbar": {
             "outlinewidth": 0,
             "ticks": ""
            },
            "colorscale": [
             [
              0,
              "#0d0887"
             ],
             [
              0.1111111111111111,
              "#46039f"
             ],
             [
              0.2222222222222222,
              "#7201a8"
             ],
             [
              0.3333333333333333,
              "#9c179e"
             ],
             [
              0.4444444444444444,
              "#bd3786"
             ],
             [
              0.5555555555555556,
              "#d8576b"
             ],
             [
              0.6666666666666666,
              "#ed7953"
             ],
             [
              0.7777777777777778,
              "#fb9f3a"
             ],
             [
              0.8888888888888888,
              "#fdca26"
             ],
             [
              1,
              "#f0f921"
             ]
            ],
            "type": "surface"
           }
          ],
          "table": [
           {
            "cells": {
             "fill": {
              "color": "#EBF0F8"
             },
             "line": {
              "color": "white"
             }
            },
            "header": {
             "fill": {
              "color": "#C8D4E3"
             },
             "line": {
              "color": "white"
             }
            },
            "type": "table"
           }
          ]
         },
         "layout": {
          "annotationdefaults": {
           "arrowcolor": "#2a3f5f",
           "arrowhead": 0,
           "arrowwidth": 1
          },
          "autotypenumbers": "strict",
          "coloraxis": {
           "colorbar": {
            "outlinewidth": 0,
            "ticks": ""
           }
          },
          "colorscale": {
           "diverging": [
            [
             0,
             "#8e0152"
            ],
            [
             0.1,
             "#c51b7d"
            ],
            [
             0.2,
             "#de77ae"
            ],
            [
             0.3,
             "#f1b6da"
            ],
            [
             0.4,
             "#fde0ef"
            ],
            [
             0.5,
             "#f7f7f7"
            ],
            [
             0.6,
             "#e6f5d0"
            ],
            [
             0.7,
             "#b8e186"
            ],
            [
             0.8,
             "#7fbc41"
            ],
            [
             0.9,
             "#4d9221"
            ],
            [
             1,
             "#276419"
            ]
           ],
           "sequential": [
            [
             0,
             "#0d0887"
            ],
            [
             0.1111111111111111,
             "#46039f"
            ],
            [
             0.2222222222222222,
             "#7201a8"
            ],
            [
             0.3333333333333333,
             "#9c179e"
            ],
            [
             0.4444444444444444,
             "#bd3786"
            ],
            [
             0.5555555555555556,
             "#d8576b"
            ],
            [
             0.6666666666666666,
             "#ed7953"
            ],
            [
             0.7777777777777778,
             "#fb9f3a"
            ],
            [
             0.8888888888888888,
             "#fdca26"
            ],
            [
             1,
             "#f0f921"
            ]
           ],
           "sequentialminus": [
            [
             0,
             "#0d0887"
            ],
            [
             0.1111111111111111,
             "#46039f"
            ],
            [
             0.2222222222222222,
             "#7201a8"
            ],
            [
             0.3333333333333333,
             "#9c179e"
            ],
            [
             0.4444444444444444,
             "#bd3786"
            ],
            [
             0.5555555555555556,
             "#d8576b"
            ],
            [
             0.6666666666666666,
             "#ed7953"
            ],
            [
             0.7777777777777778,
             "#fb9f3a"
            ],
            [
             0.8888888888888888,
             "#fdca26"
            ],
            [
             1,
             "#f0f921"
            ]
           ]
          },
          "colorway": [
           "#636efa",
           "#EF553B",
           "#00cc96",
           "#ab63fa",
           "#FFA15A",
           "#19d3f3",
           "#FF6692",
           "#B6E880",
           "#FF97FF",
           "#FECB52"
          ],
          "font": {
           "color": "#2a3f5f"
          },
          "geo": {
           "bgcolor": "white",
           "lakecolor": "white",
           "landcolor": "#E5ECF6",
           "showlakes": true,
           "showland": true,
           "subunitcolor": "white"
          },
          "hoverlabel": {
           "align": "left"
          },
          "hovermode": "closest",
          "mapbox": {
           "style": "light"
          },
          "paper_bgcolor": "white",
          "plot_bgcolor": "#E5ECF6",
          "polar": {
           "angularaxis": {
            "gridcolor": "white",
            "linecolor": "white",
            "ticks": ""
           },
           "bgcolor": "#E5ECF6",
           "radialaxis": {
            "gridcolor": "white",
            "linecolor": "white",
            "ticks": ""
           }
          },
          "scene": {
           "xaxis": {
            "backgroundcolor": "#E5ECF6",
            "gridcolor": "white",
            "gridwidth": 2,
            "linecolor": "white",
            "showbackground": true,
            "ticks": "",
            "zerolinecolor": "white"
           },
           "yaxis": {
            "backgroundcolor": "#E5ECF6",
            "gridcolor": "white",
            "gridwidth": 2,
            "linecolor": "white",
            "showbackground": true,
            "ticks": "",
            "zerolinecolor": "white"
           },
           "zaxis": {
            "backgroundcolor": "#E5ECF6",
            "gridcolor": "white",
            "gridwidth": 2,
            "linecolor": "white",
            "showbackground": true,
            "ticks": "",
            "zerolinecolor": "white"
           }
          },
          "shapedefaults": {
           "line": {
            "color": "#2a3f5f"
           }
          },
          "ternary": {
           "aaxis": {
            "gridcolor": "white",
            "linecolor": "white",
            "ticks": ""
           },
           "baxis": {
            "gridcolor": "white",
            "linecolor": "white",
            "ticks": ""
           },
           "bgcolor": "#E5ECF6",
           "caxis": {
            "gridcolor": "white",
            "linecolor": "white",
            "ticks": ""
           }
          },
          "title": {
           "x": 0.05
          },
          "xaxis": {
           "automargin": true,
           "gridcolor": "white",
           "linecolor": "white",
           "ticks": "",
           "title": {
            "standoff": 15
           },
           "zerolinecolor": "white",
           "zerolinewidth": 2
          },
          "yaxis": {
           "automargin": true,
           "gridcolor": "white",
           "linecolor": "white",
           "ticks": "",
           "title": {
            "standoff": 15
           },
           "zerolinecolor": "white",
           "zerolinewidth": 2
          }
         }
        }
       }
      }
     },
     "metadata": {},
     "output_type": "display_data"
    }
   ],
   "source": [
    "# --\n",
    "# Sólo necesitamos informar el set de datos del eje y\n",
    "# --\n",
    "fig = go.Figure()\n",
    "fig.add_trace(go.Scatter(y = eje_y))\n",
    "fig.show()"
   ]
  },
  {
   "attachments": {},
   "cell_type": "markdown",
   "metadata": {
    "id": "3IATSKRinYD6"
   },
   "source": [
    "Introducimos el eje x y le damos formato."
   ]
  },
  {
   "cell_type": "code",
   "execution_count": 6,
   "metadata": {
    "colab": {
     "base_uri": "https://localhost:8080/",
     "height": 542
    },
    "id": "IMxMhLWBnaqc",
    "outputId": "894f7cf5-b054-409b-f242-027f033115bd"
   },
   "outputs": [
    {
     "data": {
      "application/vnd.plotly.v1+json": {
       "config": {
        "plotlyServerURL": "https://plot.ly"
       },
       "data": [
        {
         "line": {
          "color": "rgb(216,69,25)"
         },
         "mode": "lines",
         "name": "Líneas",
         "type": "scatter",
         "x": [
          1,
          2,
          3,
          4,
          5,
          6,
          7,
          8,
          9
         ],
         "y": [
          1,
          3,
          5,
          3,
          1,
          3,
          5,
          3,
          1
         ]
        }
       ],
       "layout": {
        "template": {
         "data": {
          "bar": [
           {
            "error_x": {
             "color": "#2a3f5f"
            },
            "error_y": {
             "color": "#2a3f5f"
            },
            "marker": {
             "line": {
              "color": "#E5ECF6",
              "width": 0.5
             },
             "pattern": {
              "fillmode": "overlay",
              "size": 10,
              "solidity": 0.2
             }
            },
            "type": "bar"
           }
          ],
          "barpolar": [
           {
            "marker": {
             "line": {
              "color": "#E5ECF6",
              "width": 0.5
             },
             "pattern": {
              "fillmode": "overlay",
              "size": 10,
              "solidity": 0.2
             }
            },
            "type": "barpolar"
           }
          ],
          "carpet": [
           {
            "aaxis": {
             "endlinecolor": "#2a3f5f",
             "gridcolor": "white",
             "linecolor": "white",
             "minorgridcolor": "white",
             "startlinecolor": "#2a3f5f"
            },
            "baxis": {
             "endlinecolor": "#2a3f5f",
             "gridcolor": "white",
             "linecolor": "white",
             "minorgridcolor": "white",
             "startlinecolor": "#2a3f5f"
            },
            "type": "carpet"
           }
          ],
          "choropleth": [
           {
            "colorbar": {
             "outlinewidth": 0,
             "ticks": ""
            },
            "type": "choropleth"
           }
          ],
          "contour": [
           {
            "colorbar": {
             "outlinewidth": 0,
             "ticks": ""
            },
            "colorscale": [
             [
              0,
              "#0d0887"
             ],
             [
              0.1111111111111111,
              "#46039f"
             ],
             [
              0.2222222222222222,
              "#7201a8"
             ],
             [
              0.3333333333333333,
              "#9c179e"
             ],
             [
              0.4444444444444444,
              "#bd3786"
             ],
             [
              0.5555555555555556,
              "#d8576b"
             ],
             [
              0.6666666666666666,
              "#ed7953"
             ],
             [
              0.7777777777777778,
              "#fb9f3a"
             ],
             [
              0.8888888888888888,
              "#fdca26"
             ],
             [
              1,
              "#f0f921"
             ]
            ],
            "type": "contour"
           }
          ],
          "contourcarpet": [
           {
            "colorbar": {
             "outlinewidth": 0,
             "ticks": ""
            },
            "type": "contourcarpet"
           }
          ],
          "heatmap": [
           {
            "colorbar": {
             "outlinewidth": 0,
             "ticks": ""
            },
            "colorscale": [
             [
              0,
              "#0d0887"
             ],
             [
              0.1111111111111111,
              "#46039f"
             ],
             [
              0.2222222222222222,
              "#7201a8"
             ],
             [
              0.3333333333333333,
              "#9c179e"
             ],
             [
              0.4444444444444444,
              "#bd3786"
             ],
             [
              0.5555555555555556,
              "#d8576b"
             ],
             [
              0.6666666666666666,
              "#ed7953"
             ],
             [
              0.7777777777777778,
              "#fb9f3a"
             ],
             [
              0.8888888888888888,
              "#fdca26"
             ],
             [
              1,
              "#f0f921"
             ]
            ],
            "type": "heatmap"
           }
          ],
          "heatmapgl": [
           {
            "colorbar": {
             "outlinewidth": 0,
             "ticks": ""
            },
            "colorscale": [
             [
              0,
              "#0d0887"
             ],
             [
              0.1111111111111111,
              "#46039f"
             ],
             [
              0.2222222222222222,
              "#7201a8"
             ],
             [
              0.3333333333333333,
              "#9c179e"
             ],
             [
              0.4444444444444444,
              "#bd3786"
             ],
             [
              0.5555555555555556,
              "#d8576b"
             ],
             [
              0.6666666666666666,
              "#ed7953"
             ],
             [
              0.7777777777777778,
              "#fb9f3a"
             ],
             [
              0.8888888888888888,
              "#fdca26"
             ],
             [
              1,
              "#f0f921"
             ]
            ],
            "type": "heatmapgl"
           }
          ],
          "histogram": [
           {
            "marker": {
             "pattern": {
              "fillmode": "overlay",
              "size": 10,
              "solidity": 0.2
             }
            },
            "type": "histogram"
           }
          ],
          "histogram2d": [
           {
            "colorbar": {
             "outlinewidth": 0,
             "ticks": ""
            },
            "colorscale": [
             [
              0,
              "#0d0887"
             ],
             [
              0.1111111111111111,
              "#46039f"
             ],
             [
              0.2222222222222222,
              "#7201a8"
             ],
             [
              0.3333333333333333,
              "#9c179e"
             ],
             [
              0.4444444444444444,
              "#bd3786"
             ],
             [
              0.5555555555555556,
              "#d8576b"
             ],
             [
              0.6666666666666666,
              "#ed7953"
             ],
             [
              0.7777777777777778,
              "#fb9f3a"
             ],
             [
              0.8888888888888888,
              "#fdca26"
             ],
             [
              1,
              "#f0f921"
             ]
            ],
            "type": "histogram2d"
           }
          ],
          "histogram2dcontour": [
           {
            "colorbar": {
             "outlinewidth": 0,
             "ticks": ""
            },
            "colorscale": [
             [
              0,
              "#0d0887"
             ],
             [
              0.1111111111111111,
              "#46039f"
             ],
             [
              0.2222222222222222,
              "#7201a8"
             ],
             [
              0.3333333333333333,
              "#9c179e"
             ],
             [
              0.4444444444444444,
              "#bd3786"
             ],
             [
              0.5555555555555556,
              "#d8576b"
             ],
             [
              0.6666666666666666,
              "#ed7953"
             ],
             [
              0.7777777777777778,
              "#fb9f3a"
             ],
             [
              0.8888888888888888,
              "#fdca26"
             ],
             [
              1,
              "#f0f921"
             ]
            ],
            "type": "histogram2dcontour"
           }
          ],
          "mesh3d": [
           {
            "colorbar": {
             "outlinewidth": 0,
             "ticks": ""
            },
            "type": "mesh3d"
           }
          ],
          "parcoords": [
           {
            "line": {
             "colorbar": {
              "outlinewidth": 0,
              "ticks": ""
             }
            },
            "type": "parcoords"
           }
          ],
          "pie": [
           {
            "automargin": true,
            "type": "pie"
           }
          ],
          "scatter": [
           {
            "fillpattern": {
             "fillmode": "overlay",
             "size": 10,
             "solidity": 0.2
            },
            "type": "scatter"
           }
          ],
          "scatter3d": [
           {
            "line": {
             "colorbar": {
              "outlinewidth": 0,
              "ticks": ""
             }
            },
            "marker": {
             "colorbar": {
              "outlinewidth": 0,
              "ticks": ""
             }
            },
            "type": "scatter3d"
           }
          ],
          "scattercarpet": [
           {
            "marker": {
             "colorbar": {
              "outlinewidth": 0,
              "ticks": ""
             }
            },
            "type": "scattercarpet"
           }
          ],
          "scattergeo": [
           {
            "marker": {
             "colorbar": {
              "outlinewidth": 0,
              "ticks": ""
             }
            },
            "type": "scattergeo"
           }
          ],
          "scattergl": [
           {
            "marker": {
             "colorbar": {
              "outlinewidth": 0,
              "ticks": ""
             }
            },
            "type": "scattergl"
           }
          ],
          "scattermapbox": [
           {
            "marker": {
             "colorbar": {
              "outlinewidth": 0,
              "ticks": ""
             }
            },
            "type": "scattermapbox"
           }
          ],
          "scatterpolar": [
           {
            "marker": {
             "colorbar": {
              "outlinewidth": 0,
              "ticks": ""
             }
            },
            "type": "scatterpolar"
           }
          ],
          "scatterpolargl": [
           {
            "marker": {
             "colorbar": {
              "outlinewidth": 0,
              "ticks": ""
             }
            },
            "type": "scatterpolargl"
           }
          ],
          "scatterternary": [
           {
            "marker": {
             "colorbar": {
              "outlinewidth": 0,
              "ticks": ""
             }
            },
            "type": "scatterternary"
           }
          ],
          "surface": [
           {
            "colorbar": {
             "outlinewidth": 0,
             "ticks": ""
            },
            "colorscale": [
             [
              0,
              "#0d0887"
             ],
             [
              0.1111111111111111,
              "#46039f"
             ],
             [
              0.2222222222222222,
              "#7201a8"
             ],
             [
              0.3333333333333333,
              "#9c179e"
             ],
             [
              0.4444444444444444,
              "#bd3786"
             ],
             [
              0.5555555555555556,
              "#d8576b"
             ],
             [
              0.6666666666666666,
              "#ed7953"
             ],
             [
              0.7777777777777778,
              "#fb9f3a"
             ],
             [
              0.8888888888888888,
              "#fdca26"
             ],
             [
              1,
              "#f0f921"
             ]
            ],
            "type": "surface"
           }
          ],
          "table": [
           {
            "cells": {
             "fill": {
              "color": "#EBF0F8"
             },
             "line": {
              "color": "white"
             }
            },
            "header": {
             "fill": {
              "color": "#C8D4E3"
             },
             "line": {
              "color": "white"
             }
            },
            "type": "table"
           }
          ]
         },
         "layout": {
          "annotationdefaults": {
           "arrowcolor": "#2a3f5f",
           "arrowhead": 0,
           "arrowwidth": 1
          },
          "autotypenumbers": "strict",
          "coloraxis": {
           "colorbar": {
            "outlinewidth": 0,
            "ticks": ""
           }
          },
          "colorscale": {
           "diverging": [
            [
             0,
             "#8e0152"
            ],
            [
             0.1,
             "#c51b7d"
            ],
            [
             0.2,
             "#de77ae"
            ],
            [
             0.3,
             "#f1b6da"
            ],
            [
             0.4,
             "#fde0ef"
            ],
            [
             0.5,
             "#f7f7f7"
            ],
            [
             0.6,
             "#e6f5d0"
            ],
            [
             0.7,
             "#b8e186"
            ],
            [
             0.8,
             "#7fbc41"
            ],
            [
             0.9,
             "#4d9221"
            ],
            [
             1,
             "#276419"
            ]
           ],
           "sequential": [
            [
             0,
             "#0d0887"
            ],
            [
             0.1111111111111111,
             "#46039f"
            ],
            [
             0.2222222222222222,
             "#7201a8"
            ],
            [
             0.3333333333333333,
             "#9c179e"
            ],
            [
             0.4444444444444444,
             "#bd3786"
            ],
            [
             0.5555555555555556,
             "#d8576b"
            ],
            [
             0.6666666666666666,
             "#ed7953"
            ],
            [
             0.7777777777777778,
             "#fb9f3a"
            ],
            [
             0.8888888888888888,
             "#fdca26"
            ],
            [
             1,
             "#f0f921"
            ]
           ],
           "sequentialminus": [
            [
             0,
             "#0d0887"
            ],
            [
             0.1111111111111111,
             "#46039f"
            ],
            [
             0.2222222222222222,
             "#7201a8"
            ],
            [
             0.3333333333333333,
             "#9c179e"
            ],
            [
             0.4444444444444444,
             "#bd3786"
            ],
            [
             0.5555555555555556,
             "#d8576b"
            ],
            [
             0.6666666666666666,
             "#ed7953"
            ],
            [
             0.7777777777777778,
             "#fb9f3a"
            ],
            [
             0.8888888888888888,
             "#fdca26"
            ],
            [
             1,
             "#f0f921"
            ]
           ]
          },
          "colorway": [
           "#636efa",
           "#EF553B",
           "#00cc96",
           "#ab63fa",
           "#FFA15A",
           "#19d3f3",
           "#FF6692",
           "#B6E880",
           "#FF97FF",
           "#FECB52"
          ],
          "font": {
           "color": "#2a3f5f"
          },
          "geo": {
           "bgcolor": "white",
           "lakecolor": "white",
           "landcolor": "#E5ECF6",
           "showlakes": true,
           "showland": true,
           "subunitcolor": "white"
          },
          "hoverlabel": {
           "align": "left"
          },
          "hovermode": "closest",
          "mapbox": {
           "style": "light"
          },
          "paper_bgcolor": "white",
          "plot_bgcolor": "#E5ECF6",
          "polar": {
           "angularaxis": {
            "gridcolor": "white",
            "linecolor": "white",
            "ticks": ""
           },
           "bgcolor": "#E5ECF6",
           "radialaxis": {
            "gridcolor": "white",
            "linecolor": "white",
            "ticks": ""
           }
          },
          "scene": {
           "xaxis": {
            "backgroundcolor": "#E5ECF6",
            "gridcolor": "white",
            "gridwidth": 2,
            "linecolor": "white",
            "showbackground": true,
            "ticks": "",
            "zerolinecolor": "white"
           },
           "yaxis": {
            "backgroundcolor": "#E5ECF6",
            "gridcolor": "white",
            "gridwidth": 2,
            "linecolor": "white",
            "showbackground": true,
            "ticks": "",
            "zerolinecolor": "white"
           },
           "zaxis": {
            "backgroundcolor": "#E5ECF6",
            "gridcolor": "white",
            "gridwidth": 2,
            "linecolor": "white",
            "showbackground": true,
            "ticks": "",
            "zerolinecolor": "white"
           }
          },
          "shapedefaults": {
           "line": {
            "color": "#2a3f5f"
           }
          },
          "ternary": {
           "aaxis": {
            "gridcolor": "white",
            "linecolor": "white",
            "ticks": ""
           },
           "baxis": {
            "gridcolor": "white",
            "linecolor": "white",
            "ticks": ""
           },
           "bgcolor": "#E5ECF6",
           "caxis": {
            "gridcolor": "white",
            "linecolor": "white",
            "ticks": ""
           }
          },
          "title": {
           "x": 0.05
          },
          "xaxis": {
           "automargin": true,
           "gridcolor": "white",
           "linecolor": "white",
           "ticks": "",
           "title": {
            "standoff": 15
           },
           "zerolinecolor": "white",
           "zerolinewidth": 2
          },
          "yaxis": {
           "automargin": true,
           "gridcolor": "white",
           "linecolor": "white",
           "ticks": "",
           "title": {
            "standoff": 15
           },
           "zerolinecolor": "white",
           "zerolinewidth": 2
          }
         }
        }
       }
      }
     },
     "metadata": {},
     "output_type": "display_data"
    }
   ],
   "source": [
    "# --\n",
    "# Informamos eje x y el formato de la serie\n",
    "# --\n",
    "fig = go.Figure()\n",
    "fig.add_trace(go.Scatter(x = eje_x, \n",
    "                         y = eje_y,\n",
    "                         mode = \"lines\",\n",
    "                         name = 'Líneas',\n",
    "                         line_color = 'rgb(216,69,25)'))\n",
    "\n",
    "fig.show()"
   ]
  },
  {
   "attachments": {},
   "cell_type": "markdown",
   "metadata": {
    "id": "1u-YX5sNovNo"
   },
   "source": [
    "Si queremos meter más series, es tan sencillo como parametrizar una debajo de otra y crear el gráfico."
   ]
  },
  {
   "cell_type": "code",
   "execution_count": 7,
   "metadata": {
    "colab": {
     "base_uri": "https://localhost:8080/",
     "height": 542
    },
    "id": "m0HO47Uwozj_",
    "outputId": "69562a3f-a1b8-4cd6-da3d-f3eacbf38ee6"
   },
   "outputs": [
    {
     "data": {
      "application/vnd.plotly.v1+json": {
       "config": {
        "plotlyServerURL": "https://plot.ly"
       },
       "data": [
        {
         "line": {
          "color": "rgb(216,69,25)"
         },
         "mode": "lines",
         "name": "Líneas",
         "type": "scatter",
         "x": [
          1,
          2,
          3,
          4,
          5,
          6,
          7,
          8,
          9
         ],
         "y": [
          1,
          3,
          5,
          3,
          1,
          3,
          5,
          3,
          1
         ]
        },
        {
         "line": {
          "color": "green"
         },
         "marker": {
          "symbol": "x"
         },
         "mode": "markers",
         "name": "Puntos",
         "type": "scatter",
         "x": [
          1,
          2,
          3,
          4,
          5,
          6,
          7,
          8,
          9
         ],
         "y": [
          0.8414709848078965,
          0.1411200080598672,
          -0.9589242746631385,
          0.1411200080598672,
          0.8414709848078965,
          0.1411200080598672,
          -0.9589242746631385,
          0.1411200080598672,
          0.8414709848078965
         ]
        }
       ],
       "layout": {
        "template": {
         "data": {
          "bar": [
           {
            "error_x": {
             "color": "#2a3f5f"
            },
            "error_y": {
             "color": "#2a3f5f"
            },
            "marker": {
             "line": {
              "color": "#E5ECF6",
              "width": 0.5
             },
             "pattern": {
              "fillmode": "overlay",
              "size": 10,
              "solidity": 0.2
             }
            },
            "type": "bar"
           }
          ],
          "barpolar": [
           {
            "marker": {
             "line": {
              "color": "#E5ECF6",
              "width": 0.5
             },
             "pattern": {
              "fillmode": "overlay",
              "size": 10,
              "solidity": 0.2
             }
            },
            "type": "barpolar"
           }
          ],
          "carpet": [
           {
            "aaxis": {
             "endlinecolor": "#2a3f5f",
             "gridcolor": "white",
             "linecolor": "white",
             "minorgridcolor": "white",
             "startlinecolor": "#2a3f5f"
            },
            "baxis": {
             "endlinecolor": "#2a3f5f",
             "gridcolor": "white",
             "linecolor": "white",
             "minorgridcolor": "white",
             "startlinecolor": "#2a3f5f"
            },
            "type": "carpet"
           }
          ],
          "choropleth": [
           {
            "colorbar": {
             "outlinewidth": 0,
             "ticks": ""
            },
            "type": "choropleth"
           }
          ],
          "contour": [
           {
            "colorbar": {
             "outlinewidth": 0,
             "ticks": ""
            },
            "colorscale": [
             [
              0,
              "#0d0887"
             ],
             [
              0.1111111111111111,
              "#46039f"
             ],
             [
              0.2222222222222222,
              "#7201a8"
             ],
             [
              0.3333333333333333,
              "#9c179e"
             ],
             [
              0.4444444444444444,
              "#bd3786"
             ],
             [
              0.5555555555555556,
              "#d8576b"
             ],
             [
              0.6666666666666666,
              "#ed7953"
             ],
             [
              0.7777777777777778,
              "#fb9f3a"
             ],
             [
              0.8888888888888888,
              "#fdca26"
             ],
             [
              1,
              "#f0f921"
             ]
            ],
            "type": "contour"
           }
          ],
          "contourcarpet": [
           {
            "colorbar": {
             "outlinewidth": 0,
             "ticks": ""
            },
            "type": "contourcarpet"
           }
          ],
          "heatmap": [
           {
            "colorbar": {
             "outlinewidth": 0,
             "ticks": ""
            },
            "colorscale": [
             [
              0,
              "#0d0887"
             ],
             [
              0.1111111111111111,
              "#46039f"
             ],
             [
              0.2222222222222222,
              "#7201a8"
             ],
             [
              0.3333333333333333,
              "#9c179e"
             ],
             [
              0.4444444444444444,
              "#bd3786"
             ],
             [
              0.5555555555555556,
              "#d8576b"
             ],
             [
              0.6666666666666666,
              "#ed7953"
             ],
             [
              0.7777777777777778,
              "#fb9f3a"
             ],
             [
              0.8888888888888888,
              "#fdca26"
             ],
             [
              1,
              "#f0f921"
             ]
            ],
            "type": "heatmap"
           }
          ],
          "heatmapgl": [
           {
            "colorbar": {
             "outlinewidth": 0,
             "ticks": ""
            },
            "colorscale": [
             [
              0,
              "#0d0887"
             ],
             [
              0.1111111111111111,
              "#46039f"
             ],
             [
              0.2222222222222222,
              "#7201a8"
             ],
             [
              0.3333333333333333,
              "#9c179e"
             ],
             [
              0.4444444444444444,
              "#bd3786"
             ],
             [
              0.5555555555555556,
              "#d8576b"
             ],
             [
              0.6666666666666666,
              "#ed7953"
             ],
             [
              0.7777777777777778,
              "#fb9f3a"
             ],
             [
              0.8888888888888888,
              "#fdca26"
             ],
             [
              1,
              "#f0f921"
             ]
            ],
            "type": "heatmapgl"
           }
          ],
          "histogram": [
           {
            "marker": {
             "pattern": {
              "fillmode": "overlay",
              "size": 10,
              "solidity": 0.2
             }
            },
            "type": "histogram"
           }
          ],
          "histogram2d": [
           {
            "colorbar": {
             "outlinewidth": 0,
             "ticks": ""
            },
            "colorscale": [
             [
              0,
              "#0d0887"
             ],
             [
              0.1111111111111111,
              "#46039f"
             ],
             [
              0.2222222222222222,
              "#7201a8"
             ],
             [
              0.3333333333333333,
              "#9c179e"
             ],
             [
              0.4444444444444444,
              "#bd3786"
             ],
             [
              0.5555555555555556,
              "#d8576b"
             ],
             [
              0.6666666666666666,
              "#ed7953"
             ],
             [
              0.7777777777777778,
              "#fb9f3a"
             ],
             [
              0.8888888888888888,
              "#fdca26"
             ],
             [
              1,
              "#f0f921"
             ]
            ],
            "type": "histogram2d"
           }
          ],
          "histogram2dcontour": [
           {
            "colorbar": {
             "outlinewidth": 0,
             "ticks": ""
            },
            "colorscale": [
             [
              0,
              "#0d0887"
             ],
             [
              0.1111111111111111,
              "#46039f"
             ],
             [
              0.2222222222222222,
              "#7201a8"
             ],
             [
              0.3333333333333333,
              "#9c179e"
             ],
             [
              0.4444444444444444,
              "#bd3786"
             ],
             [
              0.5555555555555556,
              "#d8576b"
             ],
             [
              0.6666666666666666,
              "#ed7953"
             ],
             [
              0.7777777777777778,
              "#fb9f3a"
             ],
             [
              0.8888888888888888,
              "#fdca26"
             ],
             [
              1,
              "#f0f921"
             ]
            ],
            "type": "histogram2dcontour"
           }
          ],
          "mesh3d": [
           {
            "colorbar": {
             "outlinewidth": 0,
             "ticks": ""
            },
            "type": "mesh3d"
           }
          ],
          "parcoords": [
           {
            "line": {
             "colorbar": {
              "outlinewidth": 0,
              "ticks": ""
             }
            },
            "type": "parcoords"
           }
          ],
          "pie": [
           {
            "automargin": true,
            "type": "pie"
           }
          ],
          "scatter": [
           {
            "fillpattern": {
             "fillmode": "overlay",
             "size": 10,
             "solidity": 0.2
            },
            "type": "scatter"
           }
          ],
          "scatter3d": [
           {
            "line": {
             "colorbar": {
              "outlinewidth": 0,
              "ticks": ""
             }
            },
            "marker": {
             "colorbar": {
              "outlinewidth": 0,
              "ticks": ""
             }
            },
            "type": "scatter3d"
           }
          ],
          "scattercarpet": [
           {
            "marker": {
             "colorbar": {
              "outlinewidth": 0,
              "ticks": ""
             }
            },
            "type": "scattercarpet"
           }
          ],
          "scattergeo": [
           {
            "marker": {
             "colorbar": {
              "outlinewidth": 0,
              "ticks": ""
             }
            },
            "type": "scattergeo"
           }
          ],
          "scattergl": [
           {
            "marker": {
             "colorbar": {
              "outlinewidth": 0,
              "ticks": ""
             }
            },
            "type": "scattergl"
           }
          ],
          "scattermapbox": [
           {
            "marker": {
             "colorbar": {
              "outlinewidth": 0,
              "ticks": ""
             }
            },
            "type": "scattermapbox"
           }
          ],
          "scatterpolar": [
           {
            "marker": {
             "colorbar": {
              "outlinewidth": 0,
              "ticks": ""
             }
            },
            "type": "scatterpolar"
           }
          ],
          "scatterpolargl": [
           {
            "marker": {
             "colorbar": {
              "outlinewidth": 0,
              "ticks": ""
             }
            },
            "type": "scatterpolargl"
           }
          ],
          "scatterternary": [
           {
            "marker": {
             "colorbar": {
              "outlinewidth": 0,
              "ticks": ""
             }
            },
            "type": "scatterternary"
           }
          ],
          "surface": [
           {
            "colorbar": {
             "outlinewidth": 0,
             "ticks": ""
            },
            "colorscale": [
             [
              0,
              "#0d0887"
             ],
             [
              0.1111111111111111,
              "#46039f"
             ],
             [
              0.2222222222222222,
              "#7201a8"
             ],
             [
              0.3333333333333333,
              "#9c179e"
             ],
             [
              0.4444444444444444,
              "#bd3786"
             ],
             [
              0.5555555555555556,
              "#d8576b"
             ],
             [
              0.6666666666666666,
              "#ed7953"
             ],
             [
              0.7777777777777778,
              "#fb9f3a"
             ],
             [
              0.8888888888888888,
              "#fdca26"
             ],
             [
              1,
              "#f0f921"
             ]
            ],
            "type": "surface"
           }
          ],
          "table": [
           {
            "cells": {
             "fill": {
              "color": "#EBF0F8"
             },
             "line": {
              "color": "white"
             }
            },
            "header": {
             "fill": {
              "color": "#C8D4E3"
             },
             "line": {
              "color": "white"
             }
            },
            "type": "table"
           }
          ]
         },
         "layout": {
          "annotationdefaults": {
           "arrowcolor": "#2a3f5f",
           "arrowhead": 0,
           "arrowwidth": 1
          },
          "autotypenumbers": "strict",
          "coloraxis": {
           "colorbar": {
            "outlinewidth": 0,
            "ticks": ""
           }
          },
          "colorscale": {
           "diverging": [
            [
             0,
             "#8e0152"
            ],
            [
             0.1,
             "#c51b7d"
            ],
            [
             0.2,
             "#de77ae"
            ],
            [
             0.3,
             "#f1b6da"
            ],
            [
             0.4,
             "#fde0ef"
            ],
            [
             0.5,
             "#f7f7f7"
            ],
            [
             0.6,
             "#e6f5d0"
            ],
            [
             0.7,
             "#b8e186"
            ],
            [
             0.8,
             "#7fbc41"
            ],
            [
             0.9,
             "#4d9221"
            ],
            [
             1,
             "#276419"
            ]
           ],
           "sequential": [
            [
             0,
             "#0d0887"
            ],
            [
             0.1111111111111111,
             "#46039f"
            ],
            [
             0.2222222222222222,
             "#7201a8"
            ],
            [
             0.3333333333333333,
             "#9c179e"
            ],
            [
             0.4444444444444444,
             "#bd3786"
            ],
            [
             0.5555555555555556,
             "#d8576b"
            ],
            [
             0.6666666666666666,
             "#ed7953"
            ],
            [
             0.7777777777777778,
             "#fb9f3a"
            ],
            [
             0.8888888888888888,
             "#fdca26"
            ],
            [
             1,
             "#f0f921"
            ]
           ],
           "sequentialminus": [
            [
             0,
             "#0d0887"
            ],
            [
             0.1111111111111111,
             "#46039f"
            ],
            [
             0.2222222222222222,
             "#7201a8"
            ],
            [
             0.3333333333333333,
             "#9c179e"
            ],
            [
             0.4444444444444444,
             "#bd3786"
            ],
            [
             0.5555555555555556,
             "#d8576b"
            ],
            [
             0.6666666666666666,
             "#ed7953"
            ],
            [
             0.7777777777777778,
             "#fb9f3a"
            ],
            [
             0.8888888888888888,
             "#fdca26"
            ],
            [
             1,
             "#f0f921"
            ]
           ]
          },
          "colorway": [
           "#636efa",
           "#EF553B",
           "#00cc96",
           "#ab63fa",
           "#FFA15A",
           "#19d3f3",
           "#FF6692",
           "#B6E880",
           "#FF97FF",
           "#FECB52"
          ],
          "font": {
           "color": "#2a3f5f"
          },
          "geo": {
           "bgcolor": "white",
           "lakecolor": "white",
           "landcolor": "#E5ECF6",
           "showlakes": true,
           "showland": true,
           "subunitcolor": "white"
          },
          "hoverlabel": {
           "align": "left"
          },
          "hovermode": "closest",
          "mapbox": {
           "style": "light"
          },
          "paper_bgcolor": "white",
          "plot_bgcolor": "#E5ECF6",
          "polar": {
           "angularaxis": {
            "gridcolor": "white",
            "linecolor": "white",
            "ticks": ""
           },
           "bgcolor": "#E5ECF6",
           "radialaxis": {
            "gridcolor": "white",
            "linecolor": "white",
            "ticks": ""
           }
          },
          "scene": {
           "xaxis": {
            "backgroundcolor": "#E5ECF6",
            "gridcolor": "white",
            "gridwidth": 2,
            "linecolor": "white",
            "showbackground": true,
            "ticks": "",
            "zerolinecolor": "white"
           },
           "yaxis": {
            "backgroundcolor": "#E5ECF6",
            "gridcolor": "white",
            "gridwidth": 2,
            "linecolor": "white",
            "showbackground": true,
            "ticks": "",
            "zerolinecolor": "white"
           },
           "zaxis": {
            "backgroundcolor": "#E5ECF6",
            "gridcolor": "white",
            "gridwidth": 2,
            "linecolor": "white",
            "showbackground": true,
            "ticks": "",
            "zerolinecolor": "white"
           }
          },
          "shapedefaults": {
           "line": {
            "color": "#2a3f5f"
           }
          },
          "ternary": {
           "aaxis": {
            "gridcolor": "white",
            "linecolor": "white",
            "ticks": ""
           },
           "baxis": {
            "gridcolor": "white",
            "linecolor": "white",
            "ticks": ""
           },
           "bgcolor": "#E5ECF6",
           "caxis": {
            "gridcolor": "white",
            "linecolor": "white",
            "ticks": ""
           }
          },
          "title": {
           "x": 0.05
          },
          "xaxis": {
           "automargin": true,
           "gridcolor": "white",
           "linecolor": "white",
           "ticks": "",
           "title": {
            "standoff": 15
           },
           "zerolinecolor": "white",
           "zerolinewidth": 2
          },
          "yaxis": {
           "automargin": true,
           "gridcolor": "white",
           "linecolor": "white",
           "ticks": "",
           "title": {
            "standoff": 15
           },
           "zerolinecolor": "white",
           "zerolinewidth": 2
          }
         }
        }
       }
      }
     },
     "metadata": {},
     "output_type": "display_data"
    }
   ],
   "source": [
    "# --\n",
    "# Definimos los nuevos datos\n",
    "# --\n",
    "import numpy as np\n",
    "eje_x_bis = eje_x\n",
    "eje_y_bis = np.sin(eje_y)\n",
    "\n",
    "# --\n",
    "# Definimos primero una serie y luego la segunda\n",
    "# --\n",
    "\n",
    "# Primera serie\n",
    "fig = go.Figure()\n",
    "fig.add_trace(go.Scatter(x = eje_x, \n",
    "                         y = eje_y,\n",
    "                         mode = \"lines\",\n",
    "                         name = 'Líneas',\n",
    "                         line_color = 'rgb(216,69,25)'))\n",
    "\n",
    "# Segunda serie\n",
    "fig.add_trace(go.Scatter(x = eje_x, \n",
    "                         y = eje_y_bis,\n",
    "                         mode = \"markers\",\n",
    "                         name = 'Puntos',\n",
    "                         line_color = 'green',\n",
    "                         marker_symbol = 'x'))\n",
    "\n",
    "fig.show()"
   ]
  },
  {
   "attachments": {},
   "cell_type": "markdown",
   "metadata": {
    "id": "GRdMVpbtqbZg"
   },
   "source": [
    "Podemos formatear tanto los puntos como las líneas de ambas series.\n",
    "\n",
    "* Para formatear los puntos, usar esta [página](https://plotly.com/python/marker-style/) de referencia.\n",
    "* Para formatear las líneas, usar esta [página](https://plotly.com/python/line-charts//) de referencia."
   ]
  },
  {
   "attachments": {},
   "cell_type": "markdown",
   "metadata": {
    "id": "uvewMUFtsI-d"
   },
   "source": [
    "## Creando gráficos interesantes\n",
    "A continuación, ponemos algunos ejemplos de gráficos que se peuden hacer rápidamente."
   ]
  },
  {
   "attachments": {},
   "cell_type": "markdown",
   "metadata": {
    "id": "ZsIe3bljsR3e"
   },
   "source": [
    "### Poner texto a cada dato en el gráfico"
   ]
  },
  {
   "cell_type": "code",
   "execution_count": 8,
   "metadata": {
    "colab": {
     "base_uri": "https://localhost:8080/",
     "height": 542
    },
    "id": "7hH04YKgsDhW",
    "outputId": "c0b0d7ca-b3ee-443a-caa8-3cac501c6d74"
   },
   "outputs": [
    {
     "data": {
      "application/vnd.plotly.v1+json": {
       "config": {
        "plotlyServerURL": "https://plot.ly"
       },
       "data": [
        {
         "marker": {
          "color": [
           4849377,
           736732,
           6731484,
           2966369,
           38802500,
           5355866,
           3596677,
           935614,
           658893,
           19893297,
           10097343,
           1419561,
           1634464,
           12880580,
           6596855,
           3107126,
           2904021,
           4413457,
           4649676,
           1330089,
           5976407,
           6745408,
           9909877,
           5457173,
           2994079,
           6063589,
           1023579,
           1881503,
           2839098,
           1326813,
           8938175,
           2085572,
           19746227,
           9943964,
           739482,
           11594163,
           3878051,
           3970239,
           12787209,
           3548397,
           1055173,
           4832482,
           853175,
           6549352,
           26956958,
           2942902,
           626562,
           8326289,
           7061530,
           1850326,
           5757564,
           584153
          ]
         },
         "mode": "markers",
         "text": [
          "Alabama",
          "Alaska",
          "Arizona",
          "Arkansas",
          "California",
          "Colorado",
          "Connecticut",
          "Delaware",
          "District of Columbia",
          "Florida",
          "Georgia",
          "Hawaii",
          "Idaho",
          "Illinois",
          "Indiana",
          "Iowa",
          "Kansas",
          "Kentucky",
          "Louisiana",
          "Maine",
          "Maryland",
          "Massachusetts",
          "Michigan",
          "Minnesota",
          "Mississippi",
          "Missouri",
          "Montana",
          "Nebraska",
          "Nevada",
          "New Hampshire",
          "New Jersey",
          "New Mexico",
          "New York",
          "North Carolina",
          "North Dakota",
          "Ohio",
          "Oklahoma",
          "Oregon",
          "Pennsylvania",
          "Puerto Rico",
          "Rhode Island",
          "South Carolina",
          "South Dakota",
          "Tennessee",
          "Texas",
          "Utah",
          "Vermont",
          "Virginia",
          "Washington",
          "West Virginia",
          "Wisconsin",
          "Wyoming"
         ],
         "type": "scatter",
         "x": [
          "AL",
          "AK",
          "AZ",
          "AR",
          "CA",
          "CO",
          "CT",
          "DE",
          "DC",
          "FL",
          "GA",
          "HI",
          "ID",
          "IL",
          "IN",
          "IA",
          "KS",
          "KY",
          "LA",
          "ME",
          "MD",
          "MA",
          "MI",
          "MN",
          "MS",
          "MO",
          "MT",
          "NE",
          "NV",
          "NH",
          "NJ",
          "NM",
          "NY",
          "NC",
          "ND",
          "OH",
          "OK",
          "OR",
          "PA",
          "PR",
          "RI",
          "SC",
          "SD",
          "TN",
          "TX",
          "UT",
          "VT",
          "VA",
          "WA",
          "WV",
          "WI",
          "WY"
         ],
         "y": [
          4849377,
          736732,
          6731484,
          2966369,
          38802500,
          5355866,
          3596677,
          935614,
          658893,
          19893297,
          10097343,
          1419561,
          1634464,
          12880580,
          6596855,
          3107126,
          2904021,
          4413457,
          4649676,
          1330089,
          5976407,
          6745408,
          9909877,
          5457173,
          2994079,
          6063589,
          1023579,
          1881503,
          2839098,
          1326813,
          8938175,
          2085572,
          19746227,
          9943964,
          739482,
          11594163,
          3878051,
          3970239,
          12787209,
          3548397,
          1055173,
          4832482,
          853175,
          6549352,
          26956958,
          2942902,
          626562,
          8326289,
          7061530,
          1850326,
          5757564,
          584153
         ]
        }
       ],
       "layout": {
        "template": {
         "data": {
          "bar": [
           {
            "error_x": {
             "color": "#2a3f5f"
            },
            "error_y": {
             "color": "#2a3f5f"
            },
            "marker": {
             "line": {
              "color": "#E5ECF6",
              "width": 0.5
             },
             "pattern": {
              "fillmode": "overlay",
              "size": 10,
              "solidity": 0.2
             }
            },
            "type": "bar"
           }
          ],
          "barpolar": [
           {
            "marker": {
             "line": {
              "color": "#E5ECF6",
              "width": 0.5
             },
             "pattern": {
              "fillmode": "overlay",
              "size": 10,
              "solidity": 0.2
             }
            },
            "type": "barpolar"
           }
          ],
          "carpet": [
           {
            "aaxis": {
             "endlinecolor": "#2a3f5f",
             "gridcolor": "white",
             "linecolor": "white",
             "minorgridcolor": "white",
             "startlinecolor": "#2a3f5f"
            },
            "baxis": {
             "endlinecolor": "#2a3f5f",
             "gridcolor": "white",
             "linecolor": "white",
             "minorgridcolor": "white",
             "startlinecolor": "#2a3f5f"
            },
            "type": "carpet"
           }
          ],
          "choropleth": [
           {
            "colorbar": {
             "outlinewidth": 0,
             "ticks": ""
            },
            "type": "choropleth"
           }
          ],
          "contour": [
           {
            "colorbar": {
             "outlinewidth": 0,
             "ticks": ""
            },
            "colorscale": [
             [
              0,
              "#0d0887"
             ],
             [
              0.1111111111111111,
              "#46039f"
             ],
             [
              0.2222222222222222,
              "#7201a8"
             ],
             [
              0.3333333333333333,
              "#9c179e"
             ],
             [
              0.4444444444444444,
              "#bd3786"
             ],
             [
              0.5555555555555556,
              "#d8576b"
             ],
             [
              0.6666666666666666,
              "#ed7953"
             ],
             [
              0.7777777777777778,
              "#fb9f3a"
             ],
             [
              0.8888888888888888,
              "#fdca26"
             ],
             [
              1,
              "#f0f921"
             ]
            ],
            "type": "contour"
           }
          ],
          "contourcarpet": [
           {
            "colorbar": {
             "outlinewidth": 0,
             "ticks": ""
            },
            "type": "contourcarpet"
           }
          ],
          "heatmap": [
           {
            "colorbar": {
             "outlinewidth": 0,
             "ticks": ""
            },
            "colorscale": [
             [
              0,
              "#0d0887"
             ],
             [
              0.1111111111111111,
              "#46039f"
             ],
             [
              0.2222222222222222,
              "#7201a8"
             ],
             [
              0.3333333333333333,
              "#9c179e"
             ],
             [
              0.4444444444444444,
              "#bd3786"
             ],
             [
              0.5555555555555556,
              "#d8576b"
             ],
             [
              0.6666666666666666,
              "#ed7953"
             ],
             [
              0.7777777777777778,
              "#fb9f3a"
             ],
             [
              0.8888888888888888,
              "#fdca26"
             ],
             [
              1,
              "#f0f921"
             ]
            ],
            "type": "heatmap"
           }
          ],
          "heatmapgl": [
           {
            "colorbar": {
             "outlinewidth": 0,
             "ticks": ""
            },
            "colorscale": [
             [
              0,
              "#0d0887"
             ],
             [
              0.1111111111111111,
              "#46039f"
             ],
             [
              0.2222222222222222,
              "#7201a8"
             ],
             [
              0.3333333333333333,
              "#9c179e"
             ],
             [
              0.4444444444444444,
              "#bd3786"
             ],
             [
              0.5555555555555556,
              "#d8576b"
             ],
             [
              0.6666666666666666,
              "#ed7953"
             ],
             [
              0.7777777777777778,
              "#fb9f3a"
             ],
             [
              0.8888888888888888,
              "#fdca26"
             ],
             [
              1,
              "#f0f921"
             ]
            ],
            "type": "heatmapgl"
           }
          ],
          "histogram": [
           {
            "marker": {
             "pattern": {
              "fillmode": "overlay",
              "size": 10,
              "solidity": 0.2
             }
            },
            "type": "histogram"
           }
          ],
          "histogram2d": [
           {
            "colorbar": {
             "outlinewidth": 0,
             "ticks": ""
            },
            "colorscale": [
             [
              0,
              "#0d0887"
             ],
             [
              0.1111111111111111,
              "#46039f"
             ],
             [
              0.2222222222222222,
              "#7201a8"
             ],
             [
              0.3333333333333333,
              "#9c179e"
             ],
             [
              0.4444444444444444,
              "#bd3786"
             ],
             [
              0.5555555555555556,
              "#d8576b"
             ],
             [
              0.6666666666666666,
              "#ed7953"
             ],
             [
              0.7777777777777778,
              "#fb9f3a"
             ],
             [
              0.8888888888888888,
              "#fdca26"
             ],
             [
              1,
              "#f0f921"
             ]
            ],
            "type": "histogram2d"
           }
          ],
          "histogram2dcontour": [
           {
            "colorbar": {
             "outlinewidth": 0,
             "ticks": ""
            },
            "colorscale": [
             [
              0,
              "#0d0887"
             ],
             [
              0.1111111111111111,
              "#46039f"
             ],
             [
              0.2222222222222222,
              "#7201a8"
             ],
             [
              0.3333333333333333,
              "#9c179e"
             ],
             [
              0.4444444444444444,
              "#bd3786"
             ],
             [
              0.5555555555555556,
              "#d8576b"
             ],
             [
              0.6666666666666666,
              "#ed7953"
             ],
             [
              0.7777777777777778,
              "#fb9f3a"
             ],
             [
              0.8888888888888888,
              "#fdca26"
             ],
             [
              1,
              "#f0f921"
             ]
            ],
            "type": "histogram2dcontour"
           }
          ],
          "mesh3d": [
           {
            "colorbar": {
             "outlinewidth": 0,
             "ticks": ""
            },
            "type": "mesh3d"
           }
          ],
          "parcoords": [
           {
            "line": {
             "colorbar": {
              "outlinewidth": 0,
              "ticks": ""
             }
            },
            "type": "parcoords"
           }
          ],
          "pie": [
           {
            "automargin": true,
            "type": "pie"
           }
          ],
          "scatter": [
           {
            "fillpattern": {
             "fillmode": "overlay",
             "size": 10,
             "solidity": 0.2
            },
            "type": "scatter"
           }
          ],
          "scatter3d": [
           {
            "line": {
             "colorbar": {
              "outlinewidth": 0,
              "ticks": ""
             }
            },
            "marker": {
             "colorbar": {
              "outlinewidth": 0,
              "ticks": ""
             }
            },
            "type": "scatter3d"
           }
          ],
          "scattercarpet": [
           {
            "marker": {
             "colorbar": {
              "outlinewidth": 0,
              "ticks": ""
             }
            },
            "type": "scattercarpet"
           }
          ],
          "scattergeo": [
           {
            "marker": {
             "colorbar": {
              "outlinewidth": 0,
              "ticks": ""
             }
            },
            "type": "scattergeo"
           }
          ],
          "scattergl": [
           {
            "marker": {
             "colorbar": {
              "outlinewidth": 0,
              "ticks": ""
             }
            },
            "type": "scattergl"
           }
          ],
          "scattermapbox": [
           {
            "marker": {
             "colorbar": {
              "outlinewidth": 0,
              "ticks": ""
             }
            },
            "type": "scattermapbox"
           }
          ],
          "scatterpolar": [
           {
            "marker": {
             "colorbar": {
              "outlinewidth": 0,
              "ticks": ""
             }
            },
            "type": "scatterpolar"
           }
          ],
          "scatterpolargl": [
           {
            "marker": {
             "colorbar": {
              "outlinewidth": 0,
              "ticks": ""
             }
            },
            "type": "scatterpolargl"
           }
          ],
          "scatterternary": [
           {
            "marker": {
             "colorbar": {
              "outlinewidth": 0,
              "ticks": ""
             }
            },
            "type": "scatterternary"
           }
          ],
          "surface": [
           {
            "colorbar": {
             "outlinewidth": 0,
             "ticks": ""
            },
            "colorscale": [
             [
              0,
              "#0d0887"
             ],
             [
              0.1111111111111111,
              "#46039f"
             ],
             [
              0.2222222222222222,
              "#7201a8"
             ],
             [
              0.3333333333333333,
              "#9c179e"
             ],
             [
              0.4444444444444444,
              "#bd3786"
             ],
             [
              0.5555555555555556,
              "#d8576b"
             ],
             [
              0.6666666666666666,
              "#ed7953"
             ],
             [
              0.7777777777777778,
              "#fb9f3a"
             ],
             [
              0.8888888888888888,
              "#fdca26"
             ],
             [
              1,
              "#f0f921"
             ]
            ],
            "type": "surface"
           }
          ],
          "table": [
           {
            "cells": {
             "fill": {
              "color": "#EBF0F8"
             },
             "line": {
              "color": "white"
             }
            },
            "header": {
             "fill": {
              "color": "#C8D4E3"
             },
             "line": {
              "color": "white"
             }
            },
            "type": "table"
           }
          ]
         },
         "layout": {
          "annotationdefaults": {
           "arrowcolor": "#2a3f5f",
           "arrowhead": 0,
           "arrowwidth": 1
          },
          "autotypenumbers": "strict",
          "coloraxis": {
           "colorbar": {
            "outlinewidth": 0,
            "ticks": ""
           }
          },
          "colorscale": {
           "diverging": [
            [
             0,
             "#8e0152"
            ],
            [
             0.1,
             "#c51b7d"
            ],
            [
             0.2,
             "#de77ae"
            ],
            [
             0.3,
             "#f1b6da"
            ],
            [
             0.4,
             "#fde0ef"
            ],
            [
             0.5,
             "#f7f7f7"
            ],
            [
             0.6,
             "#e6f5d0"
            ],
            [
             0.7,
             "#b8e186"
            ],
            [
             0.8,
             "#7fbc41"
            ],
            [
             0.9,
             "#4d9221"
            ],
            [
             1,
             "#276419"
            ]
           ],
           "sequential": [
            [
             0,
             "#0d0887"
            ],
            [
             0.1111111111111111,
             "#46039f"
            ],
            [
             0.2222222222222222,
             "#7201a8"
            ],
            [
             0.3333333333333333,
             "#9c179e"
            ],
            [
             0.4444444444444444,
             "#bd3786"
            ],
            [
             0.5555555555555556,
             "#d8576b"
            ],
            [
             0.6666666666666666,
             "#ed7953"
            ],
            [
             0.7777777777777778,
             "#fb9f3a"
            ],
            [
             0.8888888888888888,
             "#fdca26"
            ],
            [
             1,
             "#f0f921"
            ]
           ],
           "sequentialminus": [
            [
             0,
             "#0d0887"
            ],
            [
             0.1111111111111111,
             "#46039f"
            ],
            [
             0.2222222222222222,
             "#7201a8"
            ],
            [
             0.3333333333333333,
             "#9c179e"
            ],
            [
             0.4444444444444444,
             "#bd3786"
            ],
            [
             0.5555555555555556,
             "#d8576b"
            ],
            [
             0.6666666666666666,
             "#ed7953"
            ],
            [
             0.7777777777777778,
             "#fb9f3a"
            ],
            [
             0.8888888888888888,
             "#fdca26"
            ],
            [
             1,
             "#f0f921"
            ]
           ]
          },
          "colorway": [
           "#636efa",
           "#EF553B",
           "#00cc96",
           "#ab63fa",
           "#FFA15A",
           "#19d3f3",
           "#FF6692",
           "#B6E880",
           "#FF97FF",
           "#FECB52"
          ],
          "font": {
           "color": "#2a3f5f"
          },
          "geo": {
           "bgcolor": "white",
           "lakecolor": "white",
           "landcolor": "#E5ECF6",
           "showlakes": true,
           "showland": true,
           "subunitcolor": "white"
          },
          "hoverlabel": {
           "align": "left"
          },
          "hovermode": "closest",
          "mapbox": {
           "style": "light"
          },
          "paper_bgcolor": "white",
          "plot_bgcolor": "#E5ECF6",
          "polar": {
           "angularaxis": {
            "gridcolor": "white",
            "linecolor": "white",
            "ticks": ""
           },
           "bgcolor": "#E5ECF6",
           "radialaxis": {
            "gridcolor": "white",
            "linecolor": "white",
            "ticks": ""
           }
          },
          "scene": {
           "xaxis": {
            "backgroundcolor": "#E5ECF6",
            "gridcolor": "white",
            "gridwidth": 2,
            "linecolor": "white",
            "showbackground": true,
            "ticks": "",
            "zerolinecolor": "white"
           },
           "yaxis": {
            "backgroundcolor": "#E5ECF6",
            "gridcolor": "white",
            "gridwidth": 2,
            "linecolor": "white",
            "showbackground": true,
            "ticks": "",
            "zerolinecolor": "white"
           },
           "zaxis": {
            "backgroundcolor": "#E5ECF6",
            "gridcolor": "white",
            "gridwidth": 2,
            "linecolor": "white",
            "showbackground": true,
            "ticks": "",
            "zerolinecolor": "white"
           }
          },
          "shapedefaults": {
           "line": {
            "color": "#2a3f5f"
           }
          },
          "ternary": {
           "aaxis": {
            "gridcolor": "white",
            "linecolor": "white",
            "ticks": ""
           },
           "baxis": {
            "gridcolor": "white",
            "linecolor": "white",
            "ticks": ""
           },
           "bgcolor": "#E5ECF6",
           "caxis": {
            "gridcolor": "white",
            "linecolor": "white",
            "ticks": ""
           }
          },
          "title": {
           "x": 0.05
          },
          "xaxis": {
           "automargin": true,
           "gridcolor": "white",
           "linecolor": "white",
           "ticks": "",
           "title": {
            "standoff": 15
           },
           "zerolinecolor": "white",
           "zerolinewidth": 2
          },
          "yaxis": {
           "automargin": true,
           "gridcolor": "white",
           "linecolor": "white",
           "ticks": "",
           "title": {
            "standoff": 15
           },
           "zerolinecolor": "white",
           "zerolinewidth": 2
          }
         }
        }
       }
      }
     },
     "metadata": {},
     "output_type": "display_data"
    }
   ],
   "source": [
    "import plotly.graph_objects as go\n",
    "import pandas as pd\n",
    "\n",
    "data= pd.read_csv(\"https://raw.githubusercontent.com/plotly/datasets/master/2014_usa_states.csv\")\n",
    "\n",
    "fig = go.Figure(data=go.Scatter(x=data['Postal'],\n",
    "                                y=data['Population'],\n",
    "                                mode='markers',\n",
    "                                marker_color=data['Population'],\n",
    "                                text=data['State']))\n",
    "\n",
    "fig.show()"
   ]
  },
  {
   "attachments": {},
   "cell_type": "markdown",
   "metadata": {
    "id": "1uSQFa-GsZJf"
   },
   "source": [
    "### Poner escala de colores"
   ]
  },
  {
   "cell_type": "code",
   "execution_count": 9,
   "metadata": {
    "colab": {
     "base_uri": "https://localhost:8080/",
     "height": 542
    },
    "id": "m0wjYE9-sc04",
    "outputId": "f641fde4-2e48-4f94-d164-fcf1f1896212"
   },
   "outputs": [
    {
     "data": {
      "application/vnd.plotly.v1+json": {
       "config": {
        "plotlyServerURL": "https://plot.ly"
       },
       "data": [
        {
         "marker": {
          "color": [
           -0.8018648993197937,
           -0.16471525805668957,
           -1.559397607867592,
           2.332095206046011,
           -1.2201843884134502,
           2.148619185916955,
           -0.1039976634131456,
           0.2538584939270493,
           0.39588498022439883,
           0.17094621898586512,
           -0.3564198096498849,
           0.8480650108793828,
           0.9987959326585975,
           0.3633422888170656,
           -1.2818325075816914,
           -0.8059042848392165,
           1.5043974325945033,
           -0.823843004568986,
           0.9299346002165024,
           -0.7562316479810565,
           -0.18426577974528985,
           -0.3335286624324296,
           -0.5599507742892099,
           0.4684214195802504,
           1.4285760131985783,
           0.19351736210594492,
           -0.7638602625737648,
           -0.42935655737684,
           0.10231217850190173,
           -1.7368193598588904,
           0.7522852362462918,
           -0.08746137539223518,
           -0.009319181375076735,
           0.2873212753008783,
           -1.0249324293233877,
           -0.16372838541293191,
           0.7519270850520298,
           -1.1776952480793808,
           -0.3152231936053953,
           -1.1080398682486734,
           -0.2702810822780424,
           -0.31342030411949,
           0.5743813236437731,
           -0.13298469238161387,
           0.3755676677662775,
           1.0698557379369384,
           -0.8129876888661267,
           0.3781164579714017,
           -0.49565097021814963,
           1.192815126383138,
           1.3065377284732274,
           -0.5755071214959339,
           0.14696931868914925,
           1.657484559205922,
           1.1616244862562073,
           -1.1970652292431114,
           1.2380103920396826,
           -1.6544303532787443,
           -1.3232994694588267,
           -1.8147525079576308,
           -0.3593330542504356,
           0.8512109224405849,
           1.0840788615573347,
           -0.8002511202622433,
           0.9734431701075549,
           -1.983379307743582,
           -0.6719430883493044,
           -0.03871587790503493,
           -1.0672674685088994,
           1.30031705619223,
           0.6258908167838607,
           -1.4219644703200294,
           -0.7395957706609662,
           -1.073118128193246,
           -0.5626724141221612,
           -0.21884262244945746,
           0.4110746524835666,
           0.14631634570716892,
           0.6723299344510777,
           0.8977943741267799,
           -0.4002090695621518,
           -2.180722366949282,
           -0.6168382912960033,
           -0.7023588665672866,
           1.803197622152711,
           0.05760267529685716,
           -0.8276235473703588,
           1.3541395165323071,
           -0.04646850415713096,
           0.48541367374966826,
           0.6219414639617122,
           -0.6062007681125314,
           -1.0193839438944163,
           -2.9702846942000214,
           2.093701682574213,
           -1.3725804880998627,
           0.5700916594270428,
           -0.4824858977148997,
           0.6989971696125425,
           0.9434137183747912,
           -1.3693855194613052,
           -1.0800758001076516,
           0.15799869293822463,
           -0.5171857431800544,
           2.107282058746042,
           1.0068036489033483,
           0.6907180530802004,
           -2.0123449253868184,
           -0.23673046790746335,
           0.2021666986960555,
           -2.792362222963645,
           0.005775269030705296,
           -0.7346334671614655,
           -0.6549613641569277,
           0.42677030665286764,
           -0.658181529098074,
           0.45530279405065194,
           0.5256993462198292,
           0.5709043429370052,
           -0.2520611616730795,
           0.8032943098872661,
           0.29295981881749034,
           -0.7224210464477524,
           0.6047517132736289,
           0.42508094210236286,
           1.8117860578416607,
           -0.26617427058684645,
           -0.5391038185699681,
           0.017536227466457062,
           -0.6340145269244536,
           -1.217482846018931,
           -1.1131751544839954,
           0.30157451211215597,
           -1.4257804241763392,
           -0.9148172055716822,
           -0.7261318139876142,
           -0.9701986625272593,
           -0.09699208220457677,
           -0.41262349898362877,
           0.6668604053346993,
           -0.7917348535439025,
           -2.038789434011793,
           -0.16330725967951557,
           0.3529940597479158,
           1.2496178773159048,
           -2.0889806712748245,
           -0.4255582422574074,
           -0.7081327941625072,
           -0.4110883217477452,
           0.3291750373166241,
           0.422830644272322,
           0.5916541915005603,
           1.2258897580719368,
           -0.5229763322808645,
           -0.31310396184999095,
           2.558136269364639,
           1.1266874774935076,
           -1.0033767409546095,
           -0.18646133351268585,
           -1.4983997122142103,
           0.14064151844916103,
           -1.0057921188369119,
           -1.0472108291322124,
           0.5016205530072447,
           -0.5964082902635808,
           -0.1653685308874621,
           -0.769312775704351,
           0.32743488113567104,
           -0.1335397442888782,
           0.06000272194131336,
           0.7052174037644805,
           1.628714371269752,
           -1.350846055000954,
           -2.146839959320413,
           -1.0911506307302408,
           -0.3268907894394969,
           -1.687765794489736,
           -0.6879714454286187,
           -0.2810103165425984,
           -1.4855192043822458,
           -1.3402680636341975,
           0.39281692472212865,
           -0.341921176036192,
           0.4818531363888143,
           1.0541186705014973,
           1.5996199884902054,
           -0.5369809436531635,
           -1.5189849882206192,
           -0.19385531941305073,
           2.2114634561803364,
           0.274982320406584,
           1.4498065435209762,
           0.1689308663081836,
           -1.8708130803502494,
           -0.3783876497664325,
           -0.0983769228079289,
           0.9500253027236312,
           0.3635553836976995,
           -1.0953812013141209,
           0.3460169242327452,
           0.8066082780768414,
           0.9930168959456297,
           -1.0462089466527422,
           0.21918647151816179,
           -0.9602618118432883,
           -0.6742521217513142,
           1.4440255060916365,
           -1.6034167727256037,
           -0.289419399977632,
           -0.04224945982235091,
           -0.2872307179454622,
           0.09748702940393474,
           -1.7662024278319852,
           -0.7978022486501705,
           0.9809450497523935,
           1.2359528727453417,
           -0.9488584211535271,
           1.310614003906415,
           0.26680638881876834,
           0.13302661408754948,
           0.8988509029024381,
           -0.1810767700350441,
           1.0612555500693208,
           0.740859751985147,
           -0.7538530488181072,
           1.540513733204912,
           -0.7415487534953129,
           -1.2340950010614078,
           -1.256208466808302,
           0.2889474888795231,
           -0.5878845628356241,
           0.08871528194496917,
           -0.5719856770064582,
           0.7843785067532458,
           0.28501487070881926,
           -0.5562358204625848,
           1.6308912238803408,
           -0.22219622361497834,
           1.7643139692772631,
           -0.8288788387099749,
           -1.0095783440603219,
           -0.9503541254882916,
           -0.44730162626191605,
           -1.314824493083858,
           -1.2319124954183251,
           -0.4894055891636221,
           1.1877208912284392,
           1.509915566567973,
           0.05339233197257437,
           0.8194024721770885,
           1.1053810666834432,
           -0.7971658672233355,
           -1.7393206099368441,
           -0.6718011458694255,
           -0.1604145570755951,
           1.7943477769897047,
           -1.0009299364363533,
           -0.7864623008103752,
           1.023100862621727,
           0.9277336670782552,
           -0.2382207686586539,
           0.9611552183794808,
           -0.24781318474831984,
           -0.17418226209679866,
           -0.04991945023738375,
           0.9557690452695259,
           1.3534075818102493,
           0.8871407820978712,
           0.35696913964136157,
           -1.2569398355037547,
           0.22799352896254327,
           -0.32624090270324013,
           1.145455759716833,
           -0.2556084036189207,
           0.18566427793401738,
           1.15730369197761,
           0.8303219337187834,
           -0.17811513738143211,
           1.753702295233911,
           -0.1124419139929277,
           0.9784429937329773,
           -1.0412461879545294,
           -0.4623403751867181,
           0.6729552495251506,
           -1.2744441438256555,
           0.9513467242580884,
           0.42603377195599,
           -0.072865078762959,
           -0.5508603291164783,
           0.7141721593862627,
           -0.6115232639942374,
           -0.7212647071365628,
           -0.48254060495738077,
           -1.1383305535647594,
           -0.4896161557736553,
           0.2588927303413493,
           -0.07587212702994382,
           0.17649211351032026,
           1.4741506653725882,
           0.021752443241845314,
           0.8864284756929515,
           -0.35277598385383074,
           0.2874747395655364,
           -1.1774604373873185,
           -0.08165576049740406,
           1.1528158797015213,
           -0.6264286088456403,
           0.10068338985863863,
           1.9931780759072866,
           -0.5811352999279711,
           -1.4727347511279623,
           0.3470109032994743,
           0.5957768356927642,
           -2.2211328349418387,
           -1.2790070467934518,
           0.8716834322924892,
           0.2881459546703763,
           1.5062679845766451,
           -0.3802437294162945,
           1.830410260403486,
           -0.06094607156450197,
           -0.08442478996025492,
           0.058671782838740055,
           1.125302713720838,
           1.3705402621024743,
           0.1650097003922736,
           0.7618200709544768,
           0.5903750266601393,
           0.3992302085941974,
           -0.03489115412724804,
           -0.3616766948180912,
           -1.3289082477524712,
           1.2114055566443518,
           0.6270368006615996,
           0.9965818418689735,
           0.669150826275769,
           1.2454116838193583,
           2.065188302930002,
           0.7139567369881565,
           1.370864056133889,
           0.06016281339625612,
           0.2325630500747985,
           0.31767806074832733,
           -0.3232384969580915,
           0.08552517190000992,
           -0.06358136691399453,
           0.6509557946513053,
           1.0635681024582007,
           0.876925101726417,
           -0.08292821324761372,
           0.3012163993112002,
           -0.05442226331578456,
           -0.30772460734154283,
           0.8802570439678035,
           -1.937679914497227,
           -0.4836827898887391,
           0.156494048584067,
           -0.5600521921135011,
           0.6000090950158503,
           -1.0546822503531095,
           1.1825194959907928,
           -0.14895461947559097,
           0.7053377889731273,
           0.5097908741263426,
           0.46742716154359004,
           2.2961089435557236,
           1.6712470443810146,
           0.12107865557585919,
           0.2732810236931255,
           -0.8706727601684501,
           -0.0732161393314988,
           -0.6738714861807104,
           0.14463991476521612,
           -2.0892617156948528,
           -0.541285241272727,
           0.3380661360488244,
           0.29958012815801977,
           0.7173628490049417,
           -2.043805244421556,
           -1.5824580405568867,
           1.3250879619028209,
           0.8639113947296463,
           -1.2473416347994162,
           -0.678788223270633,
           -0.5670945357686801,
           -0.3106861937915221,
           1.5698064721270557,
           -0.4684076770617904,
           0.10497786380632455,
           -0.9959157976230076,
           -1.6380136450925482,
           -0.6307647340310267,
           -0.08282884746800089,
           0.22178946763668886,
           1.2651663391135728,
           0.12055863461870953,
           -1.575345635143493,
           -1.839713539560084,
           -0.8328830616682418,
           -0.9442040171203308,
           -1.6045511401869406,
           0.644311305753557,
           -0.19949082890771122,
           -1.0824284936959063,
           0.13398556672035816,
           -0.11232484063132024,
           0.6292145149108604,
           -0.5316463550547602,
           -0.23397331323571707,
           -0.1186899616305635,
           -0.11747858039589142,
           -0.8708642541823188,
           -0.9556138462635879,
           0.04216838356884933,
           1.1722036437153849,
           1.5332496193107448,
           0.13232902389497242,
           -1.6016237798944646,
           0.7974522107314364,
           -1.481788347723823,
           0.24608355880743724,
           2.0727738938867706,
           0.06346940767842373,
           0.3772852625921035,
           0.23672218029696515,
           0.13770879353750617,
           1.2855139919636862,
           -1.412891686077048,
           -0.13233405368913534,
           -0.19177245470111495,
           -1.7618205849504152,
           -1.2838336240082169,
           -0.053471889694241215,
           -0.020394852899290532,
           -0.219612889760346,
           -0.03195243495996869,
           -0.009686844343905618,
           0.8251906896707101,
           -0.040594565575432194,
           0.2655596591492132,
           0.9577614294755641,
           -0.7027383437977669,
           -0.3413599428999884,
           -0.4358944895906711,
           0.01696114520201858,
           -1.5519328117035767,
           -0.15364462251217648,
           0.3966144700565836,
           0.10959092143778656,
           -1.5435741481646625,
           -0.8474067890207548,
           -1.5110156193877866,
           0.7809488306389618,
           -1.1239583945020808,
           -0.8808770918402778,
           -0.17661852964985264,
           0.695000097520822,
           -1.114088905822157,
           0.3071066096909631,
           0.7616702398431434,
           1.9392673794505895,
           0.17149620702817203,
           -1.4649566112534083,
           -0.8312341916562483,
           -0.06256480728539554,
           -0.3308029064991974,
           -1.8296340114725689,
           0.7757624087300212,
           0.27039523063260523,
           0.14849562680878575,
           1.1496380328641977,
           -0.3433405454685402,
           -1.3400757467096214,
           -0.7735813524307793,
           -0.8969846040646298,
           -0.9509071169088236,
           0.12363866129583626,
           -0.982780624167725,
           0.7384811843450512,
           0.03833776506525266,
           0.7444838636657395,
           0.8830365510821728,
           0.800178316646819,
           -1.208524507888187,
           0.3671238639393704,
           -0.5471198877561972,
           -1.4292493129933512,
           0.46164137391931476,
           0.024171030301401157,
           0.7341286211580409,
           1.063215710415185,
           -0.8888730563934368,
           -2.790809581112622,
           1.301730659505878,
           -1.177780690778847,
           -0.29452044167334124,
           -1.4163182917492267,
           -0.2143852975981408,
           2.818208542620329,
           0.153882970028402
          ],
          "colorscale": [
           [
            0,
            "#440154"
           ],
           [
            0.1111111111111111,
            "#482878"
           ],
           [
            0.2222222222222222,
            "#3e4989"
           ],
           [
            0.3333333333333333,
            "#31688e"
           ],
           [
            0.4444444444444444,
            "#26828e"
           ],
           [
            0.5555555555555556,
            "#1f9e89"
           ],
           [
            0.6666666666666666,
            "#35b779"
           ],
           [
            0.7777777777777778,
            "#6ece58"
           ],
           [
            0.8888888888888888,
            "#b5de2b"
           ],
           [
            1,
            "#fde725"
           ]
          ],
          "showscale": true,
          "size": 16
         },
         "mode": "markers",
         "type": "scatter",
         "y": [
          -0.8215887207936219,
          0.3447327973377155,
          -0.7070490319681504,
          -0.25654372577863027,
          1.123332123904338,
          -0.4355499359905802,
          0.9867953481662811,
          1.3861844507972763,
          0.2350062139129021,
          -0.08789409738000914,
          -1.0085851605927123,
          -0.4085470551941394,
          1.0714405676658103,
          -0.3370462702445946,
          2.1125899550948266,
          1.032887596799147,
          1.5713252182367936,
          0.18719502503097155,
          -1.108516856123086,
          -0.7199627005923199,
          0.5338555931297321,
          -0.0206675192197876,
          0.7393785515754767,
          0.49846051523288193,
          -1.8090993157923732,
          1.066100092298526,
          0.25256331493493644,
          0.29367021085258493,
          1.84910167033282,
          0.3323543402622344,
          0.786120250222277,
          0.20138762249552955,
          0.30292581922409817,
          -1.5762847525438557,
          0.2544485621440094,
          -0.638566167601752,
          -1.6394148489604659,
          0.05108307490186636,
          -0.9474320451098407,
          -0.08416838817022274,
          1.5321766857239818,
          0.25692698163609967,
          2.1771053553688113,
          0.4008630207960195,
          -1.6871517205389959,
          -1.473275007697506,
          -1.804498503802392,
          0.39717383348451035,
          -0.17354581804173985,
          -1.2428581665258471,
          -1.012195531566856,
          0.6006582723592478,
          0.37727498121103187,
          -1.083941188993103,
          0.9794128244973697,
          -0.8328729379249911,
          1.3694844094660859,
          1.328369414043718,
          0.3409469002960057,
          0.08324029406612748,
          0.4660780098657858,
          -0.38129931303997566,
          -0.2971419089396751,
          -0.09490066064477366,
          -2.078194549276754,
          -1.1581273585522083,
          -1.7796907675937397,
          -1.2474239293916494,
          0.2580122750257426,
          0.50161884407195,
          -0.029066069959358898,
          0.5484717843921899,
          0.3202993871724011,
          0.69805218664471,
          -0.7697055953196155,
          0.40659399388788375,
          1.3476768512150132,
          -0.8752179859631076,
          0.9860132240883908,
          1.721283902760777,
          0.6125207628818291,
          0.06957731573938933,
          -0.6266230089629767,
          0.8770876726340668,
          0.4423623066427192,
          0.991625943626609,
          -0.6148001058059841,
          -0.9073162350624124,
          0.22202572433326248,
          -1.8635332195756653,
          0.10699851487676912,
          -0.1267902833778729,
          -0.8259436502114903,
          -1.540055859834443,
          -1.0414596460969323,
          -1.3084542517486204,
          1.1347795486614187,
          0.9836598781109958,
          2.0749862895260622,
          1.145419575955622,
          0.9257469848919602,
          0.30863925160185046,
          -1.3337791494779971,
          -1.914148092551062,
          0.06067610755877355,
          0.375456573221243,
          -1.781189651871119,
          -0.03942692600743545,
          -2.230664994019428,
          -0.5038670078356701,
          0.31367202731648197,
          -0.45505972485497365,
          0.2190764836057255,
          -1.116798249216827,
          1.1309361608188124,
          -0.18005430624539245,
          0.08271698805594281,
          -0.7644425843331057,
          0.1592843035449786,
          -1.3998238199728668,
          -0.6265276699361455,
          0.24215982420785062,
          -0.2246632020289938,
          0.4820053537155835,
          -1.5789034973148295,
          0.34470805959741724,
          -0.2922536037321923,
          -0.2533812375224499,
          2.3788423172236763,
          0.9174608623419751,
          0.2398984776784402,
          -0.5860045213832108,
          -0.0609518256498876,
          -0.4402178694305284,
          -0.05726970140955524,
          -0.6872181011109871,
          1.9242439203215953,
          -0.038615684106999275,
          -1.7226923562388188,
          1.0880308498105142,
          0.10051602288537596,
          1.617146384099832,
          1.4204057170764335,
          -0.3734629440381513,
          -0.5237935008859508,
          -0.6775972795925139,
          0.29314435867767,
          -0.71189851597642,
          1.9241370691142838,
          -0.04715068700470496,
          -0.5738452391157602,
          -0.35812571086137096,
          -0.9552043435540299,
          -1.0089447457575313,
          -0.6283253062730454,
          -0.6033052950244542,
          0.2835680215413434,
          -1.0552792704717304,
          -0.05113158309831914,
          1.0009433135995955,
          1.0386694883304963,
          -0.15408035041931636,
          1.23880721668144,
          -0.6153894499274914,
          -1.1710706621135132,
          1.269450668705563,
          -1.6570525975680672,
          -2.002396488699875,
          0.41880922143808313,
          -1.2332232901888278,
          -0.6405189490567553,
          -1.8411294939977694,
          -0.6013073841001516,
          -0.010075309030313744,
          -0.6814113221660173,
          -0.03511571482692356,
          1.087781181316596,
          0.619986691491757,
          1.0449125141304674,
          0.8803505395605543,
          0.008327169899832659,
          -2.2698466382865328,
          -1.185760880661592,
          0.8286012542015316,
          -0.7043438314805419,
          0.10265263190495405,
          0.45063698136500197,
          -0.5807467893020869,
          -0.6105086019208402,
          0.8603218008698342,
          0.08981385093859526,
          -0.32653316249540415,
          -4.251255361420651,
          0.9185343880701455,
          0.28999184734999056,
          1.3077548704998339,
          0.2994477393876124,
          0.43170450271552563,
          0.15614406838342365,
          -0.8719891868207605,
          -0.6542260845246824,
          0.33611960752922165,
          -0.060318421124763114,
          -0.5439089785014405,
          -0.6521308872094027,
          -0.11524289380086905,
          0.585139809903531,
          1.91914977957093,
          1.0564641750926969,
          1.3629093356940396,
          0.04922450475039156,
          0.3100952829021515,
          0.5415463492407379,
          -0.37690145828391386,
          0.7067642482181835,
          0.5528492770314701,
          0.3900955962949073,
          -0.31780314211518484,
          0.84992053392586,
          1.585700882921914,
          -0.46357942487312015,
          2.1790458618568307,
          -2.09826687672382,
          0.8106124059249803,
          -0.48013985827132644,
          0.670195230273581,
          -1.414038044193501,
          -0.7567619663242909,
          -0.35261505152759887,
          0.5628310661548916,
          1.002110583057546,
          -0.9502837653091808,
          -0.0840514063111526,
          -2.28559451711835,
          -0.8087993207571258,
          -1.516451730892258,
          -2.168624692330491,
          0.366456816335681,
          -1.2364595263296454,
          0.1974265099017301,
          0.5741717309043349,
          -0.29429441621511543,
          1.1084230465724532,
          0.01887666885430406,
          -0.5582099946697427,
          1.2731330223426143,
          -0.5921502115423559,
          -0.19363258526780835,
          0.5626203287518601,
          -0.0775838370362251,
          0.3693832559586063,
          0.4242951342556622,
          0.23831650545340696,
          0.09115899378110626,
          0.3624788394702451,
          0.3031144091010897,
          -0.9282770198293906,
          -1.9342480790974355,
          -1.0745575680468078,
          -1.0699036385998064,
          1.9193749163828062,
          -0.36876781801471753,
          0.8224342652258221,
          -0.12080828491126293,
          0.04806549628724885,
          0.5873927346298183,
          -0.13148802263274315,
          1.314990371750621,
          0.8318105904567853,
          0.4770812922792786,
          -0.4264971627284221,
          0.9002307900125915,
          0.2566541686814718,
          -0.5722655729856463,
          0.3851573825896476,
          1.1357943570911848,
          -0.43389664027615216,
          -0.2881853314088832,
          0.9065624829112181,
          0.6204427340780116,
          -1.5438040959028445,
          -2.0844100839437005,
          -0.7224752035292018,
          -0.6693218492601178,
          -0.21880792523425083,
          -1.3441206048411376,
          -1.1711347953323694,
          0.7441434086116753,
          0.8978204915965509,
          0.7839289153506224,
          0.20039421074487054,
          -0.2402882292570414,
          0.7449103562077742,
          -0.5130885329983068,
          -2.2625905558219963,
          -0.045286196632487036,
          -1.1949009382425866,
          -0.28618933211694064,
          0.7616485153931819,
          1.0148294842351286,
          -0.5462977297353636,
          1.132626250583948,
          -0.8502706179858263,
          -0.2595936961880093,
          0.07302731232823871,
          0.07561839078330637,
          -0.7434247081525881,
          -0.651840848673865,
          0.2457461872336311,
          -1.7141328607778188,
          -0.8876822441519375,
          -0.44087499734289304,
          1.177250698880479,
          1.3962221039376366,
          0.02804916139679534,
          0.051477245308718236,
          -0.30323912305813405,
          -0.06586446277654254,
          -0.07384812821647788,
          -0.1286492937173591,
          0.22036568652278188,
          -0.27914582622324763,
          -1.1059729125109201,
          -0.14681240167829246,
          0.976990131524296,
          0.6790957350592084,
          -0.3471937365021946,
          -0.30926437106395843,
          -1.4843304015758931,
          -0.07499158192188139,
          0.9481139446459351,
          -0.437189369477329,
          -1.215059617229313,
          -1.4021203677865124,
          -1.1249552700531331,
          -0.4258879844032788,
          0.022446916038993632,
          -0.7634127301660324,
          -0.888407149795987,
          1.0583110222811343,
          0.7718286763631793,
          -0.6417499117892282,
          2.0127361326917623,
          0.33668219427434526,
          -1.0215816277007816,
          0.48531256581876053,
          -1.1817236196712786,
          -0.33153191404067917,
          -0.6371533898107468,
          1.606873535459021,
          0.16175395462007544,
          -0.606913829178499,
          0.7126503631036427,
          0.6620171648248879,
          -0.46317218415412437,
          0.25383120701231243,
          -1.7092667700845383,
          0.03733810160837516,
          1.0222338808670035,
          -1.5417376741843298,
          -1.4550809516296648,
          1.0037054841706439,
          1.6984587973133378,
          -0.12002111342024152,
          -1.857889321044555,
          -0.993482507082227,
          -2.0605546831107966,
          0.32795942714126974,
          -0.28566194768278347,
          0.6019184087137018,
          -0.2136815152146,
          -1.0652578598645648,
          0.9570723396065882,
          -0.3437720021739113,
          -0.133323589052477,
          -0.39250885224450777,
          0.15179097121416996,
          -0.26218028855152803,
          -0.10351324959163705,
          -0.8667629632512638,
          -1.3074360544901849,
          0.8310088270979107,
          0.05139923253155466,
          1.045600918120314,
          0.18674080428380252,
          -0.14233307354521452,
          -1.5319896971713642,
          1.1914867044672057,
          -0.757634813491294,
          1.2156023608615907,
          1.9882965727867827,
          -0.07844210636917703,
          -0.7399768071450539,
          -0.3033426343522437,
          -0.7414244250867363,
          0.8927766712522387,
          0.010789209135090884,
          -0.6529894491994663,
          0.14434958772184853,
          -0.8038729286442664,
          0.7277531719561809,
          -0.8106300082721951,
          0.8130457937129039,
          2.0431758307654158,
          0.4753774969007013,
          1.4901362779504768,
          -0.3828385149685013,
          0.8537604823740591,
          -1.3300276210460595,
          -0.6339024342406561,
          1.259283932261128,
          1.4656163903388408,
          0.5042729515800647,
          1.2918815226087605,
          -1.6249703100466464,
          -1.6371644431348318,
          -1.0372222278029233,
          -2.34747850693808,
          0.13599571514767272,
          -0.10381099976891668,
          -0.8129508961455205,
          1.7346486574188955,
          0.1920705746810874,
          -1.3269823073369609,
          0.07217908925268217,
          -0.5613405513512035,
          -0.9691491314465659,
          -0.6650238245395679,
          0.4224324814068603,
          1.1778076001574282,
          -0.44089612788375443,
          -1.1033052693241168,
          0.8594482772350605,
          -2.040837571511888,
          0.25602281102654006,
          0.3064315814259641,
          0.39830126267879445,
          0.35751188794364075,
          0.13626074362189244,
          1.3065263415226156,
          0.3338136146004322,
          -0.36036947130312347,
          0.23780433324069702,
          0.05876839894814349,
          0.7214205426358877,
          0.9328579086673787,
          -0.7232268105853301,
          -0.29951349768663876,
          2.1103849594001867,
          0.8720865899564986,
          -1.574865512153741,
          -0.47506687157973065,
          -0.8585730168916281,
          -1.3203365687202122,
          -0.20857917525990075,
          1.39720479779265,
          0.5747888401902401,
          -0.009428703823487122,
          0.2859606650284204,
          0.9133815555031106,
          0.7457533082971965,
          0.7021434752822411,
          1.0332035338704115,
          -0.21578182043427108,
          0.08084821871176506,
          -0.46735120726952734,
          -1.0198070905377035,
          -0.016607661230866554,
          0.7499713435847609,
          -0.5013320695164654,
          0.5770560288513121,
          0.7738684171506283,
          1.3078637446428463,
          1.218779530814111,
          -2.0110664645445966,
          -3.1145773438563453,
          -0.4084544144693206,
          -0.076700998077459,
          -0.5285555242165394,
          -1.2988392994444045,
          0.08518464069077906,
          -0.9616529063781996,
          -1.3852289811380798,
          1.2688882294678856,
          0.8963953949330323,
          1.2076274954697945,
          0.5923232506375015,
          -0.16089115977092813,
          0.06264154088155409,
          -0.6931680731975927,
          -0.8508949019144123,
          0.27285756956876983,
          0.6476214273067248,
          0.9033079427126924,
          1.4976170702437333,
          -0.4275450885688382,
          -1.2010487619476455,
          -1.3740405962413964,
          0.6269445423309082,
          -0.019585499397333398
         ]
        }
       ],
       "layout": {
        "template": {
         "data": {
          "bar": [
           {
            "error_x": {
             "color": "#2a3f5f"
            },
            "error_y": {
             "color": "#2a3f5f"
            },
            "marker": {
             "line": {
              "color": "#E5ECF6",
              "width": 0.5
             },
             "pattern": {
              "fillmode": "overlay",
              "size": 10,
              "solidity": 0.2
             }
            },
            "type": "bar"
           }
          ],
          "barpolar": [
           {
            "marker": {
             "line": {
              "color": "#E5ECF6",
              "width": 0.5
             },
             "pattern": {
              "fillmode": "overlay",
              "size": 10,
              "solidity": 0.2
             }
            },
            "type": "barpolar"
           }
          ],
          "carpet": [
           {
            "aaxis": {
             "endlinecolor": "#2a3f5f",
             "gridcolor": "white",
             "linecolor": "white",
             "minorgridcolor": "white",
             "startlinecolor": "#2a3f5f"
            },
            "baxis": {
             "endlinecolor": "#2a3f5f",
             "gridcolor": "white",
             "linecolor": "white",
             "minorgridcolor": "white",
             "startlinecolor": "#2a3f5f"
            },
            "type": "carpet"
           }
          ],
          "choropleth": [
           {
            "colorbar": {
             "outlinewidth": 0,
             "ticks": ""
            },
            "type": "choropleth"
           }
          ],
          "contour": [
           {
            "colorbar": {
             "outlinewidth": 0,
             "ticks": ""
            },
            "colorscale": [
             [
              0,
              "#0d0887"
             ],
             [
              0.1111111111111111,
              "#46039f"
             ],
             [
              0.2222222222222222,
              "#7201a8"
             ],
             [
              0.3333333333333333,
              "#9c179e"
             ],
             [
              0.4444444444444444,
              "#bd3786"
             ],
             [
              0.5555555555555556,
              "#d8576b"
             ],
             [
              0.6666666666666666,
              "#ed7953"
             ],
             [
              0.7777777777777778,
              "#fb9f3a"
             ],
             [
              0.8888888888888888,
              "#fdca26"
             ],
             [
              1,
              "#f0f921"
             ]
            ],
            "type": "contour"
           }
          ],
          "contourcarpet": [
           {
            "colorbar": {
             "outlinewidth": 0,
             "ticks": ""
            },
            "type": "contourcarpet"
           }
          ],
          "heatmap": [
           {
            "colorbar": {
             "outlinewidth": 0,
             "ticks": ""
            },
            "colorscale": [
             [
              0,
              "#0d0887"
             ],
             [
              0.1111111111111111,
              "#46039f"
             ],
             [
              0.2222222222222222,
              "#7201a8"
             ],
             [
              0.3333333333333333,
              "#9c179e"
             ],
             [
              0.4444444444444444,
              "#bd3786"
             ],
             [
              0.5555555555555556,
              "#d8576b"
             ],
             [
              0.6666666666666666,
              "#ed7953"
             ],
             [
              0.7777777777777778,
              "#fb9f3a"
             ],
             [
              0.8888888888888888,
              "#fdca26"
             ],
             [
              1,
              "#f0f921"
             ]
            ],
            "type": "heatmap"
           }
          ],
          "heatmapgl": [
           {
            "colorbar": {
             "outlinewidth": 0,
             "ticks": ""
            },
            "colorscale": [
             [
              0,
              "#0d0887"
             ],
             [
              0.1111111111111111,
              "#46039f"
             ],
             [
              0.2222222222222222,
              "#7201a8"
             ],
             [
              0.3333333333333333,
              "#9c179e"
             ],
             [
              0.4444444444444444,
              "#bd3786"
             ],
             [
              0.5555555555555556,
              "#d8576b"
             ],
             [
              0.6666666666666666,
              "#ed7953"
             ],
             [
              0.7777777777777778,
              "#fb9f3a"
             ],
             [
              0.8888888888888888,
              "#fdca26"
             ],
             [
              1,
              "#f0f921"
             ]
            ],
            "type": "heatmapgl"
           }
          ],
          "histogram": [
           {
            "marker": {
             "pattern": {
              "fillmode": "overlay",
              "size": 10,
              "solidity": 0.2
             }
            },
            "type": "histogram"
           }
          ],
          "histogram2d": [
           {
            "colorbar": {
             "outlinewidth": 0,
             "ticks": ""
            },
            "colorscale": [
             [
              0,
              "#0d0887"
             ],
             [
              0.1111111111111111,
              "#46039f"
             ],
             [
              0.2222222222222222,
              "#7201a8"
             ],
             [
              0.3333333333333333,
              "#9c179e"
             ],
             [
              0.4444444444444444,
              "#bd3786"
             ],
             [
              0.5555555555555556,
              "#d8576b"
             ],
             [
              0.6666666666666666,
              "#ed7953"
             ],
             [
              0.7777777777777778,
              "#fb9f3a"
             ],
             [
              0.8888888888888888,
              "#fdca26"
             ],
             [
              1,
              "#f0f921"
             ]
            ],
            "type": "histogram2d"
           }
          ],
          "histogram2dcontour": [
           {
            "colorbar": {
             "outlinewidth": 0,
             "ticks": ""
            },
            "colorscale": [
             [
              0,
              "#0d0887"
             ],
             [
              0.1111111111111111,
              "#46039f"
             ],
             [
              0.2222222222222222,
              "#7201a8"
             ],
             [
              0.3333333333333333,
              "#9c179e"
             ],
             [
              0.4444444444444444,
              "#bd3786"
             ],
             [
              0.5555555555555556,
              "#d8576b"
             ],
             [
              0.6666666666666666,
              "#ed7953"
             ],
             [
              0.7777777777777778,
              "#fb9f3a"
             ],
             [
              0.8888888888888888,
              "#fdca26"
             ],
             [
              1,
              "#f0f921"
             ]
            ],
            "type": "histogram2dcontour"
           }
          ],
          "mesh3d": [
           {
            "colorbar": {
             "outlinewidth": 0,
             "ticks": ""
            },
            "type": "mesh3d"
           }
          ],
          "parcoords": [
           {
            "line": {
             "colorbar": {
              "outlinewidth": 0,
              "ticks": ""
             }
            },
            "type": "parcoords"
           }
          ],
          "pie": [
           {
            "automargin": true,
            "type": "pie"
           }
          ],
          "scatter": [
           {
            "fillpattern": {
             "fillmode": "overlay",
             "size": 10,
             "solidity": 0.2
            },
            "type": "scatter"
           }
          ],
          "scatter3d": [
           {
            "line": {
             "colorbar": {
              "outlinewidth": 0,
              "ticks": ""
             }
            },
            "marker": {
             "colorbar": {
              "outlinewidth": 0,
              "ticks": ""
             }
            },
            "type": "scatter3d"
           }
          ],
          "scattercarpet": [
           {
            "marker": {
             "colorbar": {
              "outlinewidth": 0,
              "ticks": ""
             }
            },
            "type": "scattercarpet"
           }
          ],
          "scattergeo": [
           {
            "marker": {
             "colorbar": {
              "outlinewidth": 0,
              "ticks": ""
             }
            },
            "type": "scattergeo"
           }
          ],
          "scattergl": [
           {
            "marker": {
             "colorbar": {
              "outlinewidth": 0,
              "ticks": ""
             }
            },
            "type": "scattergl"
           }
          ],
          "scattermapbox": [
           {
            "marker": {
             "colorbar": {
              "outlinewidth": 0,
              "ticks": ""
             }
            },
            "type": "scattermapbox"
           }
          ],
          "scatterpolar": [
           {
            "marker": {
             "colorbar": {
              "outlinewidth": 0,
              "ticks": ""
             }
            },
            "type": "scatterpolar"
           }
          ],
          "scatterpolargl": [
           {
            "marker": {
             "colorbar": {
              "outlinewidth": 0,
              "ticks": ""
             }
            },
            "type": "scatterpolargl"
           }
          ],
          "scatterternary": [
           {
            "marker": {
             "colorbar": {
              "outlinewidth": 0,
              "ticks": ""
             }
            },
            "type": "scatterternary"
           }
          ],
          "surface": [
           {
            "colorbar": {
             "outlinewidth": 0,
             "ticks": ""
            },
            "colorscale": [
             [
              0,
              "#0d0887"
             ],
             [
              0.1111111111111111,
              "#46039f"
             ],
             [
              0.2222222222222222,
              "#7201a8"
             ],
             [
              0.3333333333333333,
              "#9c179e"
             ],
             [
              0.4444444444444444,
              "#bd3786"
             ],
             [
              0.5555555555555556,
              "#d8576b"
             ],
             [
              0.6666666666666666,
              "#ed7953"
             ],
             [
              0.7777777777777778,
              "#fb9f3a"
             ],
             [
              0.8888888888888888,
              "#fdca26"
             ],
             [
              1,
              "#f0f921"
             ]
            ],
            "type": "surface"
           }
          ],
          "table": [
           {
            "cells": {
             "fill": {
              "color": "#EBF0F8"
             },
             "line": {
              "color": "white"
             }
            },
            "header": {
             "fill": {
              "color": "#C8D4E3"
             },
             "line": {
              "color": "white"
             }
            },
            "type": "table"
           }
          ]
         },
         "layout": {
          "annotationdefaults": {
           "arrowcolor": "#2a3f5f",
           "arrowhead": 0,
           "arrowwidth": 1
          },
          "autotypenumbers": "strict",
          "coloraxis": {
           "colorbar": {
            "outlinewidth": 0,
            "ticks": ""
           }
          },
          "colorscale": {
           "diverging": [
            [
             0,
             "#8e0152"
            ],
            [
             0.1,
             "#c51b7d"
            ],
            [
             0.2,
             "#de77ae"
            ],
            [
             0.3,
             "#f1b6da"
            ],
            [
             0.4,
             "#fde0ef"
            ],
            [
             0.5,
             "#f7f7f7"
            ],
            [
             0.6,
             "#e6f5d0"
            ],
            [
             0.7,
             "#b8e186"
            ],
            [
             0.8,
             "#7fbc41"
            ],
            [
             0.9,
             "#4d9221"
            ],
            [
             1,
             "#276419"
            ]
           ],
           "sequential": [
            [
             0,
             "#0d0887"
            ],
            [
             0.1111111111111111,
             "#46039f"
            ],
            [
             0.2222222222222222,
             "#7201a8"
            ],
            [
             0.3333333333333333,
             "#9c179e"
            ],
            [
             0.4444444444444444,
             "#bd3786"
            ],
            [
             0.5555555555555556,
             "#d8576b"
            ],
            [
             0.6666666666666666,
             "#ed7953"
            ],
            [
             0.7777777777777778,
             "#fb9f3a"
            ],
            [
             0.8888888888888888,
             "#fdca26"
            ],
            [
             1,
             "#f0f921"
            ]
           ],
           "sequentialminus": [
            [
             0,
             "#0d0887"
            ],
            [
             0.1111111111111111,
             "#46039f"
            ],
            [
             0.2222222222222222,
             "#7201a8"
            ],
            [
             0.3333333333333333,
             "#9c179e"
            ],
            [
             0.4444444444444444,
             "#bd3786"
            ],
            [
             0.5555555555555556,
             "#d8576b"
            ],
            [
             0.6666666666666666,
             "#ed7953"
            ],
            [
             0.7777777777777778,
             "#fb9f3a"
            ],
            [
             0.8888888888888888,
             "#fdca26"
            ],
            [
             1,
             "#f0f921"
            ]
           ]
          },
          "colorway": [
           "#636efa",
           "#EF553B",
           "#00cc96",
           "#ab63fa",
           "#FFA15A",
           "#19d3f3",
           "#FF6692",
           "#B6E880",
           "#FF97FF",
           "#FECB52"
          ],
          "font": {
           "color": "#2a3f5f"
          },
          "geo": {
           "bgcolor": "white",
           "lakecolor": "white",
           "landcolor": "#E5ECF6",
           "showlakes": true,
           "showland": true,
           "subunitcolor": "white"
          },
          "hoverlabel": {
           "align": "left"
          },
          "hovermode": "closest",
          "mapbox": {
           "style": "light"
          },
          "paper_bgcolor": "white",
          "plot_bgcolor": "#E5ECF6",
          "polar": {
           "angularaxis": {
            "gridcolor": "white",
            "linecolor": "white",
            "ticks": ""
           },
           "bgcolor": "#E5ECF6",
           "radialaxis": {
            "gridcolor": "white",
            "linecolor": "white",
            "ticks": ""
           }
          },
          "scene": {
           "xaxis": {
            "backgroundcolor": "#E5ECF6",
            "gridcolor": "white",
            "gridwidth": 2,
            "linecolor": "white",
            "showbackground": true,
            "ticks": "",
            "zerolinecolor": "white"
           },
           "yaxis": {
            "backgroundcolor": "#E5ECF6",
            "gridcolor": "white",
            "gridwidth": 2,
            "linecolor": "white",
            "showbackground": true,
            "ticks": "",
            "zerolinecolor": "white"
           },
           "zaxis": {
            "backgroundcolor": "#E5ECF6",
            "gridcolor": "white",
            "gridwidth": 2,
            "linecolor": "white",
            "showbackground": true,
            "ticks": "",
            "zerolinecolor": "white"
           }
          },
          "shapedefaults": {
           "line": {
            "color": "#2a3f5f"
           }
          },
          "ternary": {
           "aaxis": {
            "gridcolor": "white",
            "linecolor": "white",
            "ticks": ""
           },
           "baxis": {
            "gridcolor": "white",
            "linecolor": "white",
            "ticks": ""
           },
           "bgcolor": "#E5ECF6",
           "caxis": {
            "gridcolor": "white",
            "linecolor": "white",
            "ticks": ""
           }
          },
          "title": {
           "x": 0.05
          },
          "xaxis": {
           "automargin": true,
           "gridcolor": "white",
           "linecolor": "white",
           "ticks": "",
           "title": {
            "standoff": 15
           },
           "zerolinecolor": "white",
           "zerolinewidth": 2
          },
          "yaxis": {
           "automargin": true,
           "gridcolor": "white",
           "linecolor": "white",
           "ticks": "",
           "title": {
            "standoff": 15
           },
           "zerolinecolor": "white",
           "zerolinewidth": 2
          }
         }
        }
       }
      }
     },
     "metadata": {},
     "output_type": "display_data"
    }
   ],
   "source": [
    "import plotly.graph_objects as go\n",
    "import numpy as np\n",
    "\n",
    "fig = go.Figure(data=go.Scatter(\n",
    "    y = np.random.randn(500),\n",
    "    mode='markers',\n",
    "    marker=dict(\n",
    "        size=16,\n",
    "        color=np.random.randn(500),\n",
    "        colorscale='Viridis', \n",
    "        showscale=True\n",
    "    )\n",
    "))\n",
    "\n",
    "fig.show()"
   ]
  },
  {
   "attachments": {},
   "cell_type": "markdown",
   "metadata": {
    "id": "JKxIr_QAswqW"
   },
   "source": [
    "### Tamaño de los puntos en función de los datos"
   ]
  },
  {
   "cell_type": "code",
   "execution_count": 10,
   "metadata": {
    "colab": {
     "base_uri": "https://localhost:8080/",
     "height": 542
    },
    "id": "ZVl9PDHus0Rf",
    "outputId": "d7e52df3-111e-4ab6-d95b-c0211ee4c00e"
   },
   "outputs": [
    {
     "data": {
      "application/vnd.plotly.v1+json": {
       "config": {
        "plotlyServerURL": "https://plot.ly"
       },
       "data": [
        {
         "marker": {
          "color": [
           0,
           1,
           2,
           3
          ],
          "size": [
           40,
           60,
           80,
           100
          ]
         },
         "mode": "markers",
         "type": "scatter",
         "x": [
          1,
          2,
          3,
          4
         ],
         "y": [
          10,
          11,
          12,
          13
         ]
        }
       ],
       "layout": {
        "template": {
         "data": {
          "bar": [
           {
            "error_x": {
             "color": "#2a3f5f"
            },
            "error_y": {
             "color": "#2a3f5f"
            },
            "marker": {
             "line": {
              "color": "#E5ECF6",
              "width": 0.5
             },
             "pattern": {
              "fillmode": "overlay",
              "size": 10,
              "solidity": 0.2
             }
            },
            "type": "bar"
           }
          ],
          "barpolar": [
           {
            "marker": {
             "line": {
              "color": "#E5ECF6",
              "width": 0.5
             },
             "pattern": {
              "fillmode": "overlay",
              "size": 10,
              "solidity": 0.2
             }
            },
            "type": "barpolar"
           }
          ],
          "carpet": [
           {
            "aaxis": {
             "endlinecolor": "#2a3f5f",
             "gridcolor": "white",
             "linecolor": "white",
             "minorgridcolor": "white",
             "startlinecolor": "#2a3f5f"
            },
            "baxis": {
             "endlinecolor": "#2a3f5f",
             "gridcolor": "white",
             "linecolor": "white",
             "minorgridcolor": "white",
             "startlinecolor": "#2a3f5f"
            },
            "type": "carpet"
           }
          ],
          "choropleth": [
           {
            "colorbar": {
             "outlinewidth": 0,
             "ticks": ""
            },
            "type": "choropleth"
           }
          ],
          "contour": [
           {
            "colorbar": {
             "outlinewidth": 0,
             "ticks": ""
            },
            "colorscale": [
             [
              0,
              "#0d0887"
             ],
             [
              0.1111111111111111,
              "#46039f"
             ],
             [
              0.2222222222222222,
              "#7201a8"
             ],
             [
              0.3333333333333333,
              "#9c179e"
             ],
             [
              0.4444444444444444,
              "#bd3786"
             ],
             [
              0.5555555555555556,
              "#d8576b"
             ],
             [
              0.6666666666666666,
              "#ed7953"
             ],
             [
              0.7777777777777778,
              "#fb9f3a"
             ],
             [
              0.8888888888888888,
              "#fdca26"
             ],
             [
              1,
              "#f0f921"
             ]
            ],
            "type": "contour"
           }
          ],
          "contourcarpet": [
           {
            "colorbar": {
             "outlinewidth": 0,
             "ticks": ""
            },
            "type": "contourcarpet"
           }
          ],
          "heatmap": [
           {
            "colorbar": {
             "outlinewidth": 0,
             "ticks": ""
            },
            "colorscale": [
             [
              0,
              "#0d0887"
             ],
             [
              0.1111111111111111,
              "#46039f"
             ],
             [
              0.2222222222222222,
              "#7201a8"
             ],
             [
              0.3333333333333333,
              "#9c179e"
             ],
             [
              0.4444444444444444,
              "#bd3786"
             ],
             [
              0.5555555555555556,
              "#d8576b"
             ],
             [
              0.6666666666666666,
              "#ed7953"
             ],
             [
              0.7777777777777778,
              "#fb9f3a"
             ],
             [
              0.8888888888888888,
              "#fdca26"
             ],
             [
              1,
              "#f0f921"
             ]
            ],
            "type": "heatmap"
           }
          ],
          "heatmapgl": [
           {
            "colorbar": {
             "outlinewidth": 0,
             "ticks": ""
            },
            "colorscale": [
             [
              0,
              "#0d0887"
             ],
             [
              0.1111111111111111,
              "#46039f"
             ],
             [
              0.2222222222222222,
              "#7201a8"
             ],
             [
              0.3333333333333333,
              "#9c179e"
             ],
             [
              0.4444444444444444,
              "#bd3786"
             ],
             [
              0.5555555555555556,
              "#d8576b"
             ],
             [
              0.6666666666666666,
              "#ed7953"
             ],
             [
              0.7777777777777778,
              "#fb9f3a"
             ],
             [
              0.8888888888888888,
              "#fdca26"
             ],
             [
              1,
              "#f0f921"
             ]
            ],
            "type": "heatmapgl"
           }
          ],
          "histogram": [
           {
            "marker": {
             "pattern": {
              "fillmode": "overlay",
              "size": 10,
              "solidity": 0.2
             }
            },
            "type": "histogram"
           }
          ],
          "histogram2d": [
           {
            "colorbar": {
             "outlinewidth": 0,
             "ticks": ""
            },
            "colorscale": [
             [
              0,
              "#0d0887"
             ],
             [
              0.1111111111111111,
              "#46039f"
             ],
             [
              0.2222222222222222,
              "#7201a8"
             ],
             [
              0.3333333333333333,
              "#9c179e"
             ],
             [
              0.4444444444444444,
              "#bd3786"
             ],
             [
              0.5555555555555556,
              "#d8576b"
             ],
             [
              0.6666666666666666,
              "#ed7953"
             ],
             [
              0.7777777777777778,
              "#fb9f3a"
             ],
             [
              0.8888888888888888,
              "#fdca26"
             ],
             [
              1,
              "#f0f921"
             ]
            ],
            "type": "histogram2d"
           }
          ],
          "histogram2dcontour": [
           {
            "colorbar": {
             "outlinewidth": 0,
             "ticks": ""
            },
            "colorscale": [
             [
              0,
              "#0d0887"
             ],
             [
              0.1111111111111111,
              "#46039f"
             ],
             [
              0.2222222222222222,
              "#7201a8"
             ],
             [
              0.3333333333333333,
              "#9c179e"
             ],
             [
              0.4444444444444444,
              "#bd3786"
             ],
             [
              0.5555555555555556,
              "#d8576b"
             ],
             [
              0.6666666666666666,
              "#ed7953"
             ],
             [
              0.7777777777777778,
              "#fb9f3a"
             ],
             [
              0.8888888888888888,
              "#fdca26"
             ],
             [
              1,
              "#f0f921"
             ]
            ],
            "type": "histogram2dcontour"
           }
          ],
          "mesh3d": [
           {
            "colorbar": {
             "outlinewidth": 0,
             "ticks": ""
            },
            "type": "mesh3d"
           }
          ],
          "parcoords": [
           {
            "line": {
             "colorbar": {
              "outlinewidth": 0,
              "ticks": ""
             }
            },
            "type": "parcoords"
           }
          ],
          "pie": [
           {
            "automargin": true,
            "type": "pie"
           }
          ],
          "scatter": [
           {
            "fillpattern": {
             "fillmode": "overlay",
             "size": 10,
             "solidity": 0.2
            },
            "type": "scatter"
           }
          ],
          "scatter3d": [
           {
            "line": {
             "colorbar": {
              "outlinewidth": 0,
              "ticks": ""
             }
            },
            "marker": {
             "colorbar": {
              "outlinewidth": 0,
              "ticks": ""
             }
            },
            "type": "scatter3d"
           }
          ],
          "scattercarpet": [
           {
            "marker": {
             "colorbar": {
              "outlinewidth": 0,
              "ticks": ""
             }
            },
            "type": "scattercarpet"
           }
          ],
          "scattergeo": [
           {
            "marker": {
             "colorbar": {
              "outlinewidth": 0,
              "ticks": ""
             }
            },
            "type": "scattergeo"
           }
          ],
          "scattergl": [
           {
            "marker": {
             "colorbar": {
              "outlinewidth": 0,
              "ticks": ""
             }
            },
            "type": "scattergl"
           }
          ],
          "scattermapbox": [
           {
            "marker": {
             "colorbar": {
              "outlinewidth": 0,
              "ticks": ""
             }
            },
            "type": "scattermapbox"
           }
          ],
          "scatterpolar": [
           {
            "marker": {
             "colorbar": {
              "outlinewidth": 0,
              "ticks": ""
             }
            },
            "type": "scatterpolar"
           }
          ],
          "scatterpolargl": [
           {
            "marker": {
             "colorbar": {
              "outlinewidth": 0,
              "ticks": ""
             }
            },
            "type": "scatterpolargl"
           }
          ],
          "scatterternary": [
           {
            "marker": {
             "colorbar": {
              "outlinewidth": 0,
              "ticks": ""
             }
            },
            "type": "scatterternary"
           }
          ],
          "surface": [
           {
            "colorbar": {
             "outlinewidth": 0,
             "ticks": ""
            },
            "colorscale": [
             [
              0,
              "#0d0887"
             ],
             [
              0.1111111111111111,
              "#46039f"
             ],
             [
              0.2222222222222222,
              "#7201a8"
             ],
             [
              0.3333333333333333,
              "#9c179e"
             ],
             [
              0.4444444444444444,
              "#bd3786"
             ],
             [
              0.5555555555555556,
              "#d8576b"
             ],
             [
              0.6666666666666666,
              "#ed7953"
             ],
             [
              0.7777777777777778,
              "#fb9f3a"
             ],
             [
              0.8888888888888888,
              "#fdca26"
             ],
             [
              1,
              "#f0f921"
             ]
            ],
            "type": "surface"
           }
          ],
          "table": [
           {
            "cells": {
             "fill": {
              "color": "#EBF0F8"
             },
             "line": {
              "color": "white"
             }
            },
            "header": {
             "fill": {
              "color": "#C8D4E3"
             },
             "line": {
              "color": "white"
             }
            },
            "type": "table"
           }
          ]
         },
         "layout": {
          "annotationdefaults": {
           "arrowcolor": "#2a3f5f",
           "arrowhead": 0,
           "arrowwidth": 1
          },
          "autotypenumbers": "strict",
          "coloraxis": {
           "colorbar": {
            "outlinewidth": 0,
            "ticks": ""
           }
          },
          "colorscale": {
           "diverging": [
            [
             0,
             "#8e0152"
            ],
            [
             0.1,
             "#c51b7d"
            ],
            [
             0.2,
             "#de77ae"
            ],
            [
             0.3,
             "#f1b6da"
            ],
            [
             0.4,
             "#fde0ef"
            ],
            [
             0.5,
             "#f7f7f7"
            ],
            [
             0.6,
             "#e6f5d0"
            ],
            [
             0.7,
             "#b8e186"
            ],
            [
             0.8,
             "#7fbc41"
            ],
            [
             0.9,
             "#4d9221"
            ],
            [
             1,
             "#276419"
            ]
           ],
           "sequential": [
            [
             0,
             "#0d0887"
            ],
            [
             0.1111111111111111,
             "#46039f"
            ],
            [
             0.2222222222222222,
             "#7201a8"
            ],
            [
             0.3333333333333333,
             "#9c179e"
            ],
            [
             0.4444444444444444,
             "#bd3786"
            ],
            [
             0.5555555555555556,
             "#d8576b"
            ],
            [
             0.6666666666666666,
             "#ed7953"
            ],
            [
             0.7777777777777778,
             "#fb9f3a"
            ],
            [
             0.8888888888888888,
             "#fdca26"
            ],
            [
             1,
             "#f0f921"
            ]
           ],
           "sequentialminus": [
            [
             0,
             "#0d0887"
            ],
            [
             0.1111111111111111,
             "#46039f"
            ],
            [
             0.2222222222222222,
             "#7201a8"
            ],
            [
             0.3333333333333333,
             "#9c179e"
            ],
            [
             0.4444444444444444,
             "#bd3786"
            ],
            [
             0.5555555555555556,
             "#d8576b"
            ],
            [
             0.6666666666666666,
             "#ed7953"
            ],
            [
             0.7777777777777778,
             "#fb9f3a"
            ],
            [
             0.8888888888888888,
             "#fdca26"
            ],
            [
             1,
             "#f0f921"
            ]
           ]
          },
          "colorway": [
           "#636efa",
           "#EF553B",
           "#00cc96",
           "#ab63fa",
           "#FFA15A",
           "#19d3f3",
           "#FF6692",
           "#B6E880",
           "#FF97FF",
           "#FECB52"
          ],
          "font": {
           "color": "#2a3f5f"
          },
          "geo": {
           "bgcolor": "white",
           "lakecolor": "white",
           "landcolor": "#E5ECF6",
           "showlakes": true,
           "showland": true,
           "subunitcolor": "white"
          },
          "hoverlabel": {
           "align": "left"
          },
          "hovermode": "closest",
          "mapbox": {
           "style": "light"
          },
          "paper_bgcolor": "white",
          "plot_bgcolor": "#E5ECF6",
          "polar": {
           "angularaxis": {
            "gridcolor": "white",
            "linecolor": "white",
            "ticks": ""
           },
           "bgcolor": "#E5ECF6",
           "radialaxis": {
            "gridcolor": "white",
            "linecolor": "white",
            "ticks": ""
           }
          },
          "scene": {
           "xaxis": {
            "backgroundcolor": "#E5ECF6",
            "gridcolor": "white",
            "gridwidth": 2,
            "linecolor": "white",
            "showbackground": true,
            "ticks": "",
            "zerolinecolor": "white"
           },
           "yaxis": {
            "backgroundcolor": "#E5ECF6",
            "gridcolor": "white",
            "gridwidth": 2,
            "linecolor": "white",
            "showbackground": true,
            "ticks": "",
            "zerolinecolor": "white"
           },
           "zaxis": {
            "backgroundcolor": "#E5ECF6",
            "gridcolor": "white",
            "gridwidth": 2,
            "linecolor": "white",
            "showbackground": true,
            "ticks": "",
            "zerolinecolor": "white"
           }
          },
          "shapedefaults": {
           "line": {
            "color": "#2a3f5f"
           }
          },
          "ternary": {
           "aaxis": {
            "gridcolor": "white",
            "linecolor": "white",
            "ticks": ""
           },
           "baxis": {
            "gridcolor": "white",
            "linecolor": "white",
            "ticks": ""
           },
           "bgcolor": "#E5ECF6",
           "caxis": {
            "gridcolor": "white",
            "linecolor": "white",
            "ticks": ""
           }
          },
          "title": {
           "x": 0.05
          },
          "xaxis": {
           "automargin": true,
           "gridcolor": "white",
           "linecolor": "white",
           "ticks": "",
           "title": {
            "standoff": 15
           },
           "zerolinecolor": "white",
           "zerolinewidth": 2
          },
          "yaxis": {
           "automargin": true,
           "gridcolor": "white",
           "linecolor": "white",
           "ticks": "",
           "title": {
            "standoff": 15
           },
           "zerolinecolor": "white",
           "zerolinewidth": 2
          }
         }
        }
       }
      }
     },
     "metadata": {},
     "output_type": "display_data"
    }
   ],
   "source": [
    "import plotly.graph_objects as go\n",
    "\n",
    "fig = go.Figure(data=go.Scatter(\n",
    "    x=[1, 2, 3, 4],\n",
    "    y=[10, 11, 12, 13],\n",
    "    mode='markers',\n",
    "    marker=dict(size=[40, 60, 80, 100],\n",
    "                color=[0, 1, 2, 3])\n",
    "))\n",
    "\n",
    "fig.show()"
   ]
  },
  {
   "attachments": {},
   "cell_type": "markdown",
   "metadata": {
    "id": "w9VW2WrmtaFh"
   },
   "source": [
    "# **`go.update_`**\n",
    "Para formatear el resto del gráfico (y no las series), usaremos los comandos:\n",
    "\n",
    "* `update_layout`\n",
    "* `update_xaxes`"
   ]
  },
  {
   "attachments": {},
   "cell_type": "markdown",
   "metadata": {
    "id": "c8T2cU3WuiXD"
   },
   "source": [
    "## **`go.update_layout`**\n",
    "Usaremos este comando para introducir los siguientes parámetros (todos opcionales):\n",
    "* `title_text`: Texto del título\n",
    "* `height`: Alto del gráfico\n",
    "* `width`: Ancho del gráfico\n",
    "* `showlegend`: True o False para mostrar o no la leyenda\n",
    "* `updatemenus`: Interesante cuando tenemos varias series y queremos elegir una u otra con un desplegable"
   ]
  },
  {
   "cell_type": "code",
   "execution_count": null,
   "metadata": {
    "id": "eg8hPANwvkYi"
   },
   "outputs": [],
   "source": [
    "# --\n",
    "# Definimos los datos\n",
    "# --\n",
    "import plotly.graph_objects as go\n",
    "\n",
    "# Generate dataset\n",
    "import numpy as np\n",
    "np.random.seed(1)\n",
    "\n",
    "x0 = np.random.normal(2, 0.4, 400)\n",
    "y0 = np.random.normal(2, 0.4, 400)\n",
    "x1 = np.random.normal(3, 0.6, 600)\n",
    "y1 = np.random.normal(6, 0.4, 400)\n",
    "x2 = np.random.normal(4, 0.2, 200)\n",
    "y2 = np.random.normal(4, 0.4, 200)\n",
    "\n"
   ]
  },
  {
   "attachments": {},
   "cell_type": "markdown",
   "metadata": {
    "id": "7sZx133NvvoO"
   },
   "source": [
    "Probamos a crear un gráfico conjunto"
   ]
  },
  {
   "cell_type": "code",
   "execution_count": null,
   "metadata": {
    "colab": {
     "base_uri": "https://localhost:8080/",
     "height": 542
    },
    "id": "2-yvPlB3vywZ",
    "outputId": "b317b79a-57e1-4629-adc5-0258f5c9c6ef"
   },
   "outputs": [],
   "source": [
    "# --\n",
    "# Creamos el gráfico\n",
    "# --\n",
    "fig = go.Figure()\n",
    "\n",
    "# --\n",
    "# Añadimos las series\n",
    "# --\n",
    "\n",
    "fig.add_trace(\n",
    "    go.Scatter(\n",
    "        x=x0,\n",
    "        y=y0,\n",
    "        mode=\"markers\",\n",
    "        marker=dict(color=\"red\")))\n",
    "\n",
    "fig.add_trace(\n",
    "    go.Scatter(\n",
    "        x=x1,\n",
    "        y=y1,\n",
    "        mode=\"markers\",\n",
    "        marker=dict(color=\"green\")))\n",
    "\n",
    "fig.add_trace(\n",
    "    go.Scatter(\n",
    "        x=x2,\n",
    "        y=y2,\n",
    "        mode=\"markers\",\n",
    "        marker=dict(color=\"blue\")))\n",
    "\n",
    "\n",
    "# --\n",
    "# Mostramos el gráfico\n",
    "# --\n",
    "fig.show()"
   ]
  },
  {
   "attachments": {},
   "cell_type": "markdown",
   "metadata": {
    "id": "P_yeMyJewJxW"
   },
   "source": [
    "### **title_text** y **showlegend**\n",
    "Ahora, añadimos el título y quitamos la leyenda"
   ]
  },
  {
   "cell_type": "code",
   "execution_count": null,
   "metadata": {
    "colab": {
     "base_uri": "https://localhost:8080/",
     "height": 617
    },
    "id": "0oW7nsDmwNPA",
    "outputId": "238b95dd-06fe-4c5a-d10f-28742b6b51c1"
   },
   "outputs": [],
   "source": [
    "# --\n",
    "# Creamos el gráfico\n",
    "# --\n",
    "fig = go.Figure()\n",
    "\n",
    "# --\n",
    "# Añadimos las series\n",
    "# --\n",
    "\n",
    "fig.add_trace(\n",
    "    go.Scatter(\n",
    "        x=x0,\n",
    "        y=y0,\n",
    "        mode=\"markers\",\n",
    "        marker=dict(color=\"red\")))\n",
    "\n",
    "fig.add_trace(\n",
    "    go.Scatter(\n",
    "        x=x1,\n",
    "        y=y1,\n",
    "        mode=\"markers\",\n",
    "        marker=dict(color=\"green\")))\n",
    "\n",
    "fig.add_trace(\n",
    "    go.Scatter(\n",
    "        x=x2,\n",
    "        y=y2,\n",
    "        mode=\"markers\",\n",
    "        marker=dict(color=\"blue\")))\n",
    "\n",
    "\n",
    "# --\n",
    "# Añadimos el título y quitamos la leyenda\n",
    "# --\n",
    "fig.update_layout(title_text=\"Clusters\",\n",
    "                  width = 600,\n",
    "                  height = 600,\n",
    "                  showlegend=False)\n",
    "\n",
    "# --\n",
    "# Mostramos el gráfico\n",
    "# --\n",
    "fig.show()"
   ]
  },
  {
   "attachments": {},
   "cell_type": "markdown",
   "metadata": {
    "id": "f-V5D31Swm34"
   },
   "source": [
    "### **updatemenus**\n",
    "Esta es, quizá, la parte más complicada. Crearemos un desplegable que significará una \"escena\" distinta, jugando con la variable \"visible\". Los pasos a seguir son:\n",
    "\n",
    "\n",
    "1.   Iniciamos la lista en vacío\n",
    "2.   Vamos añadiendo el diccionario siguiente:\n",
    "  \n",
    "  2.1. **label**: Etiqueta de la escena\n",
    "\n",
    "  2.2. **method**: Pondremos \"update\"\n",
    "\n",
    "  2.3. **args**: Será otro diccionario en el que pondremos el título que queremos que aparezca en el gráfico y, por otro lado, la lista \"visible\" de \"True\" o \"False\" de longitud igual al número de series, ya que cada elemento de la lista representa una serie.\n",
    "\n",
    "Lo vemos a continuación con un ejemplo\n",
    "\n",
    "\n",
    "\n",
    "\n",
    "\n"
   ]
  },
  {
   "cell_type": "code",
   "execution_count": null,
   "metadata": {
    "colab": {
     "base_uri": "https://localhost:8080/",
     "height": 542
    },
    "id": "ey6Q3axVxbrw",
    "outputId": "b3094ad0-764d-4ebd-de45-fad875d0b50b"
   },
   "outputs": [],
   "source": [
    "# --\n",
    "# Creamos el gráfico\n",
    "# --\n",
    "fig = go.Figure()\n",
    "\n",
    "\n",
    "# --\n",
    "# Añadimos las series\n",
    "# --\n",
    "\n",
    "fig.add_trace(\n",
    "    go.Scatter(\n",
    "        x=x0,\n",
    "        y=y0,\n",
    "        mode=\"markers\",\n",
    "        marker=dict(color=\"red\")))\n",
    "\n",
    "fig.add_trace(\n",
    "    go.Scatter(\n",
    "        x=x1,\n",
    "        y=y1,\n",
    "        mode=\"markers\",\n",
    "        marker=dict(color=\"green\")))\n",
    "\n",
    "fig.add_trace(\n",
    "    go.Scatter(\n",
    "        x=x2,\n",
    "        y=y2,\n",
    "        mode=\"markers\",\n",
    "        marker=dict(color=\"blue\")))\n",
    "\n",
    "# --\n",
    "# Inicializamos la lista de botones\n",
    "# --\n",
    "l_botones = []\n",
    "\n",
    "# --\n",
    "# Añadimos cada botón\n",
    "# --\n",
    "l_botones.append(dict(label = \"Todos\",\n",
    "                        method = \"update\",\n",
    "                        args = [{\"visible\": [True, True, True]},\n",
    "                                {\"title\" : \"Todos los datos\"}]))\n",
    "\n",
    "l_botones.append(dict(label = \"Rojo\",\n",
    "                        method = \"update\",\n",
    "                        args = [{\"visible\": [True, False, False]},\n",
    "                                {\"title\" : \"Datos para rojo\"}]))\n",
    "\n",
    "l_botones.append(dict(label = \"Verde\",\n",
    "                        method = \"update\",\n",
    "                        args = [{\"visible\": [False, True, False]},\n",
    "                                {\"title\" : \"Datos para verde\"}]))\n",
    "\n",
    "l_botones.append(dict(label = \"Azul\",\n",
    "                        method = \"update\",\n",
    "                        args = [{\"visible\": [False, False, True]},\n",
    "                                {\"title\" : \"Datos para azul\"}]))\n",
    "\n",
    "\n",
    "\n",
    "\n",
    "# --\n",
    "# Añadimos el título y quitamos la leyenda\n",
    "# --\n",
    "fig.update_layout(title_text=\"Clusters\",\n",
    "    showlegend=False,\n",
    "    updatemenus = [dict(active = 0, buttons = list(l_botones))])\n",
    "\n",
    "# --\n",
    "# Mostramos el gráfico\n",
    "# --\n",
    "fig.show()"
   ]
  },
  {
   "attachments": {},
   "cell_type": "markdown",
   "metadata": {
    "id": "RhWZOC8a2ODO"
   },
   "source": [
    "## **`go.update_xaxes`**\n",
    "Usaremos este comando para introducir los siguientes parámetros más interesantes(todos opcionales):\n",
    "* `title_text`: Texto del eje\n",
    "* `tickangle `: Ángulo de los ticks del eje\n",
    "* `title_font `: Diccionario con su configuración\n",
    "* `showgrid`: True o False\n",
    "* `rangeselector`: Para datos tipo fecha, se puede crear un selector de datos que, al pulsar, nos aparezca el último mes, o último año o últimos 6 meses,...\n",
    "\n",
    "Todo esto también puede ser formateado de la misma manera para el eje y. Toda la documentación, [aquí](https://plotly.com/python/axes/)."
   ]
  },
  {
   "cell_type": "code",
   "execution_count": null,
   "metadata": {
    "colab": {
     "base_uri": "https://localhost:8080/",
     "height": 235
    },
    "id": "otG_jxzr37aD",
    "outputId": "e75d2a12-1bfd-43b1-82aa-640cfec91b68"
   },
   "outputs": [],
   "source": [
    "# --\n",
    "# Definimos los datos\n",
    "# --\n",
    "import plotly.graph_objects as go\n",
    "import pandas as pd\n",
    "\n",
    "# Load and filter Apple stock data for 2016\n",
    "apple_df = pd.read_csv(\n",
    "    \"https://raw.githubusercontent.com/plotly/datasets/master/finance-charts-apple.csv\",\n",
    "    parse_dates=[\"Date\"],\n",
    "    index_col=\"Date\"\n",
    ")\n",
    "\n",
    "apple_df_2016 = apple_df[\"2016\"]\n",
    "\n",
    "apple_df_2016.head()"
   ]
  },
  {
   "attachments": {},
   "cell_type": "markdown",
   "metadata": {
    "id": "Nz3rGR3h5Of_"
   },
   "source": [
    "Definimos el gráfico base"
   ]
  },
  {
   "cell_type": "code",
   "execution_count": null,
   "metadata": {
    "colab": {
     "base_uri": "https://localhost:8080/",
     "height": 542
    },
    "id": "p8Nc30Jq5RCE",
    "outputId": "c7d13f45-e099-4574-b05a-c2f3b511e150"
   },
   "outputs": [],
   "source": [
    "# --\n",
    "# Definimos el gráfico\n",
    "# --\n",
    "\n",
    "fig = go.Figure()\n",
    "fig.add_trace(go.Scatter(\n",
    "    x=apple_df_2016.index,\n",
    "    y=apple_df_2016[\"AAPL.High\"],\n",
    "    mode=\"lines\"\n",
    "))\n",
    "\n",
    "fig.show()"
   ]
  },
  {
   "attachments": {},
   "cell_type": "markdown",
   "metadata": {
    "id": "IZkpTjKh5m_9"
   },
   "source": [
    "Damos formato al eje"
   ]
  },
  {
   "cell_type": "code",
   "execution_count": null,
   "metadata": {
    "colab": {
     "base_uri": "https://localhost:8080/",
     "height": 542
    },
    "id": "gcI_ysjP5ofH",
    "outputId": "6100ebfb-96b6-44f1-9639-de0a6c2ef631"
   },
   "outputs": [],
   "source": [
    "# --\n",
    "# Creamos el gráfico base\n",
    "# --\n",
    "# Create figure and add line\n",
    "fig = go.Figure()\n",
    "fig.add_trace(go.Scatter(\n",
    "    x=apple_df_2016.index,\n",
    "    y=apple_df_2016[\"AAPL.High\"],\n",
    "    mode=\"lines\"\n",
    "))\n",
    "\n",
    "# --\n",
    "# Formateamos el eje X y su grid\n",
    "# --\n",
    "fig.update_xaxes(\n",
    "    ticktext=[\"End of Q1\", \"End of Q2\", \"End of Q3\", \"End of Q4\"],\n",
    "    tickvals=[\"2016-04-01\", \"2016-07-01\", \"2016-10-01\", apple_df_2016.index.max()],\n",
    "    tickangle = 45,\n",
    "    showgrid = True,\n",
    "    gridwidth=1, \n",
    "    gridcolor='LightPink')\n",
    "\n",
    "\n",
    "# --\n",
    "# Ponemos título\n",
    "# --\n",
    "fig.update_layout(title_text=\"Apple\")\n",
    "\n",
    "fig.show()"
   ]
  },
  {
   "attachments": {},
   "cell_type": "markdown",
   "metadata": {
    "id": "2m9MvYm-A7lE"
   },
   "source": [
    "Otro ejemplo, con fechas"
   ]
  },
  {
   "cell_type": "code",
   "execution_count": null,
   "metadata": {
    "colab": {
     "base_uri": "https://localhost:8080/",
     "height": 542
    },
    "id": "QdlLfmxeA8_G",
    "outputId": "c7186a7e-35e3-4dd5-8cba-1a32c4726c7d"
   },
   "outputs": [],
   "source": [
    "# --\n",
    "# Creamos el gráfico base\n",
    "# --\n",
    "# Create figure and add line\n",
    "fig = go.Figure()\n",
    "fig.add_trace(go.Scatter(\n",
    "    x=apple_df_2016.index,\n",
    "    y=apple_df_2016[\"AAPL.High\"],\n",
    "    mode=\"lines\"\n",
    "))\n",
    "\n",
    "# --\n",
    "# Formateamos el eje X y su grid\n",
    "# --\n",
    "fig.update_xaxes(rangeselector= dict(buttons = list([dict(count = 1, label = \"1m\", step = \"month\"),\n",
    "                                                     dict(count = 6, label = \"6\", step = \"month\"),\n",
    "                                                     dict(step = \"all\")])), showgrid = True,    gridwidth=1,     gridcolor='LightPink')\n",
    "\n",
    "\n",
    "# --\n",
    "# Ponemos título\n",
    "# --\n",
    "fig.update_layout(title_text=\"Apple\")\n",
    "\n",
    "fig.show()"
   ]
  },
  {
   "attachments": {},
   "cell_type": "markdown",
   "metadata": {
    "id": "7n5fsxvw7iE7"
   },
   "source": [
    "# **`make_subplots`**\n",
    "Dentro del paquete `plotly.subplots`, entoncramos la función `make_subplots` que nos servirá para crear varios gráficos en uno."
   ]
  },
  {
   "cell_type": "code",
   "execution_count": null,
   "metadata": {
    "id": "XypQIQvY8Msa"
   },
   "outputs": [],
   "source": [
    "# --\n",
    "# Importamos la función\n",
    "# --\n",
    "from plotly.subplots import make_subplots"
   ]
  },
  {
   "attachments": {},
   "cell_type": "markdown",
   "metadata": {
    "id": "jmV-EicP8d1u"
   },
   "source": [
    "Los argumentos más comunes son:\n",
    "* `rows`: Número de gráficos hacia abajo\n",
    "* `cols`: Número de gráficos hacia la derecha\n",
    "* `shared_xaxes`: Si queremos que se compartan el eje x\n",
    "* `shared_yaxes`: Si queremos que se compartan el eje y\n",
    "* `horizontal_spacing`: Si queremos una separación más grande entre un gráfico y otro en columnas\n",
    "* `vertical_spacing`: Si queremos una separación más grande entre un gráfico y otro en filas"
   ]
  },
  {
   "cell_type": "code",
   "execution_count": null,
   "metadata": {
    "colab": {
     "base_uri": "https://localhost:8080/",
     "height": 617
    },
    "id": "ab5UUO_z8K7P",
    "outputId": "1105f5c3-eba3-48f3-9958-ecf8d7f7a0d5"
   },
   "outputs": [],
   "source": [
    "# --\n",
    "# Primero definimos el subplot\n",
    "# --\n",
    "fig = make_subplots(rows=2, cols=2,\n",
    "                    shared_xaxes=True,\n",
    "                    shared_yaxes = True,\n",
    "                    vertical_spacing=0.02,\n",
    "                    horizontal_spacing=0.04)\n",
    "\n",
    "# --\n",
    "# Añadimos las series\n",
    "# --\n",
    "fig.add_trace(go.Scatter(x=[0, 1, 2], y=[1050, 1150, 1250]),\n",
    "              row=1, col=1)\n",
    "\n",
    "fig.add_trace(go.Scatter(x=[0, 1, 2], y=[100, 110, 120]),\n",
    "              row=2, col=1)\n",
    "\n",
    "fig.add_trace(go.Scatter(x=[30, 40, 50], y=[1000, 1100, 1200]),\n",
    "              row=1, col=2)\n",
    "\n",
    "fig.add_trace(go.Scatter(x=[30, 40, 50], y=[50, 115, 125]),\n",
    "              row=2, col=2)\n",
    "\n",
    "# --\n",
    "# Actualizamos el gráfico con texto y dimesiones\n",
    "# --\n",
    "fig.update_layout(height=600, width=600,\n",
    "                  title_text=\"Ejemplo de subplots\")\n",
    "fig.show()"
   ]
  },
  {
   "attachments": {},
   "cell_type": "markdown",
   "metadata": {
    "id": "T8ghmdyXFXzz"
   },
   "source": [
    "# Más allá de go.Scatter\n",
    "\n",
    "Existen en el mundo `plotly` muchos tipos de gráficos. Pondremos aquí un par de ejemplos, sacado de esta [web](https://plotly.com/python/)"
   ]
  },
  {
   "attachments": {},
   "cell_type": "markdown",
   "metadata": {
    "id": "HI1zQIR_Fvmj"
   },
   "source": [
    "## Gráfico de vela"
   ]
  },
  {
   "cell_type": "code",
   "execution_count": null,
   "metadata": {
    "colab": {
     "base_uri": "https://localhost:8080/",
     "height": 542
    },
    "id": "zP-VWqBaFyHs",
    "outputId": "ccf62c59-c678-4c13-de27-bdbbfbf187ee"
   },
   "outputs": [],
   "source": [
    "import plotly.graph_objects as go\n",
    "import pandas as pd\n",
    "\n",
    "\n",
    "df = pd.read_csv('https://raw.githubusercontent.com/plotly/datasets/master/finance-charts-apple.csv')\n",
    "\n",
    "fig = go.Figure(data=[go.Candlestick(x=df['Date'],\n",
    "                open=df['AAPL.Open'], high=df['AAPL.High'],\n",
    "                low=df['AAPL.Low'], close=df['AAPL.Close'])\n",
    "                      ])\n",
    "\n",
    "fig.update_layout(\n",
    "    title='Acción de Apple',\n",
    "    yaxis_title='AAPL Stock',\n",
    "    shapes = [dict(\n",
    "        x0='2016-12-09', x1='2016-12-09', y0=0, y1=1, xref='x', yref='paper',\n",
    "        line_width=2)],\n",
    "    annotations=[dict(\n",
    "        x='2016-12-09', y=0.05, xref='x', yref='paper',\n",
    "        showarrow=False, xanchor='left', text='Increase Period Begins')]\n",
    ")\n",
    "\n",
    "\n",
    "\n",
    "fig.show()"
   ]
  },
  {
   "attachments": {},
   "cell_type": "markdown",
   "metadata": {
    "id": "wR6fQEsRFikl"
   },
   "source": [
    "## Barra de selección de años animada"
   ]
  },
  {
   "cell_type": "code",
   "execution_count": null,
   "metadata": {
    "colab": {
     "base_uri": "https://localhost:8080/",
     "height": 542
    },
    "id": "40XFZSg2E0ft",
    "outputId": "4b06404e-3e59-458f-ff38-eac500ebec2b"
   },
   "outputs": [],
   "source": [
    "import plotly.express as px\n",
    "\n",
    "df = px.data.gapminder()\n",
    "fig = px.scatter(df, x=\"gdpPercap\", y=\"lifeExp\", animation_frame=\"year\", animation_group=\"country\",\n",
    "           size=\"pop\", color=\"continent\", hover_name=\"country\",\n",
    "           log_x=True, size_max=55, range_x=[100,100000], range_y=[25,90])\n",
    "\n",
    "fig[\"layout\"].pop(\"updatemenus\") \n",
    "fig.show()"
   ]
  },
  {
   "attachments": {},
   "cell_type": "markdown",
   "metadata": {
    "id": "Jg5ZcAZ5I10h"
   },
   "source": [
    "## Mapas interactivos"
   ]
  },
  {
   "cell_type": "code",
   "execution_count": null,
   "metadata": {
    "colab": {
     "base_uri": "https://localhost:8080/",
     "height": 542
    },
    "id": "poF9xDUnH_4l",
    "outputId": "99482de4-296b-4cdf-fbee-abf1e2ad82d1"
   },
   "outputs": [],
   "source": [
    "from urllib.request import urlopen\n",
    "import json\n",
    "with urlopen('https://raw.githubusercontent.com/plotly/datasets/master/geojson-counties-fips.json') as response:\n",
    "    counties = json.load(response)\n",
    "\n",
    "import pandas as pd\n",
    "df = pd.read_csv(\"https://raw.githubusercontent.com/plotly/datasets/master/fips-unemp-16.csv\",\n",
    "                   dtype={\"fips\": str})\n",
    "\n",
    "import plotly.graph_objects as go\n",
    "\n",
    "fig = go.Figure(go.Choroplethmapbox(geojson=counties, locations=df.fips, z=df.unemp,\n",
    "                                    colorscale=\"Viridis\", zmin=0, zmax=12,\n",
    "                                    marker_opacity=0.5, marker_line_width=0))\n",
    "fig.update_layout(mapbox_style=\"carto-positron\",\n",
    "                  mapbox_zoom=3, mapbox_center = {\"lat\": 37.0902, \"lon\": -95.7129})\n",
    "fig.update_layout(margin={\"r\":0,\"t\":0,\"l\":0,\"b\":0})\n",
    "fig.show()"
   ]
  },
  {
   "attachments": {},
   "cell_type": "markdown",
   "metadata": {},
   "source": [
    "## Ejemplo COVID-19"
   ]
  },
  {
   "cell_type": "code",
   "execution_count": null,
   "metadata": {},
   "outputs": [],
   "source": [
    "from datetime import datetime\n",
    "import numpy as np\n",
    "data = pd.read_csv('covid_19_2020.csv', sep = ';')\n",
    "data = data[data['dateRep'] == '01/12/2020'].copy()\n",
    "data['Date'] = data['dateRep'].apply(lambda x: datetime.strptime(x,\"%d/%m/%Y\"))\n",
    "\n",
    "fig = go.Figure(data=go.Scattergeo(\n",
    "        lon = data['Long'],\n",
    "        lat = data['Lat'],\n",
    "        text = data['countriesAndTerritories']+ ': ' + data['CumulativeRate'].astype(str),\n",
    "        mode = 'markers',\n",
    "        marker_size = 4.5,\n",
    "        marker = dict(reversescale = False,\n",
    "                      autocolorscale = False,\n",
    "                      symbol = 'circle',\n",
    "                      line = dict(width=1, color='rgba(102, 102, 102)'),\n",
    "                      colorscale = 'Reds',\n",
    "                      cmin = 0,\n",
    "                      color = data['CumulativeRate'],\n",
    "                      cmax = np.nanmax(data['CumulativeRate']),\n",
    "                      colorbar_title=\"Cumulative Rate\")))\n",
    "\n",
    "fig.update_layout(title = 'Números de casos activos por País/Estado',\n",
    "                  geo=dict(scope='world',\n",
    "                           showland = True,\n",
    "                           landcolor = \"rgb(145, 185, 87)\",\n",
    "                           showocean = True,\n",
    "                           oceancolor = \"rgb(223, 239, 240)\",\n",
    "                           showcountries=True,\n",
    "                           showsubunits=True,\n",
    "                           showlakes=False,))\n",
    "fig.show()\n"
   ]
  }
 ],
 "metadata": {
  "colab": {
   "collapsed_sections": [],
   "name": "Plotly.ipynb",
   "provenance": [],
   "toc_visible": true
  },
  "kernelspec": {
   "display_name": "Python 3",
   "language": "python",
   "name": "python3"
  },
  "language_info": {
   "codemirror_mode": {
    "name": "ipython",
    "version": 3
   },
   "file_extension": ".py",
   "mimetype": "text/x-python",
   "name": "python",
   "nbconvert_exporter": "python",
   "pygments_lexer": "ipython3",
   "version": "3.9.6"
  }
 },
 "nbformat": 4,
 "nbformat_minor": 1
}
