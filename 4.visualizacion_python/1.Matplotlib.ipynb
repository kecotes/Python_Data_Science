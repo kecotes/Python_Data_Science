{
 "cells": [
  {
   "attachments": {},
   "cell_type": "markdown",
   "metadata": {
    "id": "rcHGILdMytgE"
   },
   "source": [
    "---\n",
    "<font size=\"6\"><center>Matplotlib</font></center>\n",
    "\n",
    "La librería de funciones [`matplotlib`](http://matplotlib.org/) es la más común de todas. Podemos hacer gráficos con pocas líneas de código y su utilidad es de las más instuitivas de todas.\n",
    "\n",
    "\n",
    "*   Aquí el [link](http://matplotlib.org/api/pyplot_api.html) a la documentación.\n",
    "*   Para más detalle, en este [link](http://matplotlib.org/gallery.html#statistics) hay muchos ejemplos de distintos tipos de gráficos\n",
    "\n",
    "\n",
    "\n",
    "---"
   ]
  },
  {
   "attachments": {},
   "cell_type": "markdown",
   "metadata": {
    "id": "Htc6nvIzzy6M"
   },
   "source": [
    "# Instalación e importación\n",
    "El proceso de instalación y cómo lo llamaremos lo haremos de la siguiente manera"
   ]
  },
  {
   "cell_type": "code",
   "execution_count": null,
   "metadata": {
    "colab": {
     "base_uri": "https://localhost:8080/"
    },
    "id": "sXcxVylNz3Pb",
    "outputId": "beb6de77-5331-4d3d-8e0b-94c0f4d987c0"
   },
   "outputs": [],
   "source": [
    "# --\n",
    "# Instalación\n",
    "# --\n",
    "!pip install matplotlib"
   ]
  },
  {
   "attachments": {},
   "cell_type": "markdown",
   "metadata": {
    "id": "ZgQ2npLG0Xbb"
   },
   "source": [
    "Dentro de la librería de matplotlib, para acceder a los gráficos directamente, traeremos el paquete de funciones de pyplot.\n",
    "\n",
    "Se suele llamar como `plt`"
   ]
  },
  {
   "cell_type": "code",
   "execution_count": 1,
   "metadata": {
    "id": "J2vzPClz0kl7"
   },
   "outputs": [],
   "source": [
    "from matplotlib import pyplot as plt"
   ]
  },
  {
   "attachments": {},
   "cell_type": "markdown",
   "metadata": {
    "id": "ncXNIfXK031Y"
   },
   "source": [
    "O directamente"
   ]
  },
  {
   "cell_type": "code",
   "execution_count": 2,
   "metadata": {
    "id": "K2tSrtXgz7lD"
   },
   "outputs": [],
   "source": [
    "# --\n",
    "# Importación\n",
    "# --\n",
    "import matplotlib.pyplot as plt"
   ]
  },
  {
   "attachments": {},
   "cell_type": "markdown",
   "metadata": {
    "id": "pLBnqxrg0Psy"
   },
   "source": [
    "# Gráfico de líneas\n",
    "\n",
    "Es el gráfico por defecto y el que más se suele utilizar para ver los datos rápidamente."
   ]
  },
  {
   "cell_type": "code",
   "execution_count": 3,
   "metadata": {
    "id": "YkBmCWl41tZx"
   },
   "outputs": [],
   "source": [
    "# --\n",
    "# Definimos los datos\n",
    "# --\n",
    "eje_x = [1, 2, 3, 4, 5, 6, 7, 8, 9]\n",
    "eje_y = [1, 3, 5, 3, 1, 3, 5, 3, 1]"
   ]
  },
  {
   "attachments": {},
   "cell_type": "markdown",
   "metadata": {
    "id": "4Wz7kdMt3nkE"
   },
   "source": [
    "Ahora, llamamos a la función`.plot` la cual va a recibir los siguientes argumentos:\n",
    "\n",
    "\n",
    "*   `x`: Eje X. Opcional\n",
    "*   `y`: Eje y\n",
    "*   `fmt`: Formato del gráfico en cuanto a los puntos, líneas y colores ('[marker][line][color]') . Opcional\n",
    "*   Inputs de formato de las líneas opcionales. Los más usuales:\n",
    "  * `label`: Para nombrar cada línea\n",
    "  * `color`: Color en formato numérico si fuera necesario\n",
    "  * `linewidth`: Ancho de línea\n",
    "  * `markersize`: Tamaño de los puntos\n",
    "\n",
    "**Importante terminar siempre con el comando `plt.show()`**\n",
    "\n",
    "\n",
    "\n",
    "\n",
    "\n",
    "\n",
    "\n"
   ]
  },
  {
   "attachments": {},
   "cell_type": "markdown",
   "metadata": {
    "id": "z_LEFAn53is0"
   },
   "source": [
    "Hagamos el gráfico más sencillo posible."
   ]
  },
  {
   "cell_type": "code",
   "execution_count": 4,
   "metadata": {
    "colab": {
     "base_uri": "https://localhost:8080/",
     "height": 265
    },
    "id": "JQhS4avd4a3M",
    "outputId": "f3f48426-b96f-4f8c-9507-b42ef3729f5b"
   },
   "outputs": [
    {
     "data": {
      "image/png": "[encoded data removed]",
      "text/plain": [
       "<Figure size 640x480 with 1 Axes>"
      ]
     },
     "metadata": {},
     "output_type": "display_data"
    }
   ],
   "source": [
    "# --\n",
    "# Sólo necesitamos informar el set de datos del eje y\n",
    "# --\n",
    "plt.plot(eje_y)\n",
    "plt.show()"
   ]
  },
  {
   "attachments": {},
   "cell_type": "markdown",
   "metadata": {
    "id": "DNYLGyRL79Y5"
   },
   "source": [
    "Démosle más formato poco a poco. Primero, informando el eje X."
   ]
  },
  {
   "cell_type": "code",
   "execution_count": null,
   "metadata": {
    "colab": {
     "base_uri": "https://localhost:8080/",
     "height": 265
    },
    "id": "wZeKoSpu8FRu",
    "outputId": "8ebb25f6-a228-438f-f622-57e67c81a683"
   },
   "outputs": [],
   "source": [
    "# --\n",
    "# Informamos eje x\n",
    "# --\n",
    "plt.plot(eje_x, eje_y)\n",
    "plt.show()"
   ]
  },
  {
   "attachments": {},
   "cell_type": "markdown",
   "metadata": {
    "id": "6CXr6Kmz8RW2"
   },
   "source": [
    "Pongamos como formato de línea unos círculos. Para ello usamos uno de los siguientes identificadores:\n",
    "\n",
    "\n",
    "> Formato de puntos\n",
    "\n",
    "\n",
    "tecla | descripción\n",
    "--- | ---\n",
    "<center>.   | <center> Puntos\n",
    "<center>,   | <center> Pixel\n",
    "<center>o   | <center> Círculo\n",
    "<center>v   | <center> Triángulo_Abajo\n",
    "<center>^   | <center>Triángulo_Arriba\n",
    "<center><   | <center> Triángulo_Izquierda\n",
    "<center>>   | <center> Triángulo_Derecha\n",
    "<center>1   | <center> \"Aspa\" hacia abajo\n",
    "<center>2   | <center> \"Aspa\" hacia arriba\n",
    "<center>3   | <center> \"Aspa\" hacia la izqueirda\n",
    "<center>4   | <center> \"Aspa\" hacia la derecha\n",
    "<center>s   | <center> Cuadrado\n",
    "<center>p   | <center> Pentágono\n",
    "<center>*   | <center> Asterisco\n",
    "<center>h   | <center> Hexágono (1)\n",
    "<center>H   | <center> Hexágono (2)\n",
    "<center>+   | <center> Signo más\n",
    "<center>x   | <center> Signo x\n",
    "<center>D   | <center> Diamante\n",
    "<center>d   | <center> Diamante pequeño\n",
    "<center>_   | <center> Barra baja\n",
    "\n",
    "\n",
    "\n"
   ]
  },
  {
   "cell_type": "code",
   "execution_count": null,
   "metadata": {
    "colab": {
     "base_uri": "https://localhost:8080/",
     "height": 265
    },
    "id": "KUBCq_2w-gKS",
    "outputId": "d681cbbc-6d31-4e7e-fa39-0f6279882cd3"
   },
   "outputs": [],
   "source": [
    "# --\n",
    "# Informamos eje x y su marcador\n",
    "# --\n",
    "plt.plot(eje_x, eje_y,'o')\n",
    "plt.show()"
   ]
  },
  {
   "attachments": {},
   "cell_type": "markdown",
   "metadata": {
    "id": "Tc2V8m8P-_gz"
   },
   "source": [
    "Unamos esas líneas con uno de los siguientes formatos:\n",
    "\n",
    "> Formato de línea\n",
    "\n",
    "\n",
    "tecla | descripción\n",
    "--- | ---\n",
    "<center>-   | <center> Línea sólida\n",
    "<center>--  | <center> Línea discontínua\n",
    "<center>-.  | <center> Línea-punto\n",
    "<center>:   | <center> Punteada\n",
    "\n"
   ]
  },
  {
   "cell_type": "code",
   "execution_count": null,
   "metadata": {
    "colab": {
     "base_uri": "https://localhost:8080/",
     "height": 265
    },
    "id": "e0DVOnPZGZxb",
    "outputId": "8e91114c-a66b-4ce2-bdbf-c43053c3d211"
   },
   "outputs": [],
   "source": [
    "# --\n",
    "# Informamos eje x, su marcador y su línea\n",
    "# --\n",
    "plt.plot(eje_x, eje_y,'o--')\n",
    "plt.show()"
   ]
  },
  {
   "attachments": {},
   "cell_type": "markdown",
   "metadata": {
    "id": "AWjbQSNdGlhI"
   },
   "source": [
    "Y, por último, démosle color.\n",
    "\n",
    "> Formatos de color\n",
    "\n",
    "código | descripción\n",
    "--- | ---\n",
    "<center>b   | <center> Azul\n",
    "<center>g  | <center> Verde\n",
    "<center>r  | <center> Rojo\n",
    "<center>c   | <center> Cyan\n",
    "<center>m   | <center> Magenta\n",
    "<center>y   | <center> Amarillo\n",
    "<center>k   | <center> Negro\n",
    "<center>w   | <center> Blanco"
   ]
  },
  {
   "cell_type": "code",
   "execution_count": null,
   "metadata": {
    "colab": {
     "base_uri": "https://localhost:8080/",
     "height": 265
    },
    "id": "BlxTl6V0HR_c",
    "outputId": "55be7957-1ca8-4693-fc69-9765266b4e6c"
   },
   "outputs": [],
   "source": [
    "# --\n",
    "# Informamos eje x, su marcador, su línea y su color\n",
    "# --\n",
    "plt.plot(eje_x, eje_y,'o--r')\n",
    "plt.show()"
   ]
  },
  {
   "attachments": {},
   "cell_type": "markdown",
   "metadata": {
    "id": "MmstSrqlHlfm"
   },
   "source": [
    "Usemos algunos argumentos opcionales vistos anteriormente."
   ]
  },
  {
   "cell_type": "code",
   "execution_count": null,
   "metadata": {
    "colab": {
     "base_uri": "https://localhost:8080/",
     "height": 265
    },
    "id": "jXbCfLavHuIZ",
    "outputId": "d9f66665-6b48-4acc-8f66-1da39087e825"
   },
   "outputs": [],
   "source": [
    "# --\n",
    "# Terminamos de formatear. Haremos:\n",
    "#    - color: Afi\n",
    "#    - alpha: trasparencia\n",
    "#    - linewidth: Ancho de la línea\n",
    "#    - markersize: tamaño de los datos\n",
    "# --\n",
    "\n",
    "plt.plot(eje_x, eje_y,'o--', color = (216/255, 69/255, 25/255), alpha = 0.3, linewidth=5, markersize=15)\n",
    "plt.show()"
   ]
  },
  {
   "attachments": {},
   "cell_type": "markdown",
   "metadata": {
    "id": "_xmiv56kKxyF"
   },
   "source": [
    "Si queremos incluir varias series en el mismo gráfico, basta con configurar cada serie y terminar con el comando `plt.show()`"
   ]
  },
  {
   "cell_type": "code",
   "execution_count": null,
   "metadata": {
    "colab": {
     "base_uri": "https://localhost:8080/",
     "height": 265
    },
    "id": "4Ehed-n0NPDw",
    "outputId": "7db60484-008c-4f74-b247-f8441b3e7473"
   },
   "outputs": [],
   "source": [
    "# --\n",
    "# Definimos los nuevos datos\n",
    "# --\n",
    "import numpy as np\n",
    "eje_x_bis = eje_x\n",
    "eje_y_bis = np.sin(eje_y)\n",
    "\n",
    "# --\n",
    "# Definimos primero una serie y luego la segunda\n",
    "# --\n",
    "\n",
    "# Primera serie\n",
    "plt.plot(eje_x, eje_y,'o--', color = (216/255, 69/255, 25/255), alpha = 0.3, linewidth=5, markersize=15)\n",
    "\n",
    "# Segunda serie\n",
    "plt.plot(eje_x_bis, eje_y_bis,'*-g', alpha = 0.5, linewidth=3, markersize=10)\n",
    "\n",
    "# Terminamos\n",
    "plt.show()"
   ]
  },
  {
   "attachments": {},
   "cell_type": "markdown",
   "metadata": {},
   "source": [
    "## Ejemplo COVID-19"
   ]
  },
  {
   "attachments": {},
   "cell_type": "markdown",
   "metadata": {},
   "source": [
    "Cargamos los datos correspondientes"
   ]
  },
  {
   "cell_type": "code",
   "execution_count": 5,
   "metadata": {},
   "outputs": [
    {
     "data": {
      "text/html": [
       "<div>\n",
       "<style scoped>\n",
       "    .dataframe tbody tr th:only-of-type {\n",
       "        vertical-align: middle;\n",
       "    }\n",
       "\n",
       "    .dataframe tbody tr th {\n",
       "        vertical-align: top;\n",
       "    }\n",
       "\n",
       "    .dataframe thead th {\n",
       "        text-align: right;\n",
       "    }\n",
       "</style>\n",
       "<table border=\"1\" class=\"dataframe\">\n",
       "  <thead>\n",
       "    <tr style=\"text-align: right;\">\n",
       "      <th></th>\n",
       "      <th>dateRep</th>\n",
       "      <th>day</th>\n",
       "      <th>month</th>\n",
       "      <th>year</th>\n",
       "      <th>cases</th>\n",
       "      <th>deaths</th>\n",
       "      <th>countriesAndTerritories</th>\n",
       "      <th>geoId</th>\n",
       "      <th>countryterritoryCode</th>\n",
       "      <th>popData2019</th>\n",
       "      <th>continentExp</th>\n",
       "      <th>CumulativeRate</th>\n",
       "      <th>Lat</th>\n",
       "      <th>Long</th>\n",
       "    </tr>\n",
       "  </thead>\n",
       "  <tbody>\n",
       "    <tr>\n",
       "      <th>0</th>\n",
       "      <td>14/12/2020</td>\n",
       "      <td>14</td>\n",
       "      <td>12</td>\n",
       "      <td>2020</td>\n",
       "      <td>746</td>\n",
       "      <td>6</td>\n",
       "      <td>Afghanistan</td>\n",
       "      <td>AF</td>\n",
       "      <td>AFG</td>\n",
       "      <td>38041757.0</td>\n",
       "      <td>Asia</td>\n",
       "      <td>9.013779</td>\n",
       "      <td>33.0</td>\n",
       "      <td>65.0</td>\n",
       "    </tr>\n",
       "    <tr>\n",
       "      <th>1</th>\n",
       "      <td>13/12/2020</td>\n",
       "      <td>13</td>\n",
       "      <td>12</td>\n",
       "      <td>2020</td>\n",
       "      <td>298</td>\n",
       "      <td>9</td>\n",
       "      <td>Afghanistan</td>\n",
       "      <td>AF</td>\n",
       "      <td>AFG</td>\n",
       "      <td>38041757.0</td>\n",
       "      <td>Asia</td>\n",
       "      <td>7.052776</td>\n",
       "      <td>33.0</td>\n",
       "      <td>65.0</td>\n",
       "    </tr>\n",
       "    <tr>\n",
       "      <th>2</th>\n",
       "      <td>12/12/2020</td>\n",
       "      <td>12</td>\n",
       "      <td>12</td>\n",
       "      <td>2020</td>\n",
       "      <td>113</td>\n",
       "      <td>11</td>\n",
       "      <td>Afghanistan</td>\n",
       "      <td>AF</td>\n",
       "      <td>AFG</td>\n",
       "      <td>38041757.0</td>\n",
       "      <td>Asia</td>\n",
       "      <td>6.868768</td>\n",
       "      <td>33.0</td>\n",
       "      <td>65.0</td>\n",
       "    </tr>\n",
       "    <tr>\n",
       "      <th>3</th>\n",
       "      <td>11/12/2020</td>\n",
       "      <td>11</td>\n",
       "      <td>12</td>\n",
       "      <td>2020</td>\n",
       "      <td>63</td>\n",
       "      <td>10</td>\n",
       "      <td>Afghanistan</td>\n",
       "      <td>AF</td>\n",
       "      <td>AFG</td>\n",
       "      <td>38041757.0</td>\n",
       "      <td>Asia</td>\n",
       "      <td>7.134266</td>\n",
       "      <td>33.0</td>\n",
       "      <td>65.0</td>\n",
       "    </tr>\n",
       "    <tr>\n",
       "      <th>4</th>\n",
       "      <td>10/12/2020</td>\n",
       "      <td>10</td>\n",
       "      <td>12</td>\n",
       "      <td>2020</td>\n",
       "      <td>202</td>\n",
       "      <td>16</td>\n",
       "      <td>Afghanistan</td>\n",
       "      <td>AF</td>\n",
       "      <td>AFG</td>\n",
       "      <td>38041757.0</td>\n",
       "      <td>Asia</td>\n",
       "      <td>6.968658</td>\n",
       "      <td>33.0</td>\n",
       "      <td>65.0</td>\n",
       "    </tr>\n",
       "  </tbody>\n",
       "</table>\n",
       "</div>"
      ],
      "text/plain": [
       "      dateRep  day  month  year  cases  deaths countriesAndTerritories geoId  \\\n",
       "0  14/12/2020   14     12  2020    746       6             Afghanistan    AF   \n",
       "1  13/12/2020   13     12  2020    298       9             Afghanistan    AF   \n",
       "2  12/12/2020   12     12  2020    113      11             Afghanistan    AF   \n",
       "3  11/12/2020   11     12  2020     63      10             Afghanistan    AF   \n",
       "4  10/12/2020   10     12  2020    202      16             Afghanistan    AF   \n",
       "\n",
       "  countryterritoryCode  popData2019 continentExp  CumulativeRate   Lat  Long  \n",
       "0                  AFG   38041757.0         Asia        9.013779  33.0  65.0  \n",
       "1                  AFG   38041757.0         Asia        7.052776  33.0  65.0  \n",
       "2                  AFG   38041757.0         Asia        6.868768  33.0  65.0  \n",
       "3                  AFG   38041757.0         Asia        7.134266  33.0  65.0  \n",
       "4                  AFG   38041757.0         Asia        6.968658  33.0  65.0  "
      ]
     },
     "execution_count": 5,
     "metadata": {},
     "output_type": "execute_result"
    }
   ],
   "source": [
    "import pandas as pd\n",
    "from datetime import datetime\n",
    "import warnings\n",
    "warnings.filterwarnings('ignore')\n",
    "\n",
    "covid = pd.read_csv('covid_19_2020.csv', sep = ';')\n",
    "covid.head(5)"
   ]
  },
  {
   "attachments": {},
   "cell_type": "markdown",
   "metadata": {},
   "source": [
    "Nos quedamos con los datos para España"
   ]
  },
  {
   "cell_type": "code",
   "execution_count": null,
   "metadata": {},
   "outputs": [],
   "source": [
    "spain = covid[covid['countriesAndTerritories'] == 'Spain']\n",
    "spain['Date'] = spain['dateRep'].apply(lambda x: datetime.strptime(x,\"%d/%m/%Y\"))\n",
    "spain = spain.sort_values('Date')\n",
    "spain.set_index('Date', inplace = True)\n",
    "spain.head(20)"
   ]
  },
  {
   "cell_type": "code",
   "execution_count": null,
   "metadata": {},
   "outputs": [],
   "source": [
    "x_values = spain.index\n",
    "y_values = spain.CumulativeRate\n",
    "plt.plot(x_values, y_values)"
   ]
  },
  {
   "attachments": {},
   "cell_type": "markdown",
   "metadata": {},
   "source": [
    "Comparamos la evolución de España con Italia"
   ]
  },
  {
   "cell_type": "code",
   "execution_count": null,
   "metadata": {
    "scrolled": true
   },
   "outputs": [],
   "source": [
    "italy = covid[covid['countriesAndTerritories'] == 'Italy']\n",
    "italy['Date'] = italy['dateRep'].apply(lambda x: datetime.strptime(x,\"%d/%m/%Y\"))\n",
    "italy = italy.sort_values('Date')\n",
    "italy.set_index('Date', inplace = True)\n",
    "italy.head(20)"
   ]
  },
  {
   "cell_type": "code",
   "execution_count": null,
   "metadata": {},
   "outputs": [],
   "source": [
    "# Definimos primero una serie y luego la segunda\n",
    "# --\n",
    "\n",
    "# Primera serie\n",
    "x_values = spain.index\n",
    "y_values = spain.CumulativeRate\n",
    "plt.plot(x_values, y_values,'o-', color = (216/255, 69/255, 25/255), alpha = 0.3, linewidth=5, markersize=10)\n",
    "\n",
    "# Segunda serie\n",
    "x_values = italy.index\n",
    "y_values = italy.CumulativeRate\n",
    "plt.plot(x_values, y_values,'*-g', alpha = 0.5, linewidth=3, markersize=10)\n",
    "\n",
    "# Terminamos\n",
    "plt.show()"
   ]
  },
  {
   "attachments": {},
   "cell_type": "markdown",
   "metadata": {
    "id": "CiQrggsUN-zj"
   },
   "source": [
    "# Gráfico de columnas\n",
    "\n",
    "Su implementación es muy sencilla y prácticamente igual que el gráfico de línea"
   ]
  },
  {
   "cell_type": "code",
   "execution_count": null,
   "metadata": {
    "id": "5qpdupnmOM1J"
   },
   "outputs": [],
   "source": [
    "# --\n",
    "# Definimos los datos\n",
    "# --\n",
    "eje_x_col1 = [1, 3, 4, 5, 6, 7, 9]\n",
    "eje_y_col1 = [4, 7, 2, 4, 7, 8, 3]"
   ]
  },
  {
   "attachments": {},
   "cell_type": "markdown",
   "metadata": {
    "id": "dUf957N5Oo76"
   },
   "source": [
    "Ahora, llamamos a la función`.bar` la cual va a recibir los siguientes argumentos:\n",
    "\n",
    "\n",
    "*   `x`: Eje X\n",
    "*   `heigth`: Altura de las columnas\n",
    "*   `width`: Ancho de las columnas. Opcional\n",
    "*   `bottom`: Número inicial del eje Y. Opcional \n",
    "*   `align`: Barras centradas (center) o alineadas a la izquierda (edge). Opcional\n",
    "*   Inputs de formato de las columnas. Los más usuales:\n",
    "  * `label`: Para nombrar cada serie\n",
    "  * `alpha`: Transparencia de las columnas\n",
    "  * `edgecolor`: Color del borde de las columnas\n",
    "  * `linewidth `: Ancho de línea del borde de las columnas. Poner 0 para quitarlas\n",
    "\n",
    "\n",
    "**Importante terminar siempre con el comando `plt.show()`**"
   ]
  },
  {
   "cell_type": "code",
   "execution_count": null,
   "metadata": {
    "colab": {
     "base_uri": "https://localhost:8080/",
     "height": 265
    },
    "id": "oJDXjhqHOt9C",
    "outputId": "a14aa8d6-7206-4f86-b583-46621b4f7390"
   },
   "outputs": [],
   "source": [
    "# --\n",
    "# Gráfico de columnas básico\n",
    "# --\n",
    "plt.bar(eje_x_col1, eje_y_col1)\n",
    "plt.show()"
   ]
  },
  {
   "attachments": {},
   "cell_type": "markdown",
   "metadata": {
    "id": "-eVxhJzhWMQb"
   },
   "source": [
    "**Nota**\n",
    "\n",
    "Utilizar el comando `plt.barh` para verlo en horizontal"
   ]
  },
  {
   "cell_type": "code",
   "execution_count": null,
   "metadata": {
    "colab": {
     "base_uri": "https://localhost:8080/",
     "height": 265
    },
    "id": "PfqGjqCtWXJD",
    "outputId": "5d6b7e50-996f-4dd4-c89a-b861fcee8e3d"
   },
   "outputs": [],
   "source": [
    "# --\n",
    "# Gráfico de barras formateado\n",
    "# --\n",
    "plt.barh(eje_x_col1, eje_y_col1)\n",
    "plt.show()"
   ]
  },
  {
   "attachments": {},
   "cell_type": "markdown",
   "metadata": {
    "id": "Sk8vl-zbSveQ"
   },
   "source": [
    "Directamente, formateamos el gráfico."
   ]
  },
  {
   "cell_type": "code",
   "execution_count": 6,
   "metadata": {
    "colab": {
     "base_uri": "https://localhost:8080/",
     "height": 265
    },
    "id": "6F_Q1KExSzbI",
    "outputId": "31cc159d-f7ff-40b7-8339-b32cc75ac614"
   },
   "outputs": [
    {
     "ename": "NameError",
     "evalue": "name 'eje_x_col1' is not defined",
     "output_type": "error",
     "traceback": [
      "\u001b[0;31m---------------------------------------------------------------------------\u001b[0m",
      "\u001b[0;31mNameError\u001b[0m                                 Traceback (most recent call last)",
      "Cell \u001b[0;32mIn[6], line 4\u001b[0m\n\u001b[1;32m      1\u001b[0m \u001b[39m# --\u001b[39;00m\n\u001b[1;32m      2\u001b[0m \u001b[39m# Gráfico de barras formateado\u001b[39;00m\n\u001b[1;32m      3\u001b[0m \u001b[39m# --\u001b[39;00m\n\u001b[0;32m----> 4\u001b[0m plt\u001b[39m.\u001b[39mbar(eje_x_col1, eje_y_col1, width \u001b[39m=\u001b[39m \u001b[39m0.7\u001b[39m, bottom \u001b[39m=\u001b[39m \u001b[39m1\u001b[39m, align \u001b[39m=\u001b[39m \u001b[39m'\u001b[39m\u001b[39mcenter\u001b[39m\u001b[39m'\u001b[39m,\n\u001b[1;32m      5\u001b[0m         color \u001b[39m=\u001b[39m (\u001b[39m216\u001b[39m\u001b[39m/\u001b[39m\u001b[39m255\u001b[39m,\u001b[39m69\u001b[39m\u001b[39m/\u001b[39m\u001b[39m255\u001b[39m,\u001b[39m25\u001b[39m\u001b[39m/\u001b[39m\u001b[39m255\u001b[39m), \n\u001b[1;32m      6\u001b[0m         label \u001b[39m=\u001b[39m \u001b[39m'\u001b[39m\u001b[39mBarras 1\u001b[39m\u001b[39m'\u001b[39m, \n\u001b[1;32m      7\u001b[0m         edgecolor \u001b[39m=\u001b[39m \u001b[39m'\u001b[39m\u001b[39mb\u001b[39m\u001b[39m'\u001b[39m, \n\u001b[1;32m      8\u001b[0m         linewidth \u001b[39m=\u001b[39m \u001b[39m10\u001b[39m, \n\u001b[1;32m      9\u001b[0m         alpha \u001b[39m=\u001b[39m \u001b[39m0.3\u001b[39m)\n\u001b[1;32m     10\u001b[0m plt\u001b[39m.\u001b[39mshow()\n",
      "\u001b[0;31mNameError\u001b[0m: name 'eje_x_col1' is not defined"
     ]
    }
   ],
   "source": [
    "# --\n",
    "# Gráfico de barras formateado\n",
    "# --\n",
    "plt.bar(eje_x_col1, eje_y_col1, width = 0.7, bottom = 1, align = 'center',\n",
    "        color = (216/255,69/255,25/255), \n",
    "        label = 'Barras 1', \n",
    "        edgecolor = 'b', \n",
    "        linewidth = 10, \n",
    "        alpha = 0.3)\n",
    "plt.show()"
   ]
  },
  {
   "attachments": {},
   "cell_type": "markdown",
   "metadata": {
    "id": "xQyU7Ul4ZKxR"
   },
   "source": [
    "Si queremos 2 series, al igual que en el gráfico de líneas, es suficiente con parametrizar ambas una detrás de otra y graficar."
   ]
  },
  {
   "cell_type": "code",
   "execution_count": null,
   "metadata": {
    "colab": {
     "base_uri": "https://localhost:8080/",
     "height": 265
    },
    "id": "bUl0rrPgZP8D",
    "outputId": "381cfc88-d1a9-4cc5-c409-729eab28742f"
   },
   "outputs": [],
   "source": [
    "# --\n",
    "# Definimos los datos nuevos\n",
    "# --\n",
    "eje_x_col2 = [2, 4, 6, 8, 10]\n",
    "eje_y_col2 = [5, 6, 2, 6, 2]\n",
    "\n",
    "# --\n",
    "# Definimos primero una serie y luego la segunda\n",
    "# --\n",
    "\n",
    "# Primera serie\n",
    "plt.bar(eje_x_col1, eje_y_col1, width = 0.7, align = 'center',\n",
    "        color = (216/255,69/255,25/255), \n",
    "        label = 'Barras 1', \n",
    "        edgecolor = 'b', \n",
    "        linewidth = 10, \n",
    "        alpha = 0.3)\n",
    "\n",
    "# Segunda serie\n",
    "plt.bar(eje_x_col2, eje_y_col2, width = 0.3, align = 'center',\n",
    "        color = (216/255,69/255,25/255), \n",
    "        label = 'Barras 1')\n",
    "plt.show()\n",
    "# Graficamos"
   ]
  },
  {
   "attachments": {},
   "cell_type": "markdown",
   "metadata": {},
   "source": [
    "## Ejemplo COVID-19"
   ]
  },
  {
   "attachments": {},
   "cell_type": "markdown",
   "metadata": {},
   "source": [
    "Veámos la distribución de casos y muertes en el mundo por meses"
   ]
  },
  {
   "cell_type": "code",
   "execution_count": null,
   "metadata": {},
   "outputs": [],
   "source": [
    "covid_mean = covid.groupby('month', as_index = False)['cases','deaths'].sum()\n",
    "\n",
    "plt.bar(covid_mean.month, covid_mean.cases)\n",
    "plt.bar(covid_mean.month, covid_mean.deaths*10) # Para cambiar rápidamente de escala, multiplicamos por 10\n",
    "\n",
    "plt.show()"
   ]
  },
  {
   "attachments": {},
   "cell_type": "markdown",
   "metadata": {
    "id": "zqmwVYbbXHCz"
   },
   "source": [
    "# Histograma\n",
    "\n",
    "Veremos la manera práctica de crear un histograma de cero."
   ]
  },
  {
   "cell_type": "code",
   "execution_count": null,
   "metadata": {
    "colab": {
     "base_uri": "https://localhost:8080/",
     "height": 265
    },
    "id": "2Cv_Fk55XLUU",
    "outputId": "88bd21b3-8cee-4371-971a-06f0c0c303c7"
   },
   "outputs": [],
   "source": [
    "# --\n",
    "# Definimos el set de datos\n",
    "# --\n",
    "import numpy as np\n",
    "n = np.random.randn(1000)\n",
    "m = [m for m in range(len(n))]\n",
    "\n",
    "# --\n",
    "# Primera aproximación: ver los datos con gráfico de columnas\n",
    "# --\n",
    "plt.bar(m,n)\n",
    "plt.show()"
   ]
  },
  {
   "attachments": {},
   "cell_type": "markdown",
   "metadata": {
    "id": "uZCTQXgGX88u"
   },
   "source": [
    "Para utilizar la función `.hist` necesitamos definir los siguientes argumentos:\n",
    "\n",
    "\n",
    "*   `x`: Valores\n",
    "*   `bins`: Número de elementos en el eje x. Opcional\n",
    "*   `cumulative`: Frecuencias acumuladas. Opcional\n",
    "\n",
    "El resto de parámetros son muy aprecidos a los ya vistos hasta este punto de la documentación\n",
    "\n"
   ]
  },
  {
   "cell_type": "code",
   "execution_count": null,
   "metadata": {
    "colab": {
     "base_uri": "https://localhost:8080/",
     "height": 265
    },
    "id": "3FcwgW7FYGZY",
    "outputId": "d1ea52ff-743c-4ceb-df2f-9cc038707564"
   },
   "outputs": [],
   "source": [
    "# --\n",
    "# Creamos el histograma con 20 representantes\n",
    "# --\n",
    "plt.hist(n, bins = 20)\n",
    "plt.show()"
   ]
  },
  {
   "cell_type": "code",
   "execution_count": null,
   "metadata": {
    "colab": {
     "base_uri": "https://localhost:8080/",
     "height": 265
    },
    "id": "7o2aUjzxY4tk",
    "outputId": "9a88ad47-42d3-497d-eff6-53e727db88d4"
   },
   "outputs": [],
   "source": [
    "# --\n",
    "# Creamos el histograma acumulado con 20 representantes\n",
    "# --\n",
    "plt.hist(n, bins = 20, cumulative = True)\n",
    "plt.show()"
   ]
  },
  {
   "attachments": {},
   "cell_type": "markdown",
   "metadata": {
    "id": "IwRJfXHIZ5K0"
   },
   "source": [
    "# Diagrama de puntos\n",
    "Veremos la manera práctica de crear un diagrama de puntos (scatter plot) desde cero."
   ]
  },
  {
   "cell_type": "code",
   "execution_count": null,
   "metadata": {
    "id": "DAUmds12aAFI"
   },
   "outputs": [],
   "source": [
    "# --\n",
    "# Definimos los datos\n",
    "# --\n",
    "x1 = [2, 3, 4]\n",
    "y1 = [5, 5, 5]\n",
    "\n",
    "x2 = [1, 2, 3, 4, 5]\n",
    "y2 = [2, 3, 2, 3, 4]"
   ]
  },
  {
   "attachments": {},
   "cell_type": "markdown",
   "metadata": {
    "id": "A2RXUIoPaHjE"
   },
   "source": [
    "Para utilizar la función `.scatter` necesitamos definir los siguientes argumentos:\n",
    "\n",
    "\n",
    "*   `x`: Valores del eje x\n",
    "*   `y`: Valores del eje y\n",
    "\n",
    "En cuanto a los argumentos opcionales, los más usuales son:\n",
    "\n",
    "*    `s`: Tamaño\n",
    "*    `c`: Color\n",
    "*    `marker`: Formato del punto\n",
    "*   `alpha`: Transparencia\n",
    "\n"
   ]
  },
  {
   "cell_type": "code",
   "execution_count": null,
   "metadata": {
    "colab": {
     "base_uri": "https://localhost:8080/",
     "height": 265
    },
    "id": "3cZ1xZw-aHSL",
    "outputId": "eedc2578-e5b6-4eea-a62d-93ea498a13e8"
   },
   "outputs": [],
   "source": [
    "# --\n",
    "# Creamos uno sencillo\n",
    "# --\n",
    "plt.scatter(x1,y1)\n",
    "plt.show()"
   ]
  },
  {
   "attachments": {},
   "cell_type": "markdown",
   "metadata": {
    "id": "-yiZg_Gra6P9"
   },
   "source": [
    "Ahora, crearemos el gráfico para dos series de datos y les daremos formato"
   ]
  },
  {
   "cell_type": "code",
   "execution_count": null,
   "metadata": {
    "colab": {
     "base_uri": "https://localhost:8080/",
     "height": 265
    },
    "id": "WqqevyJTa-bc",
    "outputId": "ba136d78-aa02-4e7f-d504-e29d84a35d3c"
   },
   "outputs": [],
   "source": [
    "# --\n",
    "# Primera serie\n",
    "# --\n",
    "plt.scatter(x1, y1, marker='v', color=(216/255,69/255,16/255))\n",
    "\n",
    "# --\n",
    "# Segunda serie\n",
    "# --\n",
    "plt.scatter(x2, y2, marker='^', color='m')\n",
    "\n",
    "# --\n",
    "# Graficamos\n",
    "# --\n",
    "plt.show()"
   ]
  },
  {
   "attachments": {},
   "cell_type": "markdown",
   "metadata": {
    "id": "bQuGqMWYcYtb"
   },
   "source": [
    "# Gráfico de tarta\n",
    "Veremos la forma sencilla de crear un gráfico de tarta de cero"
   ]
  },
  {
   "cell_type": "code",
   "execution_count": null,
   "metadata": {
    "id": "C2xyGkyIceBd"
   },
   "outputs": [],
   "source": [
    "# --\n",
    "# Definimos los datos\n",
    "# --\n",
    "etiquetas = 'S1', 'S2', 'S3'\n",
    "valores = [56, 66, 24]\n",
    "colores = ['c', 'g', 'y']"
   ]
  },
  {
   "attachments": {},
   "cell_type": "markdown",
   "metadata": {
    "id": "nnpC5qK6ck1N"
   },
   "source": [
    "Usamos la función `.pie` en la cual tenemos que informar de:\n",
    "\n",
    "\n",
    "*   `x`: Valores del gráfico. Se mostrarán en porcentaje\n",
    "*   `labels`: Etiquetas. Opcional\n",
    "*   'colors`: Colores. Opcional\n",
    "*   `explode`: Separación. Opcional\n",
    "*   `autopct`: Formato del porcentaje. Opcional\n",
    "\n",
    "\n"
   ]
  },
  {
   "cell_type": "code",
   "execution_count": null,
   "metadata": {
    "colab": {
     "base_uri": "https://localhost:8080/",
     "height": 248
    },
    "id": "cmkfpm7ocqUW",
    "outputId": "dff1f630-e262-4ac0-a7f6-f092de35581f"
   },
   "outputs": [],
   "source": [
    "# --\n",
    "# Creamos un gráfico sencillo\n",
    "# --\n",
    "plt.pie(valores)\n",
    "plt.show()"
   ]
  },
  {
   "attachments": {},
   "cell_type": "markdown",
   "metadata": {
    "id": "S3PMYFjxdIQb"
   },
   "source": [
    "Damos formato"
   ]
  },
  {
   "cell_type": "code",
   "execution_count": null,
   "metadata": {
    "colab": {
     "base_uri": "https://localhost:8080/",
     "height": 248
    },
    "id": "6Ltii3uedJK-",
    "outputId": "234e054a-cac1-4d06-9eef-fcbac4a610fc"
   },
   "outputs": [],
   "source": [
    "# --\n",
    "# Formateamos el gráfico en base a los valores dados anteriormente\n",
    "# --\n",
    "plt.pie(x = valores,\n",
    "        explode = (0,0.1,0),\n",
    "        labels = etiquetas, \n",
    "        colors = colores, \n",
    "        autopct = '%1.2f%%')\n",
    "plt.show()"
   ]
  },
  {
   "attachments": {},
   "cell_type": "markdown",
   "metadata": {
    "id": "K0sNQu8QbemN"
   },
   "source": [
    "# Stack Plot\n",
    "Para un gráfico de paneles solapados, usaremos la función `stackplot`."
   ]
  },
  {
   "cell_type": "code",
   "execution_count": null,
   "metadata": {
    "id": "pDc8Vet-blu5"
   },
   "outputs": [],
   "source": [
    "# --\n",
    "# Definimos los datos\n",
    "# --\n",
    "eje_x_stack = [ 1,  2,  3,  4,  5,  6,  7,  8,  9]\n",
    "serie_1  = [23, 40, 28, 43,  8, 44, 43, 18, 17]\n",
    "serie_2  = [17, 30, 22, 14, 17, 17, 29, 22, 30]\n",
    "serie_3  = [15, 31, 18, 22, 18, 19, 13, 32, 39]"
   ]
  },
  {
   "attachments": {},
   "cell_type": "markdown",
   "metadata": {
    "id": "9YyTaWwcbvok"
   },
   "source": [
    "Para graficar, es tan sencillo como poner en el primer argumento los valores del eje x y luego ir añadiendo el resto de series."
   ]
  },
  {
   "cell_type": "code",
   "execution_count": null,
   "metadata": {
    "colab": {
     "base_uri": "https://localhost:8080/",
     "height": 265
    },
    "id": "7dOnqu6Eb182",
    "outputId": "8162a8f0-0a00-4d1f-9a61-b0e91b4c1032"
   },
   "outputs": [],
   "source": [
    "# --\n",
    "# Gráfico de paneles\n",
    "# --\n",
    "plt.stackplot(eje_x_stack, serie_1, serie_2, serie_3)\n",
    "plt.show()"
   ]
  },
  {
   "attachments": {},
   "cell_type": "markdown",
   "metadata": {
    "id": "6SDRY-m7eGP4"
   },
   "source": [
    "# Rellenar entre dos series\n",
    "\n",
    "Alguna vez, para hacer gráficos más completos, usaremos el comando que se ve a continuación para rellenar con un color dos series de datos."
   ]
  },
  {
   "cell_type": "code",
   "execution_count": null,
   "metadata": {
    "id": "Y1hh6ZXdeQrN"
   },
   "outputs": [],
   "source": [
    "# --\n",
    "# Definimos los datos\n",
    "# --\n",
    "\n",
    "eje_x = [1,2,3,4,5,6,7,8,9,10]\n",
    "eje_y1 = np.sin(eje_x)\n",
    "eje_a1 = [0.5,0.5,0.5,0.5,0.5,0.5,0.5,0.5,0.5,0.5,]\n",
    "eje_a2 = [-0.5,-0.5,-0.5,-0.5,-0.5,-0.5,-0.5,-0.5,-0.5,-0.5,]"
   ]
  },
  {
   "attachments": {},
   "cell_type": "markdown",
   "metadata": {
    "id": "5bZ4U4hPer77"
   },
   "source": [
    "Creamos el gráfico de línea con la primera serie y luego, antes de graficar, usaremos el comando `.fill_between` para definir las dos bandas y su color."
   ]
  },
  {
   "cell_type": "code",
   "execution_count": null,
   "metadata": {
    "colab": {
     "base_uri": "https://localhost:8080/",
     "height": 265
    },
    "id": "y56A-FEre1UK",
    "outputId": "65eb2ec2-9f31-47b0-e223-20e98dd16c82"
   },
   "outputs": [],
   "source": [
    "# --\n",
    "# Graficamos la línea de la serie 1\n",
    "# --\n",
    "plt.plot(eje_x, eje_y1, color = (18/255, 75/255, 87/255))\n",
    "\n",
    "# --\n",
    "# Usamos el comando .fill_between\n",
    "# --\n",
    "plt.fill_between(eje_x, eje_a1, eje_a2, color = (255/255, 220/255, 208/255), alpha=0.5)\n",
    "\n",
    "# --\n",
    "# Graficamos\n",
    "# --\n",
    "plt.show()"
   ]
  },
  {
   "attachments": {},
   "cell_type": "markdown",
   "metadata": {
    "id": "q8w1m8TPgGO1"
   },
   "source": [
    "# Subplots\n",
    "Es muy frecuente querer mostrar 2 gráficos en una misma sección. Para ello, usamos el comando `.subplot2grid`"
   ]
  },
  {
   "cell_type": "code",
   "execution_count": null,
   "metadata": {
    "id": "NvC1Q3vRgUt6"
   },
   "outputs": [],
   "source": [
    "# --\n",
    "# Definimos los datos\n",
    "# --\n",
    "eje_x = [1,2,3,4,5,6,7,8,9,10]\n",
    "\n",
    "eje_y1 = [np.random.randint(10) for i in range(10)]\n",
    "eje_y2 = [np.random.randint(10) for i in range(10)]\n",
    "eje_y3 = [np.random.randint(10) for i in range(10)]\n",
    "eje_y4 = [np.random.randint(10) for i in range(10)]"
   ]
  },
  {
   "attachments": {},
   "cell_type": "markdown",
   "metadata": {
    "id": "0EZgR6VRhFys"
   },
   "source": [
    "Inputs de la función `.subplot2grid`:\n",
    "\n",
    "\n",
    "*   `shape`: Tamaño del grid completo. Tupla de 2 elementos eneteros.\n",
    "*   `loc`: Localización del gráfico en cuestión\n",
    "*   `rowspan`: Número de filas que ocupa este gráfico\n",
    "*   `colspan`: Número de columnas que ocupa este gráfico\n",
    "\n",
    "Primero se define una variable y luego se utiliza el comando `.plot`(por ejemplo) sobre cada uno de ellos.\n",
    "\n"
   ]
  },
  {
   "cell_type": "code",
   "execution_count": null,
   "metadata": {
    "colab": {
     "base_uri": "https://localhost:8080/",
     "height": 265
    },
    "id": "aB_M39MpgnpP",
    "outputId": "705f6557-683c-4b6a-b320-90386496e43b"
   },
   "outputs": [],
   "source": [
    "# --\n",
    "# Primero definimos el grid de los gráficos\n",
    "# --\n",
    "ax1 = plt.subplot2grid((5,2),(0,0), rowspan = 1, colspan = 2)\n",
    "ax2 = plt.subplot2grid((5,2),(1,0), rowspan = 3, colspan = 2)\n",
    "ax3 = plt.subplot2grid((5,2),(4,0), rowspan = 1, colspan = 1)\n",
    "ax4 = plt.subplot2grid((5,2),(4,1), rowspan = 1, colspan = 1)\n",
    "\n",
    "# --\n",
    "# Definimos el plot que queremos\n",
    "# --\n",
    "ax1.plot(eje_x,eje_y1)\n",
    "ax2.bar(eje_x,eje_y2)\n",
    "ax3.plot(eje_x,eje_y3)\n",
    "ax4.plot(eje_x,eje_y4)\n",
    "\n",
    "# --\n",
    "# Graficamos\n",
    "# --\n",
    "plt.show()"
   ]
  },
  {
   "attachments": {},
   "cell_type": "markdown",
   "metadata": {
    "id": "S_eDI6p-iufH"
   },
   "source": [
    "#Formatear el gráfico\n",
    "Lo que queda por mostrar es cómo poder dar formato al propio gráfico. Lo haremos sobre el gráfico de línea, por ejemplo."
   ]
  },
  {
   "cell_type": "code",
   "execution_count": null,
   "metadata": {
    "colab": {
     "base_uri": "https://localhost:8080/",
     "height": 265
    },
    "id": "7E8gwO3ni2qg",
    "outputId": "86c4018c-5ae7-46ba-fdba-52a2400e15cb"
   },
   "outputs": [],
   "source": [
    "# --\n",
    "# Definimos los datos\n",
    "# --\n",
    "eje_x = [1, 2, 3, 4, 5, 6, 7, 8, 9]\n",
    "eje_y = [1, 3, 5, 3, 1, 3, 5, 3, 1]\n",
    "\n",
    "eje_x_bis = eje_x\n",
    "eje_y_bis = np.sin(eje_y)\n",
    "\n",
    "# --\n",
    "# Definimos primero una serie y luego la segunda\n",
    "# --\n",
    "\n",
    "# Primera serie\n",
    "plt.plot(eje_x, eje_y,'o--', color = (216/255, 69/255, 25/255), alpha = 0.3, linewidth=5, markersize=15, label = 'Línea 1')\n",
    "\n",
    "# Segunda serie\n",
    "plt.plot(eje_x_bis, eje_y_bis,'*-g', alpha = 0.5, linewidth=3, markersize=10, label = 'Línea 2')\n",
    "\n",
    "# Terminamos\n",
    "plt.show()"
   ]
  },
  {
   "attachments": {},
   "cell_type": "markdown",
   "metadata": {
    "id": "tjZAROeRi9Qh"
   },
   "source": [
    "Ahora, mostramos cómo poder dar un formato más completo al conjunto del gráfico:\n",
    "\n",
    "\n",
    "*   `plt.legend`: Muestra la leyenda. Se puede formatear\n",
    "*   `plt.title`: Se introduce un input que será el título del gráfico. Se puede formatear.\n",
    "*   `plt.xlim`: Define los límites del eje x\n",
    "*   `plt.xlabel`: Etiqueta del eje x\n",
    "*   `plt.ylabel`: Etiqueta del eje y\n",
    "*   `plt.annotations`: Etiqueta de un valor. Más documentación [aquí](https://matplotlib.org/3.1.1/tutorials/text/annotations.html).\n",
    "*   `plt.grid`: Grid del gráfico.\n",
    "*   `plt.xticks`: Formatear el eje X\n",
    "\n",
    "Más información de las propiedades de gráficos en el [link](https://matplotlib.org/3.1.1/api/_as_gen/matplotlib.pyplot.html).\n",
    "\n"
   ]
  },
  {
   "cell_type": "code",
   "execution_count": null,
   "metadata": {
    "colab": {
     "base_uri": "https://localhost:8080/",
     "height": 326
    },
    "id": "uFOa4xbbj8jI",
    "outputId": "42e849e3-e8d2-48a1-99b0-876ca3693b54"
   },
   "outputs": [],
   "source": [
    "# --\n",
    "# Definimos los datos\n",
    "# --\n",
    "eje_x = [1, 2, 3, 4, 5, 6, 7, 8, 9]\n",
    "eje_y = [1, 3, 5, 3, 1, 3, 5, 3, 1]\n",
    "\n",
    "eje_x_bis = eje_x\n",
    "eje_y_bis = np.sin(eje_y)\n",
    "\n",
    "# --\n",
    "# Definimos primero una serie y luego la segunda\n",
    "# --\n",
    "\n",
    "# Primera serie\n",
    "plt.plot(eje_x, eje_y,'o--', color = (216/255, 69/255, 25/255), alpha = 0.3, linewidth=5, markersize=15, label = 'Línea 1')\n",
    "\n",
    "# Segunda serie\n",
    "plt.plot(eje_x_bis, eje_y_bis,'*-g', alpha = 0.5, linewidth=3, markersize=10, label = 'Línea 2')\n",
    "\n",
    "#--\n",
    "# Incorporamos leyenda\n",
    "# --\n",
    "plt.legend(frameon=True, loc=1, ncol=1, fontsize=10, borderpad=.6)\n",
    "\n",
    "# --\n",
    "# Incorporamos el título\n",
    "# --\n",
    "plt.title('Ejemplo de dos líneas', fontSize=15)\n",
    "\n",
    "# --\n",
    "# Ajustamos el eje X\n",
    "# --\n",
    "plt.xlim(0,10)\n",
    "\n",
    "# --\n",
    "# Etiqueta de los ejes\n",
    "# --\n",
    "plt.xlabel('eje X', fontSize=12)\n",
    "plt.ylabel('eje Y', fontSize=12)\n",
    "\n",
    "\n",
    "# --\n",
    "# Anotamos un dato\n",
    "# --\n",
    "plt.annotate('Ejemplo', xy=(2, 0), xytext=(3, 0.5),\n",
    "            arrowprops=dict(facecolor='black', shrink=0.05),\n",
    "            )\n",
    "\n",
    "# --\n",
    "# Aplicamos el grid\n",
    "# --\n",
    "plt.grid(which = 'both',alpha = 0.3)\n",
    "\n",
    "# --\n",
    "# Formateamos el eje X\n",
    "# --\n",
    "plt.xticks(np.arange(10), ('Cero', 'Uno', 'Dos', 'Tres', 'Cuatro', 'Cinco', 'Seis', 'Siete', 'Ocho', 'Nueve'), rotation=70)\n",
    "\n",
    "# Terminamos\n",
    "plt.show()"
   ]
  },
  {
   "attachments": {},
   "cell_type": "markdown",
   "metadata": {},
   "source": [
    "## Ejemplo COVID-19"
   ]
  },
  {
   "cell_type": "code",
   "execution_count": null,
   "metadata": {},
   "outputs": [],
   "source": [
    "# Definimos primero una serie y luego la segunda\n",
    "# --\n",
    "\n",
    "# Primera serie\n",
    "x_values = spain.index\n",
    "y_values = spain.CumulativeRate\n",
    "plt.plot(x_values, y_values,'o-', color = (216/255, 69/255, 25/255), alpha = 0.3, linewidth=5, markersize=10, label = 'España')\n",
    "\n",
    "# Segunda serie\n",
    "x_values2 = italy.index\n",
    "y_values2 = italy.CumulativeRate\n",
    "plt.plot(x_values2, y_values2,'*-g', alpha = 0.5, linewidth=3, markersize=10, label = 'Italia')\n",
    "\n",
    "#--\n",
    "# Incorporamos leyenda\n",
    "# --\n",
    "plt.legend(frameon=True, loc='upper left', ncol=1, fontsize=10, borderpad=.6)\n",
    "\n",
    "# --\n",
    "# Incorporamos el título\n",
    "# --\n",
    "plt.title('Comparativa España - Italia', fontSize=15)\n",
    "\n",
    "\n",
    "# --\n",
    "# Etiqueta de los ejes\n",
    "# --\n",
    "plt.xlabel('Fecha', fontSize=12)\n",
    "plt.ylabel('Ratio de casos por 100.000 hab', fontSize=12)\n",
    "\n",
    "\n",
    "# --\n",
    "# Anotamos un dato\n",
    "# --\n",
    "plt.annotate('Máximo España', xy=(spain.loc[spain.CumulativeRate == np.nanmax(spain.CumulativeRate)].index[0],\n",
    "                               spain.loc[spain.CumulativeRate == np.nanmax(spain.CumulativeRate)].CumulativeRate[0]),\n",
    "                           xytext=(spain.loc[spain.CumulativeRate == np.nanmax(spain.CumulativeRate)].index[0],\n",
    "                               spain.loc[spain.CumulativeRate == np.nanmax(spain.CumulativeRate)].CumulativeRate[0] - 200),\n",
    "            arrowprops=dict(facecolor='black', shrink=0.05),\n",
    "            )\n",
    "\n",
    "plt.annotate('Máximo Italia', xy=(italy.loc[italy.CumulativeRate == np.nanmax(italy.CumulativeRate)].index[0],\n",
    "                               italy.loc[italy.CumulativeRate == np.nanmax(italy.CumulativeRate)].CumulativeRate[0]),\n",
    "                           xytext=(italy.loc[italy.CumulativeRate == np.nanmax(italy.CumulativeRate)].index[0],\n",
    "                               italy.loc[italy.CumulativeRate == np.nanmax(italy.CumulativeRate)].CumulativeRate[0] - 200),\n",
    "            arrowprops=dict(facecolor='black', shrink=0.05),\n",
    "            )\n",
    "\n",
    "# --\n",
    "# Aplicamos el grid\n",
    "# --\n",
    "plt.grid(which = 'both',alpha = 0.3)\n",
    "\n",
    "\n",
    "# Terminamos\n",
    "plt.show()"
   ]
  }
 ],
 "metadata": {
  "colab": {
   "collapsed_sections": [],
   "name": "Matplotlib.ipynb",
   "provenance": [],
   "toc_visible": true
  },
  "kernelspec": {
   "display_name": "Python 3",
   "language": "python",
   "name": "python3"
  },
  "language_info": {
   "codemirror_mode": {
    "name": "ipython",
    "version": 3
   },
   "file_extension": ".py",
   "mimetype": "text/x-python",
   "name": "python",
   "nbconvert_exporter": "python",
   "pygments_lexer": "ipython3",
   "version": "3.9.6"
  }
 },
 "nbformat": 4,
 "nbformat_minor": 1
}
